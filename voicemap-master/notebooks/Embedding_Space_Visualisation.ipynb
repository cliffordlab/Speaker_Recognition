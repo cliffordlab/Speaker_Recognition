{
 "cells": [
  {
   "cell_type": "markdown",
   "metadata": {},
   "source": [
    "# Imports"
   ]
  },
  {
   "cell_type": "code",
   "execution_count": 1,
   "metadata": {},
   "outputs": [
    {
     "name": "stderr",
     "output_type": "stream",
     "text": [
      "/Users/sanmathikamath/anaconda3/lib/python3.6/site-packages/h5py/__init__.py:36: FutureWarning: Conversion of the second argument of issubdtype from `float` to `np.floating` is deprecated. In future, it will be treated as `np.float64 == np.dtype(float).type`.\n",
      "  from ._conv import register_converters as _register_converters\n",
      "Using TensorFlow backend.\n"
     ]
    }
   ],
   "source": [
    "from sklearn.manifold import TSNE, MDS\n",
    "from keras.models import load_model\n",
    "from IPython.display import SVG, Audio, display\n",
    "from keras.utils.vis_utils import model_to_dot\n",
    "import numpy as np\n",
    "import matplotlib.pyplot as plt\n",
    "import librosa"
   ]
  },
  {
   "cell_type": "code",
   "execution_count": 2,
   "metadata": {},
   "outputs": [],
   "source": [
    "import sys\n",
    "sys.path.append('../voicemap/')\n",
    "sys.path.append('../')\n",
    "from librispeech import LibriSpeechDataset\n",
    "from utils import whiten, contrastive_loss\n",
    "from config import LIBRISPEECH_SAMPLING_RATE\n",
    "from voicemap.models import get_baseline_convolutional_encoder, build_siamese_net\n",
    "from keras.optimizers import Adam"
   ]
  },
  {
   "cell_type": "markdown",
   "metadata": {},
   "source": [
    "# Load and visualise pretrained model"
   ]
  },
  {
   "cell_type": "code",
   "execution_count": 3,
   "metadata": {},
   "outputs": [],
   "source": [
    "#model_path = '../models/n_seconds/siamese__nseconds_3.0__filters_32__embed_64__drop_0.05__r_0.hdf5'\n",
    "#model_path = '../models/siamese__filters_128__embed_64__drop_0.0__pad=True.hdf5'\n",
    "#model_path = '../models_few_spkrs/siamese__filters_128__embed_64__drop_0.0__pad=True.hdf5'\n",
    "#model_path = '../model_e35/siamese__filters_128__embed_64__drop_0.0__pad=True.hdf5'\n",
    "n_seconds = 3\n",
    "downsampling = 4\n",
    "batchsize = 64\n",
    "filters = 128\n",
    "embedding_dimension = 64\n",
    "dropout = 0.0\n",
    "input_length = int(LIBRISPEECH_SAMPLING_RATE * n_seconds / downsampling)\n"
   ]
  },
  {
   "cell_type": "code",
   "execution_count": 4,
   "metadata": {},
   "outputs": [
    {
     "name": "stdout",
     "output_type": "stream",
     "text": [
      "WARNING:tensorflow:From /Users/sanmathikamath/anaconda3/lib/python3.6/site-packages/tensorflow/python/framework/op_def_library.py:263: colocate_with (from tensorflow.python.framework.ops) is deprecated and will be removed in a future version.\n",
      "Instructions for updating:\n",
      "Colocations handled automatically by placer.\n"
     ]
    }
   ],
   "source": [
    "encoder = get_baseline_convolutional_encoder(filters, embedding_dimension, dropout=dropout)\n",
    "siamese = build_siamese_net(encoder, (input_length, 1), distance_metric='uniform_euclidean')\n",
    "opt = Adam(clipnorm=1.)\n",
    "siamese.compile(loss='binary_crossentropy', optimizer=opt, metrics=['accuracy'])\n",
    "#siamese = load_model(model_path)\n",
    "siamese.load_weights('../all_models/model_e35/weights.hdf5')"
   ]
  },
  {
   "cell_type": "code",
   "execution_count": 5,
   "metadata": {
    "scrolled": false
   },
   "outputs": [
    {
     "data": {
      "image/svg+xml": [
       "<svg height=\"377pt\" viewBox=\"0.00 0.00 617.68 377.00\" width=\"618pt\" xmlns=\"http://www.w3.org/2000/svg\" xmlns:xlink=\"http://www.w3.org/1999/xlink\">\n",
       "<g class=\"graph\" id=\"graph0\" transform=\"scale(1 1) rotate(0) translate(4 373)\">\n",
       "<title>G</title>\n",
       "<polygon fill=\"#ffffff\" points=\"-4,4 -4,-373 613.6797,-373 613.6797,4 -4,4\" stroke=\"transparent\"/>\n",
       "<!-- 120872485328 -->\n",
       "<g class=\"node\" id=\"node1\">\n",
       "<title>120872485328</title>\n",
       "<polygon fill=\"none\" points=\"0,-324.5 0,-368.5 295.6797,-368.5 295.6797,-324.5 0,-324.5\" stroke=\"#000000\"/>\n",
       "<text fill=\"#000000\" font-family=\"Times,serif\" font-size=\"14.00\" text-anchor=\"middle\" x=\"64.1812\" y=\"-342.3\">input_1: InputLayer</text>\n",
       "<polyline fill=\"none\" points=\"128.3623,-324.5 128.3623,-368.5 \" stroke=\"#000000\"/>\n",
       "<text fill=\"#000000\" font-family=\"Times,serif\" font-size=\"14.00\" text-anchor=\"middle\" x=\"156.1968\" y=\"-353.3\">input:</text>\n",
       "<polyline fill=\"none\" points=\"128.3623,-346.5 184.0313,-346.5 \" stroke=\"#000000\"/>\n",
       "<text fill=\"#000000\" font-family=\"Times,serif\" font-size=\"14.00\" text-anchor=\"middle\" x=\"156.1968\" y=\"-331.3\">output:</text>\n",
       "<polyline fill=\"none\" points=\"184.0313,-324.5 184.0313,-368.5 \" stroke=\"#000000\"/>\n",
       "<text fill=\"#000000\" font-family=\"Times,serif\" font-size=\"14.00\" text-anchor=\"middle\" x=\"239.8555\" y=\"-353.3\">(None, 12000, 1)</text>\n",
       "<polyline fill=\"none\" points=\"184.0313,-346.5 295.6797,-346.5 \" stroke=\"#000000\"/>\n",
       "<text fill=\"#000000\" font-family=\"Times,serif\" font-size=\"14.00\" text-anchor=\"middle\" x=\"239.8555\" y=\"-331.3\">(None, 12000, 1)</text>\n",
       "</g>\n",
       "<!-- 120872485272 -->\n",
       "<g class=\"node\" id=\"node3\">\n",
       "<title>120872485272</title>\n",
       "<polygon fill=\"none\" points=\"144.5586,-243.5 144.5586,-287.5 465.1211,-287.5 465.1211,-243.5 144.5586,-243.5\" stroke=\"#000000\"/>\n",
       "<text fill=\"#000000\" font-family=\"Times,serif\" font-size=\"14.00\" text-anchor=\"middle\" x=\"221.1812\" y=\"-261.3\">sequential_1: Sequential</text>\n",
       "<polyline fill=\"none\" points=\"297.8037,-243.5 297.8037,-287.5 \" stroke=\"#000000\"/>\n",
       "<text fill=\"#000000\" font-family=\"Times,serif\" font-size=\"14.00\" text-anchor=\"middle\" x=\"325.6382\" y=\"-272.3\">input:</text>\n",
       "<polyline fill=\"none\" points=\"297.8037,-265.5 353.4727,-265.5 \" stroke=\"#000000\"/>\n",
       "<text fill=\"#000000\" font-family=\"Times,serif\" font-size=\"14.00\" text-anchor=\"middle\" x=\"325.6382\" y=\"-250.3\">output:</text>\n",
       "<polyline fill=\"none\" points=\"353.4727,-243.5 353.4727,-287.5 \" stroke=\"#000000\"/>\n",
       "<text fill=\"#000000\" font-family=\"Times,serif\" font-size=\"14.00\" text-anchor=\"middle\" x=\"409.2969\" y=\"-272.3\">(None, 12000, 1)</text>\n",
       "<polyline fill=\"none\" points=\"353.4727,-265.5 465.1211,-265.5 \" stroke=\"#000000\"/>\n",
       "<text fill=\"#000000\" font-family=\"Times,serif\" font-size=\"14.00\" text-anchor=\"middle\" x=\"409.2969\" y=\"-250.3\">(None, 64)</text>\n",
       "</g>\n",
       "<!-- 120872485328&#45;&gt;120872485272 -->\n",
       "<g class=\"edge\" id=\"edge1\">\n",
       "<title>120872485328-&gt;120872485272</title>\n",
       "<path d=\"M190.7408,-324.3664C209.9515,-314.4551 232.771,-302.682 252.9354,-292.2787\" fill=\"none\" stroke=\"#000000\"/>\n",
       "<polygon fill=\"#000000\" points=\"254.7086,-295.3023 261.9908,-287.6068 251.499,-289.0814 254.7086,-295.3023\" stroke=\"#000000\"/>\n",
       "</g>\n",
       "<!-- 120872537112 -->\n",
       "<g class=\"node\" id=\"node2\">\n",
       "<title>120872537112</title>\n",
       "<polygon fill=\"none\" points=\"314,-324.5 314,-368.5 609.6797,-368.5 609.6797,-324.5 314,-324.5\" stroke=\"#000000\"/>\n",
       "<text fill=\"#000000\" font-family=\"Times,serif\" font-size=\"14.00\" text-anchor=\"middle\" x=\"378.1812\" y=\"-342.3\">input_2: InputLayer</text>\n",
       "<polyline fill=\"none\" points=\"442.3623,-324.5 442.3623,-368.5 \" stroke=\"#000000\"/>\n",
       "<text fill=\"#000000\" font-family=\"Times,serif\" font-size=\"14.00\" text-anchor=\"middle\" x=\"470.1968\" y=\"-353.3\">input:</text>\n",
       "<polyline fill=\"none\" points=\"442.3623,-346.5 498.0313,-346.5 \" stroke=\"#000000\"/>\n",
       "<text fill=\"#000000\" font-family=\"Times,serif\" font-size=\"14.00\" text-anchor=\"middle\" x=\"470.1968\" y=\"-331.3\">output:</text>\n",
       "<polyline fill=\"none\" points=\"498.0313,-324.5 498.0313,-368.5 \" stroke=\"#000000\"/>\n",
       "<text fill=\"#000000\" font-family=\"Times,serif\" font-size=\"14.00\" text-anchor=\"middle\" x=\"553.8555\" y=\"-353.3\">(None, 12000, 1)</text>\n",
       "<polyline fill=\"none\" points=\"498.0313,-346.5 609.6797,-346.5 \" stroke=\"#000000\"/>\n",
       "<text fill=\"#000000\" font-family=\"Times,serif\" font-size=\"14.00\" text-anchor=\"middle\" x=\"553.8555\" y=\"-331.3\">(None, 12000, 1)</text>\n",
       "</g>\n",
       "<!-- 120872537112&#45;&gt;120872485272 -->\n",
       "<g class=\"edge\" id=\"edge2\">\n",
       "<title>120872537112-&gt;120872485272</title>\n",
       "<path d=\"M418.9389,-324.3664C399.7282,-314.4551 376.9087,-302.682 356.7443,-292.2787\" fill=\"none\" stroke=\"#000000\"/>\n",
       "<polygon fill=\"#000000\" points=\"358.1806,-289.0814 347.6889,-287.6068 354.9711,-295.3023 358.1806,-289.0814\" stroke=\"#000000\"/>\n",
       "</g>\n",
       "<!-- 120872537672 -->\n",
       "<g class=\"node\" id=\"node4\">\n",
       "<title>120872537672</title>\n",
       "<polygon fill=\"none\" points=\"105.686,-162.5 105.686,-206.5 503.9937,-206.5 503.9937,-162.5 105.686,-162.5\" stroke=\"#000000\"/>\n",
       "<text fill=\"#000000\" font-family=\"Times,serif\" font-size=\"14.00\" text-anchor=\"middle\" x=\"200.1948\" y=\"-180.3\">subtract_embeddings: Subtract</text>\n",
       "<polyline fill=\"none\" points=\"294.7036,-162.5 294.7036,-206.5 \" stroke=\"#000000\"/>\n",
       "<text fill=\"#000000\" font-family=\"Times,serif\" font-size=\"14.00\" text-anchor=\"middle\" x=\"322.5381\" y=\"-191.3\">input:</text>\n",
       "<polyline fill=\"none\" points=\"294.7036,-184.5 350.3726,-184.5 \" stroke=\"#000000\"/>\n",
       "<text fill=\"#000000\" font-family=\"Times,serif\" font-size=\"14.00\" text-anchor=\"middle\" x=\"322.5381\" y=\"-169.3\">output:</text>\n",
       "<polyline fill=\"none\" points=\"350.3726,-162.5 350.3726,-206.5 \" stroke=\"#000000\"/>\n",
       "<text fill=\"#000000\" font-family=\"Times,serif\" font-size=\"14.00\" text-anchor=\"middle\" x=\"427.1831\" y=\"-191.3\">[(None, 64), (None, 64)]</text>\n",
       "<polyline fill=\"none\" points=\"350.3726,-184.5 503.9937,-184.5 \" stroke=\"#000000\"/>\n",
       "<text fill=\"#000000\" font-family=\"Times,serif\" font-size=\"14.00\" text-anchor=\"middle\" x=\"426.6968\" y=\"-169.3\">(None, 64)</text>\n",
       "</g>\n",
       "<!-- 120872485272&#45;&gt;120872537672 -->\n",
       "<g class=\"edge\" id=\"edge3\">\n",
       "<title>120872485272-&gt;120872537672</title>\n",
       "<path d=\"M304.8398,-243.3664C304.8398,-235.1516 304.8398,-225.6579 304.8398,-216.7252\" fill=\"none\" stroke=\"#000000\"/>\n",
       "<polygon fill=\"#000000\" points=\"308.3399,-216.6068 304.8398,-206.6068 301.3399,-216.6069 308.3399,-216.6068\" stroke=\"#000000\"/>\n",
       "</g>\n",
       "<!-- 120872536664 -->\n",
       "<g class=\"node\" id=\"node5\">\n",
       "<title>120872536664</title>\n",
       "<polygon fill=\"none\" points=\"150.7998,-81.5 150.7998,-125.5 458.8799,-125.5 458.8799,-81.5 150.7998,-81.5\" stroke=\"#000000\"/>\n",
       "<text fill=\"#000000\" font-family=\"Times,serif\" font-size=\"14.00\" text-anchor=\"middle\" x=\"238.6812\" y=\"-99.3\">euclidean_distance: Lambda</text>\n",
       "<polyline fill=\"none\" points=\"326.5625,-81.5 326.5625,-125.5 \" stroke=\"#000000\"/>\n",
       "<text fill=\"#000000\" font-family=\"Times,serif\" font-size=\"14.00\" text-anchor=\"middle\" x=\"354.397\" y=\"-110.3\">input:</text>\n",
       "<polyline fill=\"none\" points=\"326.5625,-103.5 382.2314,-103.5 \" stroke=\"#000000\"/>\n",
       "<text fill=\"#000000\" font-family=\"Times,serif\" font-size=\"14.00\" text-anchor=\"middle\" x=\"354.397\" y=\"-88.3\">output:</text>\n",
       "<polyline fill=\"none\" points=\"382.2314,-81.5 382.2314,-125.5 \" stroke=\"#000000\"/>\n",
       "<text fill=\"#000000\" font-family=\"Times,serif\" font-size=\"14.00\" text-anchor=\"middle\" x=\"420.5557\" y=\"-110.3\">(None, 64)</text>\n",
       "<polyline fill=\"none\" points=\"382.2314,-103.5 458.8799,-103.5 \" stroke=\"#000000\"/>\n",
       "<text fill=\"#000000\" font-family=\"Times,serif\" font-size=\"14.00\" text-anchor=\"middle\" x=\"420.5557\" y=\"-88.3\">(None, 1)</text>\n",
       "</g>\n",
       "<!-- 120872537672&#45;&gt;120872536664 -->\n",
       "<g class=\"edge\" id=\"edge5\">\n",
       "<title>120872537672-&gt;120872536664</title>\n",
       "<path d=\"M304.8398,-162.3664C304.8398,-154.1516 304.8398,-144.6579 304.8398,-135.7252\" fill=\"none\" stroke=\"#000000\"/>\n",
       "<polygon fill=\"#000000\" points=\"308.3399,-135.6068 304.8398,-125.6068 301.3399,-135.6069 308.3399,-135.6068\" stroke=\"#000000\"/>\n",
       "</g>\n",
       "<!-- 120872538064 -->\n",
       "<g class=\"node\" id=\"node6\">\n",
       "<title>120872538064</title>\n",
       "<polygon fill=\"none\" points=\"190.0552,-.5 190.0552,-44.5 419.6245,-44.5 419.6245,-.5 190.0552,-.5\" stroke=\"#000000\"/>\n",
       "<text fill=\"#000000\" font-family=\"Times,serif\" font-size=\"14.00\" text-anchor=\"middle\" x=\"242.1812\" y=\"-18.3\">dense_2: Dense</text>\n",
       "<polyline fill=\"none\" points=\"294.3071,-.5 294.3071,-44.5 \" stroke=\"#000000\"/>\n",
       "<text fill=\"#000000\" font-family=\"Times,serif\" font-size=\"14.00\" text-anchor=\"middle\" x=\"322.1416\" y=\"-29.3\">input:</text>\n",
       "<polyline fill=\"none\" points=\"294.3071,-22.5 349.9761,-22.5 \" stroke=\"#000000\"/>\n",
       "<text fill=\"#000000\" font-family=\"Times,serif\" font-size=\"14.00\" text-anchor=\"middle\" x=\"322.1416\" y=\"-7.3\">output:</text>\n",
       "<polyline fill=\"none\" points=\"349.9761,-.5 349.9761,-44.5 \" stroke=\"#000000\"/>\n",
       "<text fill=\"#000000\" font-family=\"Times,serif\" font-size=\"14.00\" text-anchor=\"middle\" x=\"384.8003\" y=\"-29.3\">(None, 1)</text>\n",
       "<polyline fill=\"none\" points=\"349.9761,-22.5 419.6245,-22.5 \" stroke=\"#000000\"/>\n",
       "<text fill=\"#000000\" font-family=\"Times,serif\" font-size=\"14.00\" text-anchor=\"middle\" x=\"384.8003\" y=\"-7.3\">(None, 1)</text>\n",
       "</g>\n",
       "<!-- 120872536664&#45;&gt;120872538064 -->\n",
       "<g class=\"edge\" id=\"edge6\">\n",
       "<title>120872536664-&gt;120872538064</title>\n",
       "<path d=\"M304.8398,-81.3664C304.8398,-73.1516 304.8398,-63.6579 304.8398,-54.7252\" fill=\"none\" stroke=\"#000000\"/>\n",
       "<polygon fill=\"#000000\" points=\"308.3399,-54.6068 304.8398,-44.6068 301.3399,-54.6069 308.3399,-54.6068\" stroke=\"#000000\"/>\n",
       "</g>\n",
       "</g>\n",
       "</svg>"
      ],
      "text/plain": [
       "<IPython.core.display.SVG object>"
      ]
     },
     "execution_count": 5,
     "metadata": {},
     "output_type": "execute_result"
    }
   ],
   "source": [
    "SVG(model_to_dot(siamese, show_shapes=True).create(prog='dot', format='svg'))"
   ]
  },
  {
   "cell_type": "markdown",
   "metadata": {},
   "source": [
    "# Extract encoder\n",
    "This extracts the encoder network that maps a single sample to a low dimensional space from the siamese network that takes two inputs."
   ]
  },
  {
   "cell_type": "code",
   "execution_count": 6,
   "metadata": {},
   "outputs": [],
   "source": [
    "from keras.models import Model\n",
    "from keras.layers import Input"
   ]
  },
  {
   "cell_type": "code",
   "execution_count": 7,
   "metadata": {},
   "outputs": [],
   "source": [
    "inputs = Input(shape=(12000,1))\n",
    "\n",
    "encoded = siamese.layers[2](inputs)"
   ]
  },
  {
   "cell_type": "code",
   "execution_count": 8,
   "metadata": {},
   "outputs": [],
   "source": [
    "encoder = Model(inputs=inputs, outputs=encoded)"
   ]
  },
  {
   "cell_type": "code",
   "execution_count": 9,
   "metadata": {},
   "outputs": [],
   "source": [
    "encoder = siamese.layers[2]\n",
    "encoder.compile(loss='mse',optimizer='adam')"
   ]
  },
  {
   "cell_type": "code",
   "execution_count": 10,
   "metadata": {},
   "outputs": [
    {
     "data": {
      "image/svg+xml": [
       "<svg height=\"1503pt\" viewBox=\"0.00 0.00 467.02 1503.00\" width=\"467pt\" xmlns=\"http://www.w3.org/2000/svg\" xmlns:xlink=\"http://www.w3.org/1999/xlink\">\n",
       "<g class=\"graph\" id=\"graph0\" transform=\"scale(1 1) rotate(0) translate(4 1499)\">\n",
       "<title>G</title>\n",
       "<polygon fill=\"#ffffff\" points=\"-4,4 -4,-1499 463.0244,-1499 463.0244,4 -4,4\" stroke=\"transparent\"/>\n",
       "<!-- 120872485832 -->\n",
       "<g class=\"node\" id=\"node1\">\n",
       "<title>120872485832</title>\n",
       "<polygon fill=\"none\" points=\"75.8276,-1377.5 75.8276,-1421.5 383.1968,-1421.5 383.1968,-1377.5 75.8276,-1377.5\" stroke=\"#000000\"/>\n",
       "<text fill=\"#000000\" font-family=\"Times,serif\" font-size=\"14.00\" text-anchor=\"middle\" x=\"138.8535\" y=\"-1395.3\">conv1d_1: Conv1D</text>\n",
       "<polyline fill=\"none\" points=\"201.8794,-1377.5 201.8794,-1421.5 \" stroke=\"#000000\"/>\n",
       "<text fill=\"#000000\" font-family=\"Times,serif\" font-size=\"14.00\" text-anchor=\"middle\" x=\"229.7139\" y=\"-1406.3\">input:</text>\n",
       "<polyline fill=\"none\" points=\"201.8794,-1399.5 257.5483,-1399.5 \" stroke=\"#000000\"/>\n",
       "<text fill=\"#000000\" font-family=\"Times,serif\" font-size=\"14.00\" text-anchor=\"middle\" x=\"229.7139\" y=\"-1384.3\">output:</text>\n",
       "<polyline fill=\"none\" points=\"257.5483,-1377.5 257.5483,-1421.5 \" stroke=\"#000000\"/>\n",
       "<text fill=\"#000000\" font-family=\"Times,serif\" font-size=\"14.00\" text-anchor=\"middle\" x=\"320.3726\" y=\"-1406.3\">(None, 12000, 1)</text>\n",
       "<polyline fill=\"none\" points=\"257.5483,-1399.5 383.1968,-1399.5 \" stroke=\"#000000\"/>\n",
       "<text fill=\"#000000\" font-family=\"Times,serif\" font-size=\"14.00\" text-anchor=\"middle\" x=\"320.3726\" y=\"-1384.3\">(None, 12000, 128)</text>\n",
       "</g>\n",
       "<!-- 120872486224 -->\n",
       "<g class=\"node\" id=\"node2\">\n",
       "<title>120872486224</title>\n",
       "<polygon fill=\"none\" points=\"5.8652,-1296.5 5.8652,-1340.5 453.1592,-1340.5 453.1592,-1296.5 5.8652,-1296.5\" stroke=\"#000000\"/>\n",
       "<text fill=\"#000000\" font-family=\"Times,serif\" font-size=\"14.00\" text-anchor=\"middle\" x=\"138.8535\" y=\"-1314.3\">batch_normalization_1: BatchNormalization</text>\n",
       "<polyline fill=\"none\" points=\"271.8418,-1296.5 271.8418,-1340.5 \" stroke=\"#000000\"/>\n",
       "<text fill=\"#000000\" font-family=\"Times,serif\" font-size=\"14.00\" text-anchor=\"middle\" x=\"299.6763\" y=\"-1325.3\">input:</text>\n",
       "<polyline fill=\"none\" points=\"271.8418,-1318.5 327.5107,-1318.5 \" stroke=\"#000000\"/>\n",
       "<text fill=\"#000000\" font-family=\"Times,serif\" font-size=\"14.00\" text-anchor=\"middle\" x=\"299.6763\" y=\"-1303.3\">output:</text>\n",
       "<polyline fill=\"none\" points=\"327.5107,-1296.5 327.5107,-1340.5 \" stroke=\"#000000\"/>\n",
       "<text fill=\"#000000\" font-family=\"Times,serif\" font-size=\"14.00\" text-anchor=\"middle\" x=\"390.335\" y=\"-1325.3\">(None, 12000, 128)</text>\n",
       "<polyline fill=\"none\" points=\"327.5107,-1318.5 453.1592,-1318.5 \" stroke=\"#000000\"/>\n",
       "<text fill=\"#000000\" font-family=\"Times,serif\" font-size=\"14.00\" text-anchor=\"middle\" x=\"390.335\" y=\"-1303.3\">(None, 12000, 128)</text>\n",
       "</g>\n",
       "<!-- 120872485832&#45;&gt;120872486224 -->\n",
       "<g class=\"edge\" id=\"edge2\">\n",
       "<title>120872485832-&gt;120872486224</title>\n",
       "<path d=\"M229.5122,-1377.3664C229.5122,-1369.1516 229.5122,-1359.6579 229.5122,-1350.7252\" fill=\"none\" stroke=\"#000000\"/>\n",
       "<polygon fill=\"#000000\" points=\"233.0123,-1350.6068 229.5122,-1340.6068 226.0123,-1350.6069 233.0123,-1350.6068\" stroke=\"#000000\"/>\n",
       "</g>\n",
       "<!-- 120872486504 -->\n",
       "<g class=\"node\" id=\"node3\">\n",
       "<title>120872486504</title>\n",
       "<polygon fill=\"none\" points=\"18.2827,-1215.5 18.2827,-1259.5 440.7417,-1259.5 440.7417,-1215.5 18.2827,-1215.5\" stroke=\"#000000\"/>\n",
       "<text fill=\"#000000\" font-family=\"Times,serif\" font-size=\"14.00\" text-anchor=\"middle\" x=\"138.8535\" y=\"-1233.3\">spatial_dropout1d_1: SpatialDropout1D</text>\n",
       "<polyline fill=\"none\" points=\"259.4243,-1215.5 259.4243,-1259.5 \" stroke=\"#000000\"/>\n",
       "<text fill=\"#000000\" font-family=\"Times,serif\" font-size=\"14.00\" text-anchor=\"middle\" x=\"287.2588\" y=\"-1244.3\">input:</text>\n",
       "<polyline fill=\"none\" points=\"259.4243,-1237.5 315.0933,-1237.5 \" stroke=\"#000000\"/>\n",
       "<text fill=\"#000000\" font-family=\"Times,serif\" font-size=\"14.00\" text-anchor=\"middle\" x=\"287.2588\" y=\"-1222.3\">output:</text>\n",
       "<polyline fill=\"none\" points=\"315.0933,-1215.5 315.0933,-1259.5 \" stroke=\"#000000\"/>\n",
       "<text fill=\"#000000\" font-family=\"Times,serif\" font-size=\"14.00\" text-anchor=\"middle\" x=\"377.9175\" y=\"-1244.3\">(None, 12000, 128)</text>\n",
       "<polyline fill=\"none\" points=\"315.0933,-1237.5 440.7417,-1237.5 \" stroke=\"#000000\"/>\n",
       "<text fill=\"#000000\" font-family=\"Times,serif\" font-size=\"14.00\" text-anchor=\"middle\" x=\"377.9175\" y=\"-1222.3\">(None, 12000, 128)</text>\n",
       "</g>\n",
       "<!-- 120872486224&#45;&gt;120872486504 -->\n",
       "<g class=\"edge\" id=\"edge3\">\n",
       "<title>120872486224-&gt;120872486504</title>\n",
       "<path d=\"M229.5122,-1296.3664C229.5122,-1288.1516 229.5122,-1278.6579 229.5122,-1269.7252\" fill=\"none\" stroke=\"#000000\"/>\n",
       "<polygon fill=\"#000000\" points=\"233.0123,-1269.6068 229.5122,-1259.6068 226.0123,-1269.6069 233.0123,-1269.6068\" stroke=\"#000000\"/>\n",
       "</g>\n",
       "<!-- 120872486616 -->\n",
       "<g class=\"node\" id=\"node4\">\n",
       "<title>120872486616</title>\n",
       "<polygon fill=\"none\" points=\"33.0483,-1134.5 33.0483,-1178.5 425.9761,-1178.5 425.9761,-1134.5 33.0483,-1134.5\" stroke=\"#000000\"/>\n",
       "<text fill=\"#000000\" font-family=\"Times,serif\" font-size=\"14.00\" text-anchor=\"middle\" x=\"138.8535\" y=\"-1152.3\">max_pooling1d_1: MaxPooling1D</text>\n",
       "<polyline fill=\"none\" points=\"244.6587,-1134.5 244.6587,-1178.5 \" stroke=\"#000000\"/>\n",
       "<text fill=\"#000000\" font-family=\"Times,serif\" font-size=\"14.00\" text-anchor=\"middle\" x=\"272.4932\" y=\"-1163.3\">input:</text>\n",
       "<polyline fill=\"none\" points=\"244.6587,-1156.5 300.3276,-1156.5 \" stroke=\"#000000\"/>\n",
       "<text fill=\"#000000\" font-family=\"Times,serif\" font-size=\"14.00\" text-anchor=\"middle\" x=\"272.4932\" y=\"-1141.3\">output:</text>\n",
       "<polyline fill=\"none\" points=\"300.3276,-1134.5 300.3276,-1178.5 \" stroke=\"#000000\"/>\n",
       "<text fill=\"#000000\" font-family=\"Times,serif\" font-size=\"14.00\" text-anchor=\"middle\" x=\"363.1519\" y=\"-1163.3\">(None, 12000, 128)</text>\n",
       "<polyline fill=\"none\" points=\"300.3276,-1156.5 425.9761,-1156.5 \" stroke=\"#000000\"/>\n",
       "<text fill=\"#000000\" font-family=\"Times,serif\" font-size=\"14.00\" text-anchor=\"middle\" x=\"363.1519\" y=\"-1141.3\">(None, 3000, 128)</text>\n",
       "</g>\n",
       "<!-- 120872486504&#45;&gt;120872486616 -->\n",
       "<g class=\"edge\" id=\"edge4\">\n",
       "<title>120872486504-&gt;120872486616</title>\n",
       "<path d=\"M229.5122,-1215.3664C229.5122,-1207.1516 229.5122,-1197.6579 229.5122,-1188.7252\" fill=\"none\" stroke=\"#000000\"/>\n",
       "<polygon fill=\"#000000\" points=\"233.0123,-1188.6068 229.5122,-1178.6068 226.0123,-1188.6069 233.0123,-1188.6068\" stroke=\"#000000\"/>\n",
       "</g>\n",
       "<!-- 120872486784 -->\n",
       "<g class=\"node\" id=\"node5\">\n",
       "<title>120872486784</title>\n",
       "<polygon fill=\"none\" points=\"79.3276,-1053.5 79.3276,-1097.5 379.6968,-1097.5 379.6968,-1053.5 79.3276,-1053.5\" stroke=\"#000000\"/>\n",
       "<text fill=\"#000000\" font-family=\"Times,serif\" font-size=\"14.00\" text-anchor=\"middle\" x=\"142.3535\" y=\"-1071.3\">conv1d_2: Conv1D</text>\n",
       "<polyline fill=\"none\" points=\"205.3794,-1053.5 205.3794,-1097.5 \" stroke=\"#000000\"/>\n",
       "<text fill=\"#000000\" font-family=\"Times,serif\" font-size=\"14.00\" text-anchor=\"middle\" x=\"233.2139\" y=\"-1082.3\">input:</text>\n",
       "<polyline fill=\"none\" points=\"205.3794,-1075.5 261.0483,-1075.5 \" stroke=\"#000000\"/>\n",
       "<text fill=\"#000000\" font-family=\"Times,serif\" font-size=\"14.00\" text-anchor=\"middle\" x=\"233.2139\" y=\"-1060.3\">output:</text>\n",
       "<polyline fill=\"none\" points=\"261.0483,-1053.5 261.0483,-1097.5 \" stroke=\"#000000\"/>\n",
       "<text fill=\"#000000\" font-family=\"Times,serif\" font-size=\"14.00\" text-anchor=\"middle\" x=\"320.3726\" y=\"-1082.3\">(None, 3000, 128)</text>\n",
       "<polyline fill=\"none\" points=\"261.0483,-1075.5 379.6968,-1075.5 \" stroke=\"#000000\"/>\n",
       "<text fill=\"#000000\" font-family=\"Times,serif\" font-size=\"14.00\" text-anchor=\"middle\" x=\"320.3726\" y=\"-1060.3\">(None, 3000, 256)</text>\n",
       "</g>\n",
       "<!-- 120872486616&#45;&gt;120872486784 -->\n",
       "<g class=\"edge\" id=\"edge5\">\n",
       "<title>120872486616-&gt;120872486784</title>\n",
       "<path d=\"M229.5122,-1134.3664C229.5122,-1126.1516 229.5122,-1116.6579 229.5122,-1107.7252\" fill=\"none\" stroke=\"#000000\"/>\n",
       "<polygon fill=\"#000000\" points=\"233.0123,-1107.6068 229.5122,-1097.6068 226.0123,-1107.6069 233.0123,-1107.6068\" stroke=\"#000000\"/>\n",
       "</g>\n",
       "<!-- 120872487176 -->\n",
       "<g class=\"node\" id=\"node6\">\n",
       "<title>120872487176</title>\n",
       "<polygon fill=\"none\" points=\"9.3652,-972.5 9.3652,-1016.5 449.6592,-1016.5 449.6592,-972.5 9.3652,-972.5\" stroke=\"#000000\"/>\n",
       "<text fill=\"#000000\" font-family=\"Times,serif\" font-size=\"14.00\" text-anchor=\"middle\" x=\"142.3535\" y=\"-990.3\">batch_normalization_2: BatchNormalization</text>\n",
       "<polyline fill=\"none\" points=\"275.3418,-972.5 275.3418,-1016.5 \" stroke=\"#000000\"/>\n",
       "<text fill=\"#000000\" font-family=\"Times,serif\" font-size=\"14.00\" text-anchor=\"middle\" x=\"303.1763\" y=\"-1001.3\">input:</text>\n",
       "<polyline fill=\"none\" points=\"275.3418,-994.5 331.0107,-994.5 \" stroke=\"#000000\"/>\n",
       "<text fill=\"#000000\" font-family=\"Times,serif\" font-size=\"14.00\" text-anchor=\"middle\" x=\"303.1763\" y=\"-979.3\">output:</text>\n",
       "<polyline fill=\"none\" points=\"331.0107,-972.5 331.0107,-1016.5 \" stroke=\"#000000\"/>\n",
       "<text fill=\"#000000\" font-family=\"Times,serif\" font-size=\"14.00\" text-anchor=\"middle\" x=\"390.335\" y=\"-1001.3\">(None, 3000, 256)</text>\n",
       "<polyline fill=\"none\" points=\"331.0107,-994.5 449.6592,-994.5 \" stroke=\"#000000\"/>\n",
       "<text fill=\"#000000\" font-family=\"Times,serif\" font-size=\"14.00\" text-anchor=\"middle\" x=\"390.335\" y=\"-979.3\">(None, 3000, 256)</text>\n",
       "</g>\n",
       "<!-- 120872486784&#45;&gt;120872487176 -->\n",
       "<g class=\"edge\" id=\"edge6\">\n",
       "<title>120872486784-&gt;120872487176</title>\n",
       "<path d=\"M229.5122,-1053.3664C229.5122,-1045.1516 229.5122,-1035.6579 229.5122,-1026.7252\" fill=\"none\" stroke=\"#000000\"/>\n",
       "<polygon fill=\"#000000\" points=\"233.0123,-1026.6068 229.5122,-1016.6068 226.0123,-1026.6069 233.0123,-1026.6068\" stroke=\"#000000\"/>\n",
       "</g>\n",
       "<!-- 120872487456 -->\n",
       "<g class=\"node\" id=\"node7\">\n",
       "<title>120872487456</title>\n",
       "<polygon fill=\"none\" points=\"21.7827,-891.5 21.7827,-935.5 437.2417,-935.5 437.2417,-891.5 21.7827,-891.5\" stroke=\"#000000\"/>\n",
       "<text fill=\"#000000\" font-family=\"Times,serif\" font-size=\"14.00\" text-anchor=\"middle\" x=\"142.3535\" y=\"-909.3\">spatial_dropout1d_2: SpatialDropout1D</text>\n",
       "<polyline fill=\"none\" points=\"262.9243,-891.5 262.9243,-935.5 \" stroke=\"#000000\"/>\n",
       "<text fill=\"#000000\" font-family=\"Times,serif\" font-size=\"14.00\" text-anchor=\"middle\" x=\"290.7588\" y=\"-920.3\">input:</text>\n",
       "<polyline fill=\"none\" points=\"262.9243,-913.5 318.5933,-913.5 \" stroke=\"#000000\"/>\n",
       "<text fill=\"#000000\" font-family=\"Times,serif\" font-size=\"14.00\" text-anchor=\"middle\" x=\"290.7588\" y=\"-898.3\">output:</text>\n",
       "<polyline fill=\"none\" points=\"318.5933,-891.5 318.5933,-935.5 \" stroke=\"#000000\"/>\n",
       "<text fill=\"#000000\" font-family=\"Times,serif\" font-size=\"14.00\" text-anchor=\"middle\" x=\"377.9175\" y=\"-920.3\">(None, 3000, 256)</text>\n",
       "<polyline fill=\"none\" points=\"318.5933,-913.5 437.2417,-913.5 \" stroke=\"#000000\"/>\n",
       "<text fill=\"#000000\" font-family=\"Times,serif\" font-size=\"14.00\" text-anchor=\"middle\" x=\"377.9175\" y=\"-898.3\">(None, 3000, 256)</text>\n",
       "</g>\n",
       "<!-- 120872487176&#45;&gt;120872487456 -->\n",
       "<g class=\"edge\" id=\"edge7\">\n",
       "<title>120872487176-&gt;120872487456</title>\n",
       "<path d=\"M229.5122,-972.3664C229.5122,-964.1516 229.5122,-954.6579 229.5122,-945.7252\" fill=\"none\" stroke=\"#000000\"/>\n",
       "<polygon fill=\"#000000\" points=\"233.0123,-945.6068 229.5122,-935.6068 226.0123,-945.6069 233.0123,-945.6068\" stroke=\"#000000\"/>\n",
       "</g>\n",
       "<!-- 120872487568 -->\n",
       "<g class=\"node\" id=\"node8\">\n",
       "<title>120872487568</title>\n",
       "<polygon fill=\"none\" points=\"36.5483,-810.5 36.5483,-854.5 422.4761,-854.5 422.4761,-810.5 36.5483,-810.5\" stroke=\"#000000\"/>\n",
       "<text fill=\"#000000\" font-family=\"Times,serif\" font-size=\"14.00\" text-anchor=\"middle\" x=\"142.3535\" y=\"-828.3\">max_pooling1d_2: MaxPooling1D</text>\n",
       "<polyline fill=\"none\" points=\"248.1587,-810.5 248.1587,-854.5 \" stroke=\"#000000\"/>\n",
       "<text fill=\"#000000\" font-family=\"Times,serif\" font-size=\"14.00\" text-anchor=\"middle\" x=\"275.9932\" y=\"-839.3\">input:</text>\n",
       "<polyline fill=\"none\" points=\"248.1587,-832.5 303.8276,-832.5 \" stroke=\"#000000\"/>\n",
       "<text fill=\"#000000\" font-family=\"Times,serif\" font-size=\"14.00\" text-anchor=\"middle\" x=\"275.9932\" y=\"-817.3\">output:</text>\n",
       "<polyline fill=\"none\" points=\"303.8276,-810.5 303.8276,-854.5 \" stroke=\"#000000\"/>\n",
       "<text fill=\"#000000\" font-family=\"Times,serif\" font-size=\"14.00\" text-anchor=\"middle\" x=\"363.1519\" y=\"-839.3\">(None, 3000, 256)</text>\n",
       "<polyline fill=\"none\" points=\"303.8276,-832.5 422.4761,-832.5 \" stroke=\"#000000\"/>\n",
       "<text fill=\"#000000\" font-family=\"Times,serif\" font-size=\"14.00\" text-anchor=\"middle\" x=\"363.1519\" y=\"-817.3\">(None, 1500, 256)</text>\n",
       "</g>\n",
       "<!-- 120872487456&#45;&gt;120872487568 -->\n",
       "<g class=\"edge\" id=\"edge8\">\n",
       "<title>120872487456-&gt;120872487568</title>\n",
       "<path d=\"M229.5122,-891.3664C229.5122,-883.1516 229.5122,-873.6579 229.5122,-864.7252\" fill=\"none\" stroke=\"#000000\"/>\n",
       "<polygon fill=\"#000000\" points=\"233.0123,-864.6068 229.5122,-854.6068 226.0123,-864.6069 233.0123,-864.6068\" stroke=\"#000000\"/>\n",
       "</g>\n",
       "<!-- 120872487736 -->\n",
       "<g class=\"node\" id=\"node9\">\n",
       "<title>120872487736</title>\n",
       "<polygon fill=\"none\" points=\"79.3276,-729.5 79.3276,-773.5 379.6968,-773.5 379.6968,-729.5 79.3276,-729.5\" stroke=\"#000000\"/>\n",
       "<text fill=\"#000000\" font-family=\"Times,serif\" font-size=\"14.00\" text-anchor=\"middle\" x=\"142.3535\" y=\"-747.3\">conv1d_3: Conv1D</text>\n",
       "<polyline fill=\"none\" points=\"205.3794,-729.5 205.3794,-773.5 \" stroke=\"#000000\"/>\n",
       "<text fill=\"#000000\" font-family=\"Times,serif\" font-size=\"14.00\" text-anchor=\"middle\" x=\"233.2139\" y=\"-758.3\">input:</text>\n",
       "<polyline fill=\"none\" points=\"205.3794,-751.5 261.0483,-751.5 \" stroke=\"#000000\"/>\n",
       "<text fill=\"#000000\" font-family=\"Times,serif\" font-size=\"14.00\" text-anchor=\"middle\" x=\"233.2139\" y=\"-736.3\">output:</text>\n",
       "<polyline fill=\"none\" points=\"261.0483,-729.5 261.0483,-773.5 \" stroke=\"#000000\"/>\n",
       "<text fill=\"#000000\" font-family=\"Times,serif\" font-size=\"14.00\" text-anchor=\"middle\" x=\"320.3726\" y=\"-758.3\">(None, 1500, 256)</text>\n",
       "<polyline fill=\"none\" points=\"261.0483,-751.5 379.6968,-751.5 \" stroke=\"#000000\"/>\n",
       "<text fill=\"#000000\" font-family=\"Times,serif\" font-size=\"14.00\" text-anchor=\"middle\" x=\"320.3726\" y=\"-736.3\">(None, 1500, 384)</text>\n",
       "</g>\n",
       "<!-- 120872487568&#45;&gt;120872487736 -->\n",
       "<g class=\"edge\" id=\"edge9\">\n",
       "<title>120872487568-&gt;120872487736</title>\n",
       "<path d=\"M229.5122,-810.3664C229.5122,-802.1516 229.5122,-792.6579 229.5122,-783.7252\" fill=\"none\" stroke=\"#000000\"/>\n",
       "<polygon fill=\"#000000\" points=\"233.0123,-783.6068 229.5122,-773.6068 226.0123,-783.6069 233.0123,-783.6068\" stroke=\"#000000\"/>\n",
       "</g>\n",
       "<!-- 120872488296 -->\n",
       "<g class=\"node\" id=\"node10\">\n",
       "<title>120872488296</title>\n",
       "<polygon fill=\"none\" points=\"9.3652,-648.5 9.3652,-692.5 449.6592,-692.5 449.6592,-648.5 9.3652,-648.5\" stroke=\"#000000\"/>\n",
       "<text fill=\"#000000\" font-family=\"Times,serif\" font-size=\"14.00\" text-anchor=\"middle\" x=\"142.3535\" y=\"-666.3\">batch_normalization_3: BatchNormalization</text>\n",
       "<polyline fill=\"none\" points=\"275.3418,-648.5 275.3418,-692.5 \" stroke=\"#000000\"/>\n",
       "<text fill=\"#000000\" font-family=\"Times,serif\" font-size=\"14.00\" text-anchor=\"middle\" x=\"303.1763\" y=\"-677.3\">input:</text>\n",
       "<polyline fill=\"none\" points=\"275.3418,-670.5 331.0107,-670.5 \" stroke=\"#000000\"/>\n",
       "<text fill=\"#000000\" font-family=\"Times,serif\" font-size=\"14.00\" text-anchor=\"middle\" x=\"303.1763\" y=\"-655.3\">output:</text>\n",
       "<polyline fill=\"none\" points=\"331.0107,-648.5 331.0107,-692.5 \" stroke=\"#000000\"/>\n",
       "<text fill=\"#000000\" font-family=\"Times,serif\" font-size=\"14.00\" text-anchor=\"middle\" x=\"390.335\" y=\"-677.3\">(None, 1500, 384)</text>\n",
       "<polyline fill=\"none\" points=\"331.0107,-670.5 449.6592,-670.5 \" stroke=\"#000000\"/>\n",
       "<text fill=\"#000000\" font-family=\"Times,serif\" font-size=\"14.00\" text-anchor=\"middle\" x=\"390.335\" y=\"-655.3\">(None, 1500, 384)</text>\n",
       "</g>\n",
       "<!-- 120872487736&#45;&gt;120872488296 -->\n",
       "<g class=\"edge\" id=\"edge10\">\n",
       "<title>120872487736-&gt;120872488296</title>\n",
       "<path d=\"M229.5122,-729.3664C229.5122,-721.1516 229.5122,-711.6579 229.5122,-702.7252\" fill=\"none\" stroke=\"#000000\"/>\n",
       "<polygon fill=\"#000000\" points=\"233.0123,-702.6068 229.5122,-692.6068 226.0123,-702.6069 233.0123,-702.6068\" stroke=\"#000000\"/>\n",
       "</g>\n",
       "<!-- 120872488632 -->\n",
       "<g class=\"node\" id=\"node11\">\n",
       "<title>120872488632</title>\n",
       "<polygon fill=\"none\" points=\"21.7827,-567.5 21.7827,-611.5 437.2417,-611.5 437.2417,-567.5 21.7827,-567.5\" stroke=\"#000000\"/>\n",
       "<text fill=\"#000000\" font-family=\"Times,serif\" font-size=\"14.00\" text-anchor=\"middle\" x=\"142.3535\" y=\"-585.3\">spatial_dropout1d_3: SpatialDropout1D</text>\n",
       "<polyline fill=\"none\" points=\"262.9243,-567.5 262.9243,-611.5 \" stroke=\"#000000\"/>\n",
       "<text fill=\"#000000\" font-family=\"Times,serif\" font-size=\"14.00\" text-anchor=\"middle\" x=\"290.7588\" y=\"-596.3\">input:</text>\n",
       "<polyline fill=\"none\" points=\"262.9243,-589.5 318.5933,-589.5 \" stroke=\"#000000\"/>\n",
       "<text fill=\"#000000\" font-family=\"Times,serif\" font-size=\"14.00\" text-anchor=\"middle\" x=\"290.7588\" y=\"-574.3\">output:</text>\n",
       "<polyline fill=\"none\" points=\"318.5933,-567.5 318.5933,-611.5 \" stroke=\"#000000\"/>\n",
       "<text fill=\"#000000\" font-family=\"Times,serif\" font-size=\"14.00\" text-anchor=\"middle\" x=\"377.9175\" y=\"-596.3\">(None, 1500, 384)</text>\n",
       "<polyline fill=\"none\" points=\"318.5933,-589.5 437.2417,-589.5 \" stroke=\"#000000\"/>\n",
       "<text fill=\"#000000\" font-family=\"Times,serif\" font-size=\"14.00\" text-anchor=\"middle\" x=\"377.9175\" y=\"-574.3\">(None, 1500, 384)</text>\n",
       "</g>\n",
       "<!-- 120872488296&#45;&gt;120872488632 -->\n",
       "<g class=\"edge\" id=\"edge11\">\n",
       "<title>120872488296-&gt;120872488632</title>\n",
       "<path d=\"M229.5122,-648.3664C229.5122,-640.1516 229.5122,-630.6579 229.5122,-621.7252\" fill=\"none\" stroke=\"#000000\"/>\n",
       "<polygon fill=\"#000000\" points=\"233.0123,-621.6068 229.5122,-611.6068 226.0123,-621.6069 233.0123,-621.6068\" stroke=\"#000000\"/>\n",
       "</g>\n",
       "<!-- 120872488744 -->\n",
       "<g class=\"node\" id=\"node12\">\n",
       "<title>120872488744</title>\n",
       "<polygon fill=\"none\" points=\"36.5483,-486.5 36.5483,-530.5 422.4761,-530.5 422.4761,-486.5 36.5483,-486.5\" stroke=\"#000000\"/>\n",
       "<text fill=\"#000000\" font-family=\"Times,serif\" font-size=\"14.00\" text-anchor=\"middle\" x=\"142.3535\" y=\"-504.3\">max_pooling1d_3: MaxPooling1D</text>\n",
       "<polyline fill=\"none\" points=\"248.1587,-486.5 248.1587,-530.5 \" stroke=\"#000000\"/>\n",
       "<text fill=\"#000000\" font-family=\"Times,serif\" font-size=\"14.00\" text-anchor=\"middle\" x=\"275.9932\" y=\"-515.3\">input:</text>\n",
       "<polyline fill=\"none\" points=\"248.1587,-508.5 303.8276,-508.5 \" stroke=\"#000000\"/>\n",
       "<text fill=\"#000000\" font-family=\"Times,serif\" font-size=\"14.00\" text-anchor=\"middle\" x=\"275.9932\" y=\"-493.3\">output:</text>\n",
       "<polyline fill=\"none\" points=\"303.8276,-486.5 303.8276,-530.5 \" stroke=\"#000000\"/>\n",
       "<text fill=\"#000000\" font-family=\"Times,serif\" font-size=\"14.00\" text-anchor=\"middle\" x=\"363.1519\" y=\"-515.3\">(None, 1500, 384)</text>\n",
       "<polyline fill=\"none\" points=\"303.8276,-508.5 422.4761,-508.5 \" stroke=\"#000000\"/>\n",
       "<text fill=\"#000000\" font-family=\"Times,serif\" font-size=\"14.00\" text-anchor=\"middle\" x=\"363.1519\" y=\"-493.3\">(None, 750, 384)</text>\n",
       "</g>\n",
       "<!-- 120872488632&#45;&gt;120872488744 -->\n",
       "<g class=\"edge\" id=\"edge12\">\n",
       "<title>120872488632-&gt;120872488744</title>\n",
       "<path d=\"M229.5122,-567.3664C229.5122,-559.1516 229.5122,-549.6579 229.5122,-540.7252\" fill=\"none\" stroke=\"#000000\"/>\n",
       "<polygon fill=\"#000000\" points=\"233.0123,-540.6068 229.5122,-530.6068 226.0123,-540.6069 233.0123,-540.6068\" stroke=\"#000000\"/>\n",
       "</g>\n",
       "<!-- 120872488912 -->\n",
       "<g class=\"node\" id=\"node13\">\n",
       "<title>120872488912</title>\n",
       "<polygon fill=\"none\" points=\"82.8276,-405.5 82.8276,-449.5 376.1968,-449.5 376.1968,-405.5 82.8276,-405.5\" stroke=\"#000000\"/>\n",
       "<text fill=\"#000000\" font-family=\"Times,serif\" font-size=\"14.00\" text-anchor=\"middle\" x=\"145.8535\" y=\"-423.3\">conv1d_4: Conv1D</text>\n",
       "<polyline fill=\"none\" points=\"208.8794,-405.5 208.8794,-449.5 \" stroke=\"#000000\"/>\n",
       "<text fill=\"#000000\" font-family=\"Times,serif\" font-size=\"14.00\" text-anchor=\"middle\" x=\"236.7139\" y=\"-434.3\">input:</text>\n",
       "<polyline fill=\"none\" points=\"208.8794,-427.5 264.5483,-427.5 \" stroke=\"#000000\"/>\n",
       "<text fill=\"#000000\" font-family=\"Times,serif\" font-size=\"14.00\" text-anchor=\"middle\" x=\"236.7139\" y=\"-412.3\">output:</text>\n",
       "<polyline fill=\"none\" points=\"264.5483,-405.5 264.5483,-449.5 \" stroke=\"#000000\"/>\n",
       "<text fill=\"#000000\" font-family=\"Times,serif\" font-size=\"14.00\" text-anchor=\"middle\" x=\"320.3726\" y=\"-434.3\">(None, 750, 384)</text>\n",
       "<polyline fill=\"none\" points=\"264.5483,-427.5 376.1968,-427.5 \" stroke=\"#000000\"/>\n",
       "<text fill=\"#000000\" font-family=\"Times,serif\" font-size=\"14.00\" text-anchor=\"middle\" x=\"320.3726\" y=\"-412.3\">(None, 750, 512)</text>\n",
       "</g>\n",
       "<!-- 120872488744&#45;&gt;120872488912 -->\n",
       "<g class=\"edge\" id=\"edge13\">\n",
       "<title>120872488744-&gt;120872488912</title>\n",
       "<path d=\"M229.5122,-486.3664C229.5122,-478.1516 229.5122,-468.6579 229.5122,-459.7252\" fill=\"none\" stroke=\"#000000\"/>\n",
       "<polygon fill=\"#000000\" points=\"233.0123,-459.6068 229.5122,-449.6068 226.0123,-459.6069 233.0123,-459.6068\" stroke=\"#000000\"/>\n",
       "</g>\n",
       "<!-- 120872534648 -->\n",
       "<g class=\"node\" id=\"node14\">\n",
       "<title>120872534648</title>\n",
       "<polygon fill=\"none\" points=\"12.8652,-324.5 12.8652,-368.5 446.1592,-368.5 446.1592,-324.5 12.8652,-324.5\" stroke=\"#000000\"/>\n",
       "<text fill=\"#000000\" font-family=\"Times,serif\" font-size=\"14.00\" text-anchor=\"middle\" x=\"145.8535\" y=\"-342.3\">batch_normalization_4: BatchNormalization</text>\n",
       "<polyline fill=\"none\" points=\"278.8418,-324.5 278.8418,-368.5 \" stroke=\"#000000\"/>\n",
       "<text fill=\"#000000\" font-family=\"Times,serif\" font-size=\"14.00\" text-anchor=\"middle\" x=\"306.6763\" y=\"-353.3\">input:</text>\n",
       "<polyline fill=\"none\" points=\"278.8418,-346.5 334.5107,-346.5 \" stroke=\"#000000\"/>\n",
       "<text fill=\"#000000\" font-family=\"Times,serif\" font-size=\"14.00\" text-anchor=\"middle\" x=\"306.6763\" y=\"-331.3\">output:</text>\n",
       "<polyline fill=\"none\" points=\"334.5107,-324.5 334.5107,-368.5 \" stroke=\"#000000\"/>\n",
       "<text fill=\"#000000\" font-family=\"Times,serif\" font-size=\"14.00\" text-anchor=\"middle\" x=\"390.335\" y=\"-353.3\">(None, 750, 512)</text>\n",
       "<polyline fill=\"none\" points=\"334.5107,-346.5 446.1592,-346.5 \" stroke=\"#000000\"/>\n",
       "<text fill=\"#000000\" font-family=\"Times,serif\" font-size=\"14.00\" text-anchor=\"middle\" x=\"390.335\" y=\"-331.3\">(None, 750, 512)</text>\n",
       "</g>\n",
       "<!-- 120872488912&#45;&gt;120872534648 -->\n",
       "<g class=\"edge\" id=\"edge14\">\n",
       "<title>120872488912-&gt;120872534648</title>\n",
       "<path d=\"M229.5122,-405.3664C229.5122,-397.1516 229.5122,-387.6579 229.5122,-378.7252\" fill=\"none\" stroke=\"#000000\"/>\n",
       "<polygon fill=\"#000000\" points=\"233.0123,-378.6068 229.5122,-368.6068 226.0123,-378.6069 233.0123,-378.6068\" stroke=\"#000000\"/>\n",
       "</g>\n",
       "<!-- 120872534984 -->\n",
       "<g class=\"node\" id=\"node15\">\n",
       "<title>120872534984</title>\n",
       "<polygon fill=\"none\" points=\"25.2827,-243.5 25.2827,-287.5 433.7417,-287.5 433.7417,-243.5 25.2827,-243.5\" stroke=\"#000000\"/>\n",
       "<text fill=\"#000000\" font-family=\"Times,serif\" font-size=\"14.00\" text-anchor=\"middle\" x=\"145.8535\" y=\"-261.3\">spatial_dropout1d_4: SpatialDropout1D</text>\n",
       "<polyline fill=\"none\" points=\"266.4243,-243.5 266.4243,-287.5 \" stroke=\"#000000\"/>\n",
       "<text fill=\"#000000\" font-family=\"Times,serif\" font-size=\"14.00\" text-anchor=\"middle\" x=\"294.2588\" y=\"-272.3\">input:</text>\n",
       "<polyline fill=\"none\" points=\"266.4243,-265.5 322.0933,-265.5 \" stroke=\"#000000\"/>\n",
       "<text fill=\"#000000\" font-family=\"Times,serif\" font-size=\"14.00\" text-anchor=\"middle\" x=\"294.2588\" y=\"-250.3\">output:</text>\n",
       "<polyline fill=\"none\" points=\"322.0933,-243.5 322.0933,-287.5 \" stroke=\"#000000\"/>\n",
       "<text fill=\"#000000\" font-family=\"Times,serif\" font-size=\"14.00\" text-anchor=\"middle\" x=\"377.9175\" y=\"-272.3\">(None, 750, 512)</text>\n",
       "<polyline fill=\"none\" points=\"322.0933,-265.5 433.7417,-265.5 \" stroke=\"#000000\"/>\n",
       "<text fill=\"#000000\" font-family=\"Times,serif\" font-size=\"14.00\" text-anchor=\"middle\" x=\"377.9175\" y=\"-250.3\">(None, 750, 512)</text>\n",
       "</g>\n",
       "<!-- 120872534648&#45;&gt;120872534984 -->\n",
       "<g class=\"edge\" id=\"edge15\">\n",
       "<title>120872534648-&gt;120872534984</title>\n",
       "<path d=\"M229.5122,-324.3664C229.5122,-316.1516 229.5122,-306.6579 229.5122,-297.7252\" fill=\"none\" stroke=\"#000000\"/>\n",
       "<polygon fill=\"#000000\" points=\"233.0123,-297.6068 229.5122,-287.6068 226.0123,-297.6069 233.0123,-297.6068\" stroke=\"#000000\"/>\n",
       "</g>\n",
       "<!-- 120872535096 -->\n",
       "<g class=\"node\" id=\"node16\">\n",
       "<title>120872535096</title>\n",
       "<polygon fill=\"none\" points=\"40.0483,-162.5 40.0483,-206.5 418.9761,-206.5 418.9761,-162.5 40.0483,-162.5\" stroke=\"#000000\"/>\n",
       "<text fill=\"#000000\" font-family=\"Times,serif\" font-size=\"14.00\" text-anchor=\"middle\" x=\"145.8535\" y=\"-180.3\">max_pooling1d_4: MaxPooling1D</text>\n",
       "<polyline fill=\"none\" points=\"251.6587,-162.5 251.6587,-206.5 \" stroke=\"#000000\"/>\n",
       "<text fill=\"#000000\" font-family=\"Times,serif\" font-size=\"14.00\" text-anchor=\"middle\" x=\"279.4932\" y=\"-191.3\">input:</text>\n",
       "<polyline fill=\"none\" points=\"251.6587,-184.5 307.3276,-184.5 \" stroke=\"#000000\"/>\n",
       "<text fill=\"#000000\" font-family=\"Times,serif\" font-size=\"14.00\" text-anchor=\"middle\" x=\"279.4932\" y=\"-169.3\">output:</text>\n",
       "<polyline fill=\"none\" points=\"307.3276,-162.5 307.3276,-206.5 \" stroke=\"#000000\"/>\n",
       "<text fill=\"#000000\" font-family=\"Times,serif\" font-size=\"14.00\" text-anchor=\"middle\" x=\"363.1519\" y=\"-191.3\">(None, 750, 512)</text>\n",
       "<polyline fill=\"none\" points=\"307.3276,-184.5 418.9761,-184.5 \" stroke=\"#000000\"/>\n",
       "<text fill=\"#000000\" font-family=\"Times,serif\" font-size=\"14.00\" text-anchor=\"middle\" x=\"363.1519\" y=\"-169.3\">(None, 375, 512)</text>\n",
       "</g>\n",
       "<!-- 120872534984&#45;&gt;120872535096 -->\n",
       "<g class=\"edge\" id=\"edge16\">\n",
       "<title>120872534984-&gt;120872535096</title>\n",
       "<path d=\"M229.5122,-243.3664C229.5122,-235.1516 229.5122,-225.6579 229.5122,-216.7252\" fill=\"none\" stroke=\"#000000\"/>\n",
       "<polygon fill=\"#000000\" points=\"233.0123,-216.6068 229.5122,-206.6068 226.0123,-216.6069 233.0123,-216.6068\" stroke=\"#000000\"/>\n",
       "</g>\n",
       "<!-- 120872535264 -->\n",
       "<g class=\"node\" id=\"node17\">\n",
       "<title>120872535264</title>\n",
       "<polygon fill=\"none\" points=\"0,-81.5 0,-125.5 459.0244,-125.5 459.0244,-81.5 0,-81.5\" stroke=\"#000000\"/>\n",
       "<text fill=\"#000000\" font-family=\"Times,serif\" font-size=\"14.00\" text-anchor=\"middle\" x=\"145.8535\" y=\"-99.3\">global_max_pooling1d_1: GlobalMaxPooling1D</text>\n",
       "<polyline fill=\"none\" points=\"291.707,-81.5 291.707,-125.5 \" stroke=\"#000000\"/>\n",
       "<text fill=\"#000000\" font-family=\"Times,serif\" font-size=\"14.00\" text-anchor=\"middle\" x=\"319.5415\" y=\"-110.3\">input:</text>\n",
       "<polyline fill=\"none\" points=\"291.707,-103.5 347.376,-103.5 \" stroke=\"#000000\"/>\n",
       "<text fill=\"#000000\" font-family=\"Times,serif\" font-size=\"14.00\" text-anchor=\"middle\" x=\"319.5415\" y=\"-88.3\">output:</text>\n",
       "<polyline fill=\"none\" points=\"347.376,-81.5 347.376,-125.5 \" stroke=\"#000000\"/>\n",
       "<text fill=\"#000000\" font-family=\"Times,serif\" font-size=\"14.00\" text-anchor=\"middle\" x=\"403.2002\" y=\"-110.3\">(None, 375, 512)</text>\n",
       "<polyline fill=\"none\" points=\"347.376,-103.5 459.0244,-103.5 \" stroke=\"#000000\"/>\n",
       "<text fill=\"#000000\" font-family=\"Times,serif\" font-size=\"14.00\" text-anchor=\"middle\" x=\"403.2002\" y=\"-88.3\">(None, 512)</text>\n",
       "</g>\n",
       "<!-- 120872535096&#45;&gt;120872535264 -->\n",
       "<g class=\"edge\" id=\"edge17\">\n",
       "<title>120872535096-&gt;120872535264</title>\n",
       "<path d=\"M229.5122,-162.3664C229.5122,-154.1516 229.5122,-144.6579 229.5122,-135.7252\" fill=\"none\" stroke=\"#000000\"/>\n",
       "<polygon fill=\"#000000\" points=\"233.0123,-135.6068 229.5122,-125.6068 226.0123,-135.6069 233.0123,-135.6068\" stroke=\"#000000\"/>\n",
       "</g>\n",
       "<!-- 120872535376 -->\n",
       "<g class=\"node\" id=\"node18\">\n",
       "<title>120872535376</title>\n",
       "<polygon fill=\"none\" points=\"107.7275,-.5 107.7275,-44.5 351.2969,-44.5 351.2969,-.5 107.7275,-.5\" stroke=\"#000000\"/>\n",
       "<text fill=\"#000000\" font-family=\"Times,serif\" font-size=\"14.00\" text-anchor=\"middle\" x=\"159.8535\" y=\"-18.3\">dense_1: Dense</text>\n",
       "<polyline fill=\"none\" points=\"211.9795,-.5 211.9795,-44.5 \" stroke=\"#000000\"/>\n",
       "<text fill=\"#000000\" font-family=\"Times,serif\" font-size=\"14.00\" text-anchor=\"middle\" x=\"239.814\" y=\"-29.3\">input:</text>\n",
       "<polyline fill=\"none\" points=\"211.9795,-22.5 267.6484,-22.5 \" stroke=\"#000000\"/>\n",
       "<text fill=\"#000000\" font-family=\"Times,serif\" font-size=\"14.00\" text-anchor=\"middle\" x=\"239.814\" y=\"-7.3\">output:</text>\n",
       "<polyline fill=\"none\" points=\"267.6484,-.5 267.6484,-44.5 \" stroke=\"#000000\"/>\n",
       "<text fill=\"#000000\" font-family=\"Times,serif\" font-size=\"14.00\" text-anchor=\"middle\" x=\"309.4727\" y=\"-29.3\">(None, 512)</text>\n",
       "<polyline fill=\"none\" points=\"267.6484,-22.5 351.2969,-22.5 \" stroke=\"#000000\"/>\n",
       "<text fill=\"#000000\" font-family=\"Times,serif\" font-size=\"14.00\" text-anchor=\"middle\" x=\"309.4727\" y=\"-7.3\">(None, 64)</text>\n",
       "</g>\n",
       "<!-- 120872535264&#45;&gt;120872535376 -->\n",
       "<g class=\"edge\" id=\"edge18\">\n",
       "<title>120872535264-&gt;120872535376</title>\n",
       "<path d=\"M229.5122,-81.3664C229.5122,-73.1516 229.5122,-63.6579 229.5122,-54.7252\" fill=\"none\" stroke=\"#000000\"/>\n",
       "<polygon fill=\"#000000\" points=\"233.0123,-54.6068 229.5122,-44.6068 226.0123,-54.6069 233.0123,-54.6068\" stroke=\"#000000\"/>\n",
       "</g>\n",
       "<!-- 120872537000 -->\n",
       "<g class=\"node\" id=\"node19\">\n",
       "<title>120872537000</title>\n",
       "<polygon fill=\"none\" points=\"179.5122,-1458.5 179.5122,-1494.5 279.5122,-1494.5 279.5122,-1458.5 179.5122,-1458.5\" stroke=\"#000000\"/>\n",
       "<text fill=\"#000000\" font-family=\"Times,serif\" font-size=\"14.00\" text-anchor=\"middle\" x=\"229.5122\" y=\"-1472.3\">120872537000</text>\n",
       "</g>\n",
       "<!-- 120872537000&#45;&gt;120872485832 -->\n",
       "<g class=\"edge\" id=\"edge1\">\n",
       "<title>120872537000-&gt;120872485832</title>\n",
       "<path d=\"M229.5122,-1458.2521C229.5122,-1450.3888 229.5122,-1440.9498 229.5122,-1431.9612\" fill=\"none\" stroke=\"#000000\"/>\n",
       "<polygon fill=\"#000000\" points=\"233.0123,-1431.7376 229.5122,-1421.7377 226.0123,-1431.7377 233.0123,-1431.7376\" stroke=\"#000000\"/>\n",
       "</g>\n",
       "</g>\n",
       "</svg>"
      ],
      "text/plain": [
       "<IPython.core.display.SVG object>"
      ]
     },
     "execution_count": 10,
     "metadata": {},
     "output_type": "execute_result"
    }
   ],
   "source": [
    "SVG(model_to_dot(encoder, show_shapes=True).create(prog='dot', format='svg'))"
   ]
  },
  {
   "cell_type": "markdown",
   "metadata": {},
   "source": [
    "# Get data"
   ]
  },
  {
   "cell_type": "code",
   "execution_count": 11,
   "metadata": {},
   "outputs": [],
   "source": [
    "def preprocessor(downsampling, whitening=True):\n",
    "    def preprocessor_(batch):\n",
    "        ([i_1, i_2], labels) = batch\n",
    "        i_1 = i_1[:, ::downsampling, :]\n",
    "        i_2 = i_2[:, ::downsampling, :]\n",
    "        if whitening:\n",
    "            i_1, i_2 = whiten(i_1), whiten(i_2)\n",
    "\n",
    "        return [i_1, i_2], labels\n",
    "\n",
    "    return preprocessor_\n",
    "\n",
    "\n",
    "whiten_downsample = preprocessor(downsampling, whitening=True)"
   ]
  },
  {
   "cell_type": "code",
   "execution_count": 12,
   "metadata": {},
   "outputs": [
    {
     "name": "stdout",
     "output_type": "stream",
     "text": [
      "Initialising LibriSpeechDataset with minimum length = 3s and subsets = ['train-clean-100', 'train-clean-360']\n",
      "Finished indexing data. 132456 usable files found.\n",
      "Initialising LibriSpeechDataset with minimum length = 3s and subsets = ['dev-clean']\n",
      "Finished indexing data. 2703 usable files found.\n"
     ]
    }
   ],
   "source": [
    "training_set = ['train-clean-100', 'train-clean-360']\n",
    "train = LibriSpeechDataset(training_set, 3, stochastic=False,pad=True)#, cache=False)\n",
    "validation_set = ['dev-clean']\n",
    "valid = LibriSpeechDataset(validation_set, 3, stochastic=False, pad=True)#,cache=False)\n"
   ]
  },
  {
   "cell_type": "markdown",
   "metadata": {},
   "source": [
    "### Random samples from subset of speakers"
   ]
  },
  {
   "cell_type": "code",
   "execution_count": 51,
   "metadata": {},
   "outputs": [],
   "source": [
    "n_speakers = 20\n",
    "m_samples = 10\n",
    "n_random_speakers = valid.df['speaker_id'].sample(n_speakers).values\n",
    "#n_random_speakers=[6345, 7850, 7976, 8297]\n",
    "#n_random_speakers=np.array([ 19,  26,  39,  40,  78,  83, 125, 150, 163, 196, 198, 200, 201, 211, 229, 233, 84,174,251,422])\n",
    "n_random_speakers = np.array([  84,  174,  251,  422,  652,  777, 1272, 1462, 1673, 1919, 1988,\n",
    "       1993, 2035, 2078, 2086, 2277, 2412, 2428, 2803, 2902])"
   ]
  },
  {
   "cell_type": "code",
   "execution_count": 52,
   "metadata": {},
   "outputs": [
    {
     "data": {
      "text/plain": [
       "(20,)"
      ]
     },
     "execution_count": 52,
     "metadata": {},
     "output_type": "execute_result"
    }
   ],
   "source": [
    "np.unique(valid.df['speaker_id'].values)[0:20]\n",
    "n_random_speakers.shape"
   ]
  },
  {
   "cell_type": "code",
   "execution_count": 53,
   "metadata": {},
   "outputs": [],
   "source": [
    "# Get m samples from each speaker\n",
    "import pdb\n",
    "def _get_m_samples_from_n_speakers(m_samples, n_random_speakers, valid):\n",
    "    X, y, indexes = [], [], []\n",
    "    for i in n_random_speakers:\n",
    "        ids = valid.df[valid.df['speaker_id']==i]['id'].sample(m_samples).values\n",
    "        #pdb.set_trace()\n",
    "        Z = [train[i] for i in ids]\n",
    "        X_ = np.stack(list(zip(*Z))[0])[:, :, np.newaxis]\n",
    "        y_ = np.stack(list(zip(*Z))[1])[:, np.newaxis]\n",
    "        [X_, _], _ = whiten_downsample(([X_, X_], []))\n",
    "\n",
    "        X.append(X_)\n",
    "        y.append(y_[:, 0])\n",
    "        indexes.append(ids)\n",
    "        #pdb.set_trace()\n",
    "    X = np.concatenate(X)\n",
    "    y = np.concatenate(y)\n",
    "    indexes = np.concatenate(indexes)\n",
    "    return X, y, indexes\n",
    "X, y, indexes=_get_m_samples_from_n_speakers(m_samples, n_random_speakers, valid)"
   ]
  },
  {
   "cell_type": "code",
   "execution_count": 16,
   "metadata": {},
   "outputs": [],
   "source": [
    "# print(X.shape, y[1], indexes[1])\n",
    "# train.df[train.df['speaker_id']== 1001]\n",
    "# n_random_speakers\n",
    "# l=valid.df['speaker_id']\n",
    "# print(l,l.values)"
   ]
  },
  {
   "cell_type": "markdown",
   "metadata": {},
   "source": [
    "# Embed"
   ]
  },
  {
   "cell_type": "code",
   "execution_count": 54,
   "metadata": {},
   "outputs": [
    {
     "data": {
      "text/plain": [
       "(200, 64)"
      ]
     },
     "execution_count": 54,
     "metadata": {},
     "output_type": "execute_result"
    }
   ],
   "source": [
    "embeddings = encoder.predict(X)\n",
    "embeddings.shape"
   ]
  },
  {
   "cell_type": "code",
   "execution_count": 18,
   "metadata": {},
   "outputs": [],
   "source": [
    "from voicemap.utils import BatchPreProcessor, preprocess_instances, NShotEvaluationCallback\n",
    "batchsize=64\n",
    "batch_preprocessor = BatchPreProcessor('siamese', preprocess_instances(downsampling))\n",
    "valid_generator = (batch_preprocessor(batch) for batch in valid.yield_verification_batches(batchsize))"
   ]
  },
  {
   "cell_type": "code",
   "execution_count": 19,
   "metadata": {},
   "outputs": [
    {
     "name": "stdout",
     "output_type": "stream",
     "text": [
      "\r",
      "1/1 [==============================] - 7s 7s/step\n"
     ]
    }
   ],
   "source": [
    "y_pred=siamese.predict_generator(valid_generator, steps=1, max_queue_size=10, workers=1, use_multiprocessing=False, verbose=1)"
   ]
  },
  {
   "cell_type": "code",
   "execution_count": 20,
   "metadata": {},
   "outputs": [],
   "source": [
    "#siamese.predict([X[0], X[1]], 1], batch_size=None, verbose=0, steps=None)"
   ]
  },
  {
   "cell_type": "markdown",
   "metadata": {},
   "source": [
    "# Dimensionality Reduction"
   ]
  },
  {
   "cell_type": "code",
   "execution_count": 21,
   "metadata": {},
   "outputs": [],
   "source": [
    "def compare_samples(a, b):\n",
    "    sample_a = train[a]\n",
    "    sample_b = train[b]\n",
    "\n",
    "    print('Sample A ({}):'.format(a))\n",
    "    display(Audio(data=sample_a[0],rate=LIBRISPEECH_SAMPLING_RATE))\n",
    "    print('Sample B ({}):'.format(b))\n",
    "    display(Audio(data=sample_b[0],rate=LIBRISPEECH_SAMPLING_RATE))"
   ]
  },
  {
   "cell_type": "code",
   "execution_count": 59,
   "metadata": {},
   "outputs": [
    {
     "data": {
      "text/plain": [
       "(200, 2)"
      ]
     },
     "execution_count": 59,
     "metadata": {},
     "output_type": "execute_result"
    }
   ],
   "source": [
    "tsne = TSNE(perplexity=30,learning_rate=1000, early_exaggeration=1)\n",
    "\n",
    "tsne_embeddings = tsne.fit_transform(embeddings)\n",
    "tsne_embeddings.shape"
   ]
  },
  {
   "cell_type": "code",
   "execution_count": 60,
   "metadata": {
    "scrolled": true
   },
   "outputs": [],
   "source": [
    "gender_markers = np.array([0 if train.df[train.df['id']==i]['sex'].values[0] == 'M' else 1 for i in indexes])"
   ]
  },
  {
   "cell_type": "code",
   "execution_count": 61,
   "metadata": {},
   "outputs": [
    {
     "data": {
      "text/plain": [
       "((60, 4), (140, 4))"
      ]
     },
     "execution_count": 61,
     "metadata": {},
     "output_type": "execute_result"
    }
   ],
   "source": [
    "Z = np.hstack([tsne_embeddings, y[:, np.newaxis], gender_markers[:, np.newaxis]])\n",
    "m = Z[Z[:, 3] == 0]\n",
    "f = Z[Z[:, 3] == 1]\n",
    "m.shape, f.shape"
   ]
  },
  {
   "cell_type": "code",
   "execution_count": 63,
   "metadata": {},
   "outputs": [
    {
     "data": {
      "image/png": "[encoded data removed]",
      "text/plain": [
       "<Figure size 864x864 with 1 Axes>"
      ]
     },
     "metadata": {},
     "output_type": "display_data"
    }
   ],
   "source": [
    "plt.figure(figsize=(12,12))\n",
    "\n",
    "ax = plt.axes()\n",
    "ax.scatter(m[:, 0], m[:, 1], c=[np.unique(m[:, 2]).tolist().index(i) for i in m[:, 2]], \n",
    "           marker='o', cmap='tab10')\n",
    "ax.scatter(f[:, 0], f[:, 1], c=[np.unique(f[:, 2]).tolist().index(i) for i in f[:, 2]], \n",
    "           marker='^', cmap='tab10')\n",
    "\n",
    "# Uncomment this block to show indexes of the samples in the dataset\n",
    "#for x_, y_, idx, speaker_id in zip(Z[:, 0], Z[:, 1], indexes, y):\n",
    "    #if np.random.random() < 0.025:\n",
    "#   plt.text(x_, y_, idx)\n",
    "\n",
    "ax.axes.set_xticklabels([])\n",
    "ax.axes.set_yticklabels([])\n",
    "plt.grid()\n",
    "plt.legend(('Male', 'Female'),loc=1)\n",
    "plt.savefig(\"Cluster5.png\", dpi=250)\n",
    "plt.show()"
   ]
  },
  {
   "cell_type": "code",
   "execution_count": null,
   "metadata": {},
   "outputs": [],
   "source": [
    "Z[:,2][0:5], indexes[0:5], y[0:5]"
   ]
  },
  {
   "cell_type": "markdown",
   "metadata": {},
   "source": [
    "## Outliers/Misclassified"
   ]
  },
  {
   "cell_type": "code",
   "execution_count": null,
   "metadata": {},
   "outputs": [],
   "source": [
    "compare_samples(1487, 1594)"
   ]
  },
  {
   "cell_type": "code",
   "execution_count": null,
   "metadata": {},
   "outputs": [],
   "source": [
    "compare_samples(838, 2214) "
   ]
  },
  {
   "cell_type": "markdown",
   "metadata": {},
   "source": [
    "# KNN Classifier "
   ]
  },
  {
   "cell_type": "code",
   "execution_count": null,
   "metadata": {},
   "outputs": [],
   "source": [
    "from sklearn.neighbors import KNeighborsClassifier\n",
    "n_speakers = 20\n",
    "m_samples = 10\n",
    "n_random_speakers = train.df['speaker_id'].sample(n_speakers).values\n",
    "X_train, y_train, indexes=_get_m_samples_from_n_speakers(m_samples, n_random_speakers, train)\n",
    "embeddings = encoder.predict(X_train)\n",
    "embeddings.shape"
   ]
  },
  {
   "cell_type": "code",
   "execution_count": null,
   "metadata": {},
   "outputs": [],
   "source": [
    "# Create KNN classifier\n",
    "knn = KNeighborsClassifier(n_neighbors = 1)\n",
    "# Fit the classifier to the data\n",
    "knn.fit(embeddings,y_train)\n",
    "print(knn.score(embeddings, y_train))"
   ]
  },
  {
   "cell_type": "code",
   "execution_count": null,
   "metadata": {},
   "outputs": [],
   "source": [
    "##Testing\n",
    "n_random_speakers = valid.df['speaker_id'].sample(n_speakers).values\n",
    "X_valid, y_valid, indexes=_get_m_samples_from_n_speakers(m_samples, n_random_speakers, valid)\n",
    "embeddings_valid = encoder.predict(X_valid)"
   ]
  },
  {
   "cell_type": "code",
   "execution_count": null,
   "metadata": {},
   "outputs": [],
   "source": [
    "y_pred=knn.predict(embeddings_valid)\n",
    "print(knn.score(embeddings_valid, y_valid))"
   ]
  },
  {
   "cell_type": "code",
   "execution_count": null,
   "metadata": {},
   "outputs": [],
   "source": [
    "#print(y_pred, y_valid)"
   ]
  },
  {
   "cell_type": "markdown",
   "metadata": {},
   "source": [
    "# DBSCAN"
   ]
  },
  {
   "cell_type": "code",
   "execution_count": null,
   "metadata": {},
   "outputs": [],
   "source": [
    "\n",
    "import numpy as np\n",
    "\n",
    "from sklearn.cluster import DBSCAN\n",
    "from sklearn import metrics"
   ]
  },
  {
   "cell_type": "code",
   "execution_count": null,
   "metadata": {},
   "outputs": [],
   "source": [
    "db = DBSCAN(eps=1.1, min_samples=4)\n",
    "y_pred=db.fit_predict(tsne_embeddings)"
   ]
  },
  {
   "cell_type": "code",
   "execution_count": null,
   "metadata": {},
   "outputs": [],
   "source": [
    "labels = db.labels_\n",
    "n_clusters_ = len(set(labels)) - (1 if -1 in labels else 0)\n",
    "n_noise_ = list(labels).count(-1)\n",
    "n_clusters_\n"
   ]
  },
  {
   "cell_type": "code",
   "execution_count": null,
   "metadata": {},
   "outputs": [],
   "source": [
    "labels"
   ]
  },
  {
   "cell_type": "code",
   "execution_count": null,
   "metadata": {},
   "outputs": [],
   "source": [
    "y_pred2= db.labels_.astype(np.int)\n"
   ]
  },
  {
   "cell_type": "code",
   "execution_count": null,
   "metadata": {},
   "outputs": [],
   "source": [
    "plt.figure(figsize=(12,12))\n",
    "\n",
    "ax = plt.axes()\n",
    "ax.scatter(tsne_embeddings[:,0], tsne_embeddings[:, 1], c=[np.unique(y_pred2).tolist().index(i) for i in y_pred2], \n",
    "           marker='o', cmap='tab10')\n",
    "\n",
    "#Uncomment this block to show indexes of the samples in the dataset\n",
    "#for x_, y_, idx, speaker_id in list(zip(Z[:, 0], Z[:, 1], indexes, y)):\n",
    "    #if np.random.random() < 0.025:\n",
    "    #plt.text(x_, y_, idx)\n",
    "#centers = db.cluster_centers_\n",
    "#plt.scatter(centers[:, 0], centers[:, 1], c='black', s=200, alpha=0.5);\n",
    "ax.axes.set_xticklabels([])\n",
    "ax.axes.set_yticklabels([])\n",
    "#ax.legend()\n",
    "plt.grid()\n",
    "plt.show()"
   ]
  },
  {
   "cell_type": "markdown",
   "metadata": {},
   "source": [
    "# Accuracy"
   ]
  },
  {
   "cell_type": "code",
   "execution_count": null,
   "metadata": {},
   "outputs": [],
   "source": [
    "from voicemap.utils import preprocess_instances,n_shot_task_evaluation, NShotEvaluationCallback, BatchPreProcessor"
   ]
  },
  {
   "cell_type": "code",
   "execution_count": null,
   "metadata": {},
   "outputs": [],
   "source": [
    "#ns=NShotEvaluationCallback(10, 1, 5, valid, batch_preprocessor)\n",
    "n_task=15\n",
    "n_shot=1\n",
    "k_way=5\n",
    "n_correct=n_shot_task_evaluation(siamese, valid, batch_preprocessor, n_task, n_shot, k_way, network_type='siamese', distance='euclidean')"
   ]
  },
  {
   "cell_type": "code",
   "execution_count": null,
   "metadata": {},
   "outputs": [],
   "source": [
    "acc=n_correct/n_task\n",
    "acc"
   ]
  },
  {
   "cell_type": "code",
   "execution_count": null,
   "metadata": {},
   "outputs": [],
   "source": [
    "#ns=NShotEvaluationCallback(10, 1, 5, valid, batch_preprocessor)\n",
    "n_task=15\n",
    "n_shot=1\n",
    "k_way=5\n",
    "n_correct2=n_shot_task_evaluation(encoder, valid, batch_preprocessor, n_task, n_shot, k_way, network_type='classifier', distance='euclidean')"
   ]
  },
  {
   "cell_type": "code",
   "execution_count": null,
   "metadata": {},
   "outputs": [],
   "source": [
    "acc2=n_correct2/n_task\n",
    "acc2"
   ]
  },
  {
   "cell_type": "code",
   "execution_count": null,
   "metadata": {},
   "outputs": [],
   "source": [
    "y_pred2[0:5], Z[:,2][0:5], indexes[0:5], y[0:5]\n"
   ]
  },
  {
   "cell_type": "code",
   "execution_count": null,
   "metadata": {},
   "outputs": [],
   "source": [
    "c=[np.unique(Z[:, 2]).tolist().index(i) for i in Z[:, 2]]\n",
    "y_pred"
   ]
  },
  {
   "cell_type": "markdown",
   "metadata": {},
   "source": [
    "# Logistic Regression Classifier "
   ]
  },
  {
   "cell_type": "code",
   "execution_count": null,
   "metadata": {},
   "outputs": [],
   "source": []
  }
 ],
 "metadata": {
  "kernelspec": {
   "display_name": "Python 3",
   "language": "python",
   "name": "python3"
  },
  "language_info": {
   "codemirror_mode": {
    "name": "ipython",
    "version": 3
   },
   "file_extension": ".py",
   "mimetype": "text/x-python",
   "name": "python",
   "nbconvert_exporter": "python",
   "pygments_lexer": "ipython3",
   "version": "3.6.5"
  }
 },
 "nbformat": 4,
 "nbformat_minor": 2
}
