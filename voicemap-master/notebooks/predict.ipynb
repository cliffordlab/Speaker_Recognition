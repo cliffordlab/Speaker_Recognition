{
 "cells": [
  {
   "cell_type": "code",
   "execution_count": 12,
   "metadata": {},
   "outputs": [
    {
     "name": "stdout",
     "output_type": "stream",
     "text": [
      "The autoreload extension is already loaded. To reload it, use:\n",
      "  %reload_ext autoreload\n"
     ]
    }
   ],
   "source": [
    "import sys\n",
    "sys.path.append('../voicemap/')\n",
    "sys.path.append('../')\n",
    "from IPython.display import SVG, Audio, display\n",
    "from librispeech import LibriSpeechDataset\n",
    "from utils import whiten, contrastive_loss, preprocess_instances, BatchPreProcessor\n",
    "from config import LIBRISPEECH_SAMPLING_RATE\n",
    "from voicemap.models import get_baseline_convolutional_encoder, build_siamese_net\n",
    "from keras.optimizers import Adam\n",
    "import numpy as np\n",
    "import pandas as pd\n",
    "from keras.models import load_model\n",
    "import keras.backend as K\n",
    "%load_ext autoreload\n",
    "%autoreload 2"
   ]
  },
  {
   "cell_type": "code",
   "execution_count": 13,
   "metadata": {},
   "outputs": [],
   "source": [
    "## Initialising all Parameters\n",
    "n_seconds = 4\n",
    "downsampling = 4\n",
    "batchsize = 64\n",
    "filters = 128\n",
    "embedding_dimension = 64\n",
    "dropout = 0.0\n",
    "input_length = int(LIBRISPEECH_SAMPLING_RATE * n_seconds / downsampling)\n",
    "# model_path = '../models_new/siamese__filters_128__embed_64__drop_0.0__pad=True.hdf5'\n",
    "# model_path = '../models_e50_cluster/n_seconds/siamese__nseconds_1.0__filters_128__embed_64__drop_0.0__r_0.hdf5'\n",
    "model_path ='../models_retry/n_seconds/siamese__nseconds_4__filters_128__embed_64__drop_0.0__r_0.hdf5'\n",
    "# model_path ='../models_360/n_seconds/siamese__nseconds_5__filters_128__embed_64__drop_0.0__r_0.hdf5'"
   ]
  },
  {
   "cell_type": "code",
   "execution_count": 14,
   "metadata": {},
   "outputs": [],
   "source": [
    "#Load model\n",
    "encoder = get_baseline_convolutional_encoder(filters, embedding_dimension, dropout=dropout)\n",
    "siamese = build_siamese_net(encoder, (input_length, 1), distance_metric='uniform_euclidean')\n",
    "opt = Adam(clipnorm=1.)\n",
    "siamese.compile(loss='binary_crossentropy', optimizer=opt, metrics=['accuracy'])\n",
    "#siamese = load_model(model_path)\n",
    "siamese.load_weights(model_path)"
   ]
  },
  {
   "cell_type": "markdown",
   "metadata": {},
   "source": [
    "## Encoder\n"
   ]
  },
  {
   "cell_type": "code",
   "execution_count": 15,
   "metadata": {},
   "outputs": [],
   "source": [
    "from keras.models import Model\n",
    "from keras.layers import Input\n",
    "from keras.utils.vis_utils import model_to_dot\n",
    "## Load Encoder\n",
    "inputs = Input(shape=(input_length,1))\n",
    "encoded = siamese.layers[2](inputs)\n",
    "encoder = Model(inputs=inputs, outputs=encoded)\n",
    "encoder = siamese.layers[2]\n",
    "encoder.compile(loss='mse',optimizer='adam')"
   ]
  },
  {
   "cell_type": "code",
   "execution_count": 5,
   "metadata": {},
   "outputs": [
    {
     "data": {
      "image/svg+xml": [
       "<svg height=\"1503pt\" viewBox=\"0.00 0.00 467.02 1503.00\" width=\"467pt\" xmlns=\"http://www.w3.org/2000/svg\" xmlns:xlink=\"http://www.w3.org/1999/xlink\">\n",
       "<g class=\"graph\" id=\"graph0\" transform=\"scale(1 1) rotate(0) translate(4 1499)\">\n",
       "<title>G</title>\n",
       "<polygon fill=\"#ffffff\" points=\"-4,4 -4,-1499 463.0244,-1499 463.0244,4 -4,4\" stroke=\"transparent\"/>\n",
       "<!-- 47907771784 -->\n",
       "<g class=\"node\" id=\"node1\">\n",
       "<title>47907771784</title>\n",
       "<polygon fill=\"none\" points=\"75.8276,-1377.5 75.8276,-1421.5 383.1968,-1421.5 383.1968,-1377.5 75.8276,-1377.5\" stroke=\"#000000\"/>\n",
       "<text fill=\"#000000\" font-family=\"Times,serif\" font-size=\"14.00\" text-anchor=\"middle\" x=\"138.8535\" y=\"-1395.3\">conv1d_1: Conv1D</text>\n",
       "<polyline fill=\"none\" points=\"201.8794,-1377.5 201.8794,-1421.5 \" stroke=\"#000000\"/>\n",
       "<text fill=\"#000000\" font-family=\"Times,serif\" font-size=\"14.00\" text-anchor=\"middle\" x=\"229.7139\" y=\"-1406.3\">input:</text>\n",
       "<polyline fill=\"none\" points=\"201.8794,-1399.5 257.5483,-1399.5 \" stroke=\"#000000\"/>\n",
       "<text fill=\"#000000\" font-family=\"Times,serif\" font-size=\"14.00\" text-anchor=\"middle\" x=\"229.7139\" y=\"-1384.3\">output:</text>\n",
       "<polyline fill=\"none\" points=\"257.5483,-1377.5 257.5483,-1421.5 \" stroke=\"#000000\"/>\n",
       "<text fill=\"#000000\" font-family=\"Times,serif\" font-size=\"14.00\" text-anchor=\"middle\" x=\"320.3726\" y=\"-1406.3\">(None, 16000, 1)</text>\n",
       "<polyline fill=\"none\" points=\"257.5483,-1399.5 383.1968,-1399.5 \" stroke=\"#000000\"/>\n",
       "<text fill=\"#000000\" font-family=\"Times,serif\" font-size=\"14.00\" text-anchor=\"middle\" x=\"320.3726\" y=\"-1384.3\">(None, 16000, 128)</text>\n",
       "</g>\n",
       "<!-- 47907772176 -->\n",
       "<g class=\"node\" id=\"node2\">\n",
       "<title>47907772176</title>\n",
       "<polygon fill=\"none\" points=\"5.8652,-1296.5 5.8652,-1340.5 453.1592,-1340.5 453.1592,-1296.5 5.8652,-1296.5\" stroke=\"#000000\"/>\n",
       "<text fill=\"#000000\" font-family=\"Times,serif\" font-size=\"14.00\" text-anchor=\"middle\" x=\"138.8535\" y=\"-1314.3\">batch_normalization_1: BatchNormalization</text>\n",
       "<polyline fill=\"none\" points=\"271.8418,-1296.5 271.8418,-1340.5 \" stroke=\"#000000\"/>\n",
       "<text fill=\"#000000\" font-family=\"Times,serif\" font-size=\"14.00\" text-anchor=\"middle\" x=\"299.6763\" y=\"-1325.3\">input:</text>\n",
       "<polyline fill=\"none\" points=\"271.8418,-1318.5 327.5107,-1318.5 \" stroke=\"#000000\"/>\n",
       "<text fill=\"#000000\" font-family=\"Times,serif\" font-size=\"14.00\" text-anchor=\"middle\" x=\"299.6763\" y=\"-1303.3\">output:</text>\n",
       "<polyline fill=\"none\" points=\"327.5107,-1296.5 327.5107,-1340.5 \" stroke=\"#000000\"/>\n",
       "<text fill=\"#000000\" font-family=\"Times,serif\" font-size=\"14.00\" text-anchor=\"middle\" x=\"390.335\" y=\"-1325.3\">(None, 16000, 128)</text>\n",
       "<polyline fill=\"none\" points=\"327.5107,-1318.5 453.1592,-1318.5 \" stroke=\"#000000\"/>\n",
       "<text fill=\"#000000\" font-family=\"Times,serif\" font-size=\"14.00\" text-anchor=\"middle\" x=\"390.335\" y=\"-1303.3\">(None, 16000, 128)</text>\n",
       "</g>\n",
       "<!-- 47907771784&#45;&gt;47907772176 -->\n",
       "<g class=\"edge\" id=\"edge2\">\n",
       "<title>47907771784-&gt;47907772176</title>\n",
       "<path d=\"M229.5122,-1377.3664C229.5122,-1369.1516 229.5122,-1359.6579 229.5122,-1350.7252\" fill=\"none\" stroke=\"#000000\"/>\n",
       "<polygon fill=\"#000000\" points=\"233.0123,-1350.6068 229.5122,-1340.6068 226.0123,-1350.6069 233.0123,-1350.6068\" stroke=\"#000000\"/>\n",
       "</g>\n",
       "<!-- 47907772456 -->\n",
       "<g class=\"node\" id=\"node3\">\n",
       "<title>47907772456</title>\n",
       "<polygon fill=\"none\" points=\"18.2827,-1215.5 18.2827,-1259.5 440.7417,-1259.5 440.7417,-1215.5 18.2827,-1215.5\" stroke=\"#000000\"/>\n",
       "<text fill=\"#000000\" font-family=\"Times,serif\" font-size=\"14.00\" text-anchor=\"middle\" x=\"138.8535\" y=\"-1233.3\">spatial_dropout1d_1: SpatialDropout1D</text>\n",
       "<polyline fill=\"none\" points=\"259.4243,-1215.5 259.4243,-1259.5 \" stroke=\"#000000\"/>\n",
       "<text fill=\"#000000\" font-family=\"Times,serif\" font-size=\"14.00\" text-anchor=\"middle\" x=\"287.2588\" y=\"-1244.3\">input:</text>\n",
       "<polyline fill=\"none\" points=\"259.4243,-1237.5 315.0933,-1237.5 \" stroke=\"#000000\"/>\n",
       "<text fill=\"#000000\" font-family=\"Times,serif\" font-size=\"14.00\" text-anchor=\"middle\" x=\"287.2588\" y=\"-1222.3\">output:</text>\n",
       "<polyline fill=\"none\" points=\"315.0933,-1215.5 315.0933,-1259.5 \" stroke=\"#000000\"/>\n",
       "<text fill=\"#000000\" font-family=\"Times,serif\" font-size=\"14.00\" text-anchor=\"middle\" x=\"377.9175\" y=\"-1244.3\">(None, 16000, 128)</text>\n",
       "<polyline fill=\"none\" points=\"315.0933,-1237.5 440.7417,-1237.5 \" stroke=\"#000000\"/>\n",
       "<text fill=\"#000000\" font-family=\"Times,serif\" font-size=\"14.00\" text-anchor=\"middle\" x=\"377.9175\" y=\"-1222.3\">(None, 16000, 128)</text>\n",
       "</g>\n",
       "<!-- 47907772176&#45;&gt;47907772456 -->\n",
       "<g class=\"edge\" id=\"edge3\">\n",
       "<title>47907772176-&gt;47907772456</title>\n",
       "<path d=\"M229.5122,-1296.3664C229.5122,-1288.1516 229.5122,-1278.6579 229.5122,-1269.7252\" fill=\"none\" stroke=\"#000000\"/>\n",
       "<polygon fill=\"#000000\" points=\"233.0123,-1269.6068 229.5122,-1259.6068 226.0123,-1269.6069 233.0123,-1269.6068\" stroke=\"#000000\"/>\n",
       "</g>\n",
       "<!-- 47907772568 -->\n",
       "<g class=\"node\" id=\"node4\">\n",
       "<title>47907772568</title>\n",
       "<polygon fill=\"none\" points=\"33.0483,-1134.5 33.0483,-1178.5 425.9761,-1178.5 425.9761,-1134.5 33.0483,-1134.5\" stroke=\"#000000\"/>\n",
       "<text fill=\"#000000\" font-family=\"Times,serif\" font-size=\"14.00\" text-anchor=\"middle\" x=\"138.8535\" y=\"-1152.3\">max_pooling1d_1: MaxPooling1D</text>\n",
       "<polyline fill=\"none\" points=\"244.6587,-1134.5 244.6587,-1178.5 \" stroke=\"#000000\"/>\n",
       "<text fill=\"#000000\" font-family=\"Times,serif\" font-size=\"14.00\" text-anchor=\"middle\" x=\"272.4932\" y=\"-1163.3\">input:</text>\n",
       "<polyline fill=\"none\" points=\"244.6587,-1156.5 300.3276,-1156.5 \" stroke=\"#000000\"/>\n",
       "<text fill=\"#000000\" font-family=\"Times,serif\" font-size=\"14.00\" text-anchor=\"middle\" x=\"272.4932\" y=\"-1141.3\">output:</text>\n",
       "<polyline fill=\"none\" points=\"300.3276,-1134.5 300.3276,-1178.5 \" stroke=\"#000000\"/>\n",
       "<text fill=\"#000000\" font-family=\"Times,serif\" font-size=\"14.00\" text-anchor=\"middle\" x=\"363.1519\" y=\"-1163.3\">(None, 16000, 128)</text>\n",
       "<polyline fill=\"none\" points=\"300.3276,-1156.5 425.9761,-1156.5 \" stroke=\"#000000\"/>\n",
       "<text fill=\"#000000\" font-family=\"Times,serif\" font-size=\"14.00\" text-anchor=\"middle\" x=\"363.1519\" y=\"-1141.3\">(None, 4000, 128)</text>\n",
       "</g>\n",
       "<!-- 47907772456&#45;&gt;47907772568 -->\n",
       "<g class=\"edge\" id=\"edge4\">\n",
       "<title>47907772456-&gt;47907772568</title>\n",
       "<path d=\"M229.5122,-1215.3664C229.5122,-1207.1516 229.5122,-1197.6579 229.5122,-1188.7252\" fill=\"none\" stroke=\"#000000\"/>\n",
       "<polygon fill=\"#000000\" points=\"233.0123,-1188.6068 229.5122,-1178.6068 226.0123,-1188.6069 233.0123,-1188.6068\" stroke=\"#000000\"/>\n",
       "</g>\n",
       "<!-- 47907772736 -->\n",
       "<g class=\"node\" id=\"node5\">\n",
       "<title>47907772736</title>\n",
       "<polygon fill=\"none\" points=\"79.3276,-1053.5 79.3276,-1097.5 379.6968,-1097.5 379.6968,-1053.5 79.3276,-1053.5\" stroke=\"#000000\"/>\n",
       "<text fill=\"#000000\" font-family=\"Times,serif\" font-size=\"14.00\" text-anchor=\"middle\" x=\"142.3535\" y=\"-1071.3\">conv1d_2: Conv1D</text>\n",
       "<polyline fill=\"none\" points=\"205.3794,-1053.5 205.3794,-1097.5 \" stroke=\"#000000\"/>\n",
       "<text fill=\"#000000\" font-family=\"Times,serif\" font-size=\"14.00\" text-anchor=\"middle\" x=\"233.2139\" y=\"-1082.3\">input:</text>\n",
       "<polyline fill=\"none\" points=\"205.3794,-1075.5 261.0483,-1075.5 \" stroke=\"#000000\"/>\n",
       "<text fill=\"#000000\" font-family=\"Times,serif\" font-size=\"14.00\" text-anchor=\"middle\" x=\"233.2139\" y=\"-1060.3\">output:</text>\n",
       "<polyline fill=\"none\" points=\"261.0483,-1053.5 261.0483,-1097.5 \" stroke=\"#000000\"/>\n",
       "<text fill=\"#000000\" font-family=\"Times,serif\" font-size=\"14.00\" text-anchor=\"middle\" x=\"320.3726\" y=\"-1082.3\">(None, 4000, 128)</text>\n",
       "<polyline fill=\"none\" points=\"261.0483,-1075.5 379.6968,-1075.5 \" stroke=\"#000000\"/>\n",
       "<text fill=\"#000000\" font-family=\"Times,serif\" font-size=\"14.00\" text-anchor=\"middle\" x=\"320.3726\" y=\"-1060.3\">(None, 4000, 256)</text>\n",
       "</g>\n",
       "<!-- 47907772568&#45;&gt;47907772736 -->\n",
       "<g class=\"edge\" id=\"edge5\">\n",
       "<title>47907772568-&gt;47907772736</title>\n",
       "<path d=\"M229.5122,-1134.3664C229.5122,-1126.1516 229.5122,-1116.6579 229.5122,-1107.7252\" fill=\"none\" stroke=\"#000000\"/>\n",
       "<polygon fill=\"#000000\" points=\"233.0123,-1107.6068 229.5122,-1097.6068 226.0123,-1107.6069 233.0123,-1107.6068\" stroke=\"#000000\"/>\n",
       "</g>\n",
       "<!-- 47907773128 -->\n",
       "<g class=\"node\" id=\"node6\">\n",
       "<title>47907773128</title>\n",
       "<polygon fill=\"none\" points=\"9.3652,-972.5 9.3652,-1016.5 449.6592,-1016.5 449.6592,-972.5 9.3652,-972.5\" stroke=\"#000000\"/>\n",
       "<text fill=\"#000000\" font-family=\"Times,serif\" font-size=\"14.00\" text-anchor=\"middle\" x=\"142.3535\" y=\"-990.3\">batch_normalization_2: BatchNormalization</text>\n",
       "<polyline fill=\"none\" points=\"275.3418,-972.5 275.3418,-1016.5 \" stroke=\"#000000\"/>\n",
       "<text fill=\"#000000\" font-family=\"Times,serif\" font-size=\"14.00\" text-anchor=\"middle\" x=\"303.1763\" y=\"-1001.3\">input:</text>\n",
       "<polyline fill=\"none\" points=\"275.3418,-994.5 331.0107,-994.5 \" stroke=\"#000000\"/>\n",
       "<text fill=\"#000000\" font-family=\"Times,serif\" font-size=\"14.00\" text-anchor=\"middle\" x=\"303.1763\" y=\"-979.3\">output:</text>\n",
       "<polyline fill=\"none\" points=\"331.0107,-972.5 331.0107,-1016.5 \" stroke=\"#000000\"/>\n",
       "<text fill=\"#000000\" font-family=\"Times,serif\" font-size=\"14.00\" text-anchor=\"middle\" x=\"390.335\" y=\"-1001.3\">(None, 4000, 256)</text>\n",
       "<polyline fill=\"none\" points=\"331.0107,-994.5 449.6592,-994.5 \" stroke=\"#000000\"/>\n",
       "<text fill=\"#000000\" font-family=\"Times,serif\" font-size=\"14.00\" text-anchor=\"middle\" x=\"390.335\" y=\"-979.3\">(None, 4000, 256)</text>\n",
       "</g>\n",
       "<!-- 47907772736&#45;&gt;47907773128 -->\n",
       "<g class=\"edge\" id=\"edge6\">\n",
       "<title>47907772736-&gt;47907773128</title>\n",
       "<path d=\"M229.5122,-1053.3664C229.5122,-1045.1516 229.5122,-1035.6579 229.5122,-1026.7252\" fill=\"none\" stroke=\"#000000\"/>\n",
       "<polygon fill=\"#000000\" points=\"233.0123,-1026.6068 229.5122,-1016.6068 226.0123,-1026.6069 233.0123,-1026.6068\" stroke=\"#000000\"/>\n",
       "</g>\n",
       "<!-- 47907773464 -->\n",
       "<g class=\"node\" id=\"node7\">\n",
       "<title>47907773464</title>\n",
       "<polygon fill=\"none\" points=\"21.7827,-891.5 21.7827,-935.5 437.2417,-935.5 437.2417,-891.5 21.7827,-891.5\" stroke=\"#000000\"/>\n",
       "<text fill=\"#000000\" font-family=\"Times,serif\" font-size=\"14.00\" text-anchor=\"middle\" x=\"142.3535\" y=\"-909.3\">spatial_dropout1d_2: SpatialDropout1D</text>\n",
       "<polyline fill=\"none\" points=\"262.9243,-891.5 262.9243,-935.5 \" stroke=\"#000000\"/>\n",
       "<text fill=\"#000000\" font-family=\"Times,serif\" font-size=\"14.00\" text-anchor=\"middle\" x=\"290.7588\" y=\"-920.3\">input:</text>\n",
       "<polyline fill=\"none\" points=\"262.9243,-913.5 318.5933,-913.5 \" stroke=\"#000000\"/>\n",
       "<text fill=\"#000000\" font-family=\"Times,serif\" font-size=\"14.00\" text-anchor=\"middle\" x=\"290.7588\" y=\"-898.3\">output:</text>\n",
       "<polyline fill=\"none\" points=\"318.5933,-891.5 318.5933,-935.5 \" stroke=\"#000000\"/>\n",
       "<text fill=\"#000000\" font-family=\"Times,serif\" font-size=\"14.00\" text-anchor=\"middle\" x=\"377.9175\" y=\"-920.3\">(None, 4000, 256)</text>\n",
       "<polyline fill=\"none\" points=\"318.5933,-913.5 437.2417,-913.5 \" stroke=\"#000000\"/>\n",
       "<text fill=\"#000000\" font-family=\"Times,serif\" font-size=\"14.00\" text-anchor=\"middle\" x=\"377.9175\" y=\"-898.3\">(None, 4000, 256)</text>\n",
       "</g>\n",
       "<!-- 47907773128&#45;&gt;47907773464 -->\n",
       "<g class=\"edge\" id=\"edge7\">\n",
       "<title>47907773128-&gt;47907773464</title>\n",
       "<path d=\"M229.5122,-972.3664C229.5122,-964.1516 229.5122,-954.6579 229.5122,-945.7252\" fill=\"none\" stroke=\"#000000\"/>\n",
       "<polygon fill=\"#000000\" points=\"233.0123,-945.6068 229.5122,-935.6068 226.0123,-945.6069 233.0123,-945.6068\" stroke=\"#000000\"/>\n",
       "</g>\n",
       "<!-- 47907773576 -->\n",
       "<g class=\"node\" id=\"node8\">\n",
       "<title>47907773576</title>\n",
       "<polygon fill=\"none\" points=\"36.5483,-810.5 36.5483,-854.5 422.4761,-854.5 422.4761,-810.5 36.5483,-810.5\" stroke=\"#000000\"/>\n",
       "<text fill=\"#000000\" font-family=\"Times,serif\" font-size=\"14.00\" text-anchor=\"middle\" x=\"142.3535\" y=\"-828.3\">max_pooling1d_2: MaxPooling1D</text>\n",
       "<polyline fill=\"none\" points=\"248.1587,-810.5 248.1587,-854.5 \" stroke=\"#000000\"/>\n",
       "<text fill=\"#000000\" font-family=\"Times,serif\" font-size=\"14.00\" text-anchor=\"middle\" x=\"275.9932\" y=\"-839.3\">input:</text>\n",
       "<polyline fill=\"none\" points=\"248.1587,-832.5 303.8276,-832.5 \" stroke=\"#000000\"/>\n",
       "<text fill=\"#000000\" font-family=\"Times,serif\" font-size=\"14.00\" text-anchor=\"middle\" x=\"275.9932\" y=\"-817.3\">output:</text>\n",
       "<polyline fill=\"none\" points=\"303.8276,-810.5 303.8276,-854.5 \" stroke=\"#000000\"/>\n",
       "<text fill=\"#000000\" font-family=\"Times,serif\" font-size=\"14.00\" text-anchor=\"middle\" x=\"363.1519\" y=\"-839.3\">(None, 4000, 256)</text>\n",
       "<polyline fill=\"none\" points=\"303.8276,-832.5 422.4761,-832.5 \" stroke=\"#000000\"/>\n",
       "<text fill=\"#000000\" font-family=\"Times,serif\" font-size=\"14.00\" text-anchor=\"middle\" x=\"363.1519\" y=\"-817.3\">(None, 2000, 256)</text>\n",
       "</g>\n",
       "<!-- 47907773464&#45;&gt;47907773576 -->\n",
       "<g class=\"edge\" id=\"edge8\">\n",
       "<title>47907773464-&gt;47907773576</title>\n",
       "<path d=\"M229.5122,-891.3664C229.5122,-883.1516 229.5122,-873.6579 229.5122,-864.7252\" fill=\"none\" stroke=\"#000000\"/>\n",
       "<polygon fill=\"#000000\" points=\"233.0123,-864.6068 229.5122,-854.6068 226.0123,-864.6069 233.0123,-864.6068\" stroke=\"#000000\"/>\n",
       "</g>\n",
       "<!-- 47907773744 -->\n",
       "<g class=\"node\" id=\"node9\">\n",
       "<title>47907773744</title>\n",
       "<polygon fill=\"none\" points=\"79.3276,-729.5 79.3276,-773.5 379.6968,-773.5 379.6968,-729.5 79.3276,-729.5\" stroke=\"#000000\"/>\n",
       "<text fill=\"#000000\" font-family=\"Times,serif\" font-size=\"14.00\" text-anchor=\"middle\" x=\"142.3535\" y=\"-747.3\">conv1d_3: Conv1D</text>\n",
       "<polyline fill=\"none\" points=\"205.3794,-729.5 205.3794,-773.5 \" stroke=\"#000000\"/>\n",
       "<text fill=\"#000000\" font-family=\"Times,serif\" font-size=\"14.00\" text-anchor=\"middle\" x=\"233.2139\" y=\"-758.3\">input:</text>\n",
       "<polyline fill=\"none\" points=\"205.3794,-751.5 261.0483,-751.5 \" stroke=\"#000000\"/>\n",
       "<text fill=\"#000000\" font-family=\"Times,serif\" font-size=\"14.00\" text-anchor=\"middle\" x=\"233.2139\" y=\"-736.3\">output:</text>\n",
       "<polyline fill=\"none\" points=\"261.0483,-729.5 261.0483,-773.5 \" stroke=\"#000000\"/>\n",
       "<text fill=\"#000000\" font-family=\"Times,serif\" font-size=\"14.00\" text-anchor=\"middle\" x=\"320.3726\" y=\"-758.3\">(None, 2000, 256)</text>\n",
       "<polyline fill=\"none\" points=\"261.0483,-751.5 379.6968,-751.5 \" stroke=\"#000000\"/>\n",
       "<text fill=\"#000000\" font-family=\"Times,serif\" font-size=\"14.00\" text-anchor=\"middle\" x=\"320.3726\" y=\"-736.3\">(None, 2000, 384)</text>\n",
       "</g>\n",
       "<!-- 47907773576&#45;&gt;47907773744 -->\n",
       "<g class=\"edge\" id=\"edge9\">\n",
       "<title>47907773576-&gt;47907773744</title>\n",
       "<path d=\"M229.5122,-810.3664C229.5122,-802.1516 229.5122,-792.6579 229.5122,-783.7252\" fill=\"none\" stroke=\"#000000\"/>\n",
       "<polygon fill=\"#000000\" points=\"233.0123,-783.6068 229.5122,-773.6068 226.0123,-783.6069 233.0123,-783.6068\" stroke=\"#000000\"/>\n",
       "</g>\n",
       "<!-- 47907774360 -->\n",
       "<g class=\"node\" id=\"node10\">\n",
       "<title>47907774360</title>\n",
       "<polygon fill=\"none\" points=\"9.3652,-648.5 9.3652,-692.5 449.6592,-692.5 449.6592,-648.5 9.3652,-648.5\" stroke=\"#000000\"/>\n",
       "<text fill=\"#000000\" font-family=\"Times,serif\" font-size=\"14.00\" text-anchor=\"middle\" x=\"142.3535\" y=\"-666.3\">batch_normalization_3: BatchNormalization</text>\n",
       "<polyline fill=\"none\" points=\"275.3418,-648.5 275.3418,-692.5 \" stroke=\"#000000\"/>\n",
       "<text fill=\"#000000\" font-family=\"Times,serif\" font-size=\"14.00\" text-anchor=\"middle\" x=\"303.1763\" y=\"-677.3\">input:</text>\n",
       "<polyline fill=\"none\" points=\"275.3418,-670.5 331.0107,-670.5 \" stroke=\"#000000\"/>\n",
       "<text fill=\"#000000\" font-family=\"Times,serif\" font-size=\"14.00\" text-anchor=\"middle\" x=\"303.1763\" y=\"-655.3\">output:</text>\n",
       "<polyline fill=\"none\" points=\"331.0107,-648.5 331.0107,-692.5 \" stroke=\"#000000\"/>\n",
       "<text fill=\"#000000\" font-family=\"Times,serif\" font-size=\"14.00\" text-anchor=\"middle\" x=\"390.335\" y=\"-677.3\">(None, 2000, 384)</text>\n",
       "<polyline fill=\"none\" points=\"331.0107,-670.5 449.6592,-670.5 \" stroke=\"#000000\"/>\n",
       "<text fill=\"#000000\" font-family=\"Times,serif\" font-size=\"14.00\" text-anchor=\"middle\" x=\"390.335\" y=\"-655.3\">(None, 2000, 384)</text>\n",
       "</g>\n",
       "<!-- 47907773744&#45;&gt;47907774360 -->\n",
       "<g class=\"edge\" id=\"edge10\">\n",
       "<title>47907773744-&gt;47907774360</title>\n",
       "<path d=\"M229.5122,-729.3664C229.5122,-721.1516 229.5122,-711.6579 229.5122,-702.7252\" fill=\"none\" stroke=\"#000000\"/>\n",
       "<polygon fill=\"#000000\" points=\"233.0123,-702.6068 229.5122,-692.6068 226.0123,-702.6069 233.0123,-702.6068\" stroke=\"#000000\"/>\n",
       "</g>\n",
       "<!-- 47907774416 -->\n",
       "<g class=\"node\" id=\"node11\">\n",
       "<title>47907774416</title>\n",
       "<polygon fill=\"none\" points=\"21.7827,-567.5 21.7827,-611.5 437.2417,-611.5 437.2417,-567.5 21.7827,-567.5\" stroke=\"#000000\"/>\n",
       "<text fill=\"#000000\" font-family=\"Times,serif\" font-size=\"14.00\" text-anchor=\"middle\" x=\"142.3535\" y=\"-585.3\">spatial_dropout1d_3: SpatialDropout1D</text>\n",
       "<polyline fill=\"none\" points=\"262.9243,-567.5 262.9243,-611.5 \" stroke=\"#000000\"/>\n",
       "<text fill=\"#000000\" font-family=\"Times,serif\" font-size=\"14.00\" text-anchor=\"middle\" x=\"290.7588\" y=\"-596.3\">input:</text>\n",
       "<polyline fill=\"none\" points=\"262.9243,-589.5 318.5933,-589.5 \" stroke=\"#000000\"/>\n",
       "<text fill=\"#000000\" font-family=\"Times,serif\" font-size=\"14.00\" text-anchor=\"middle\" x=\"290.7588\" y=\"-574.3\">output:</text>\n",
       "<polyline fill=\"none\" points=\"318.5933,-567.5 318.5933,-611.5 \" stroke=\"#000000\"/>\n",
       "<text fill=\"#000000\" font-family=\"Times,serif\" font-size=\"14.00\" text-anchor=\"middle\" x=\"377.9175\" y=\"-596.3\">(None, 2000, 384)</text>\n",
       "<polyline fill=\"none\" points=\"318.5933,-589.5 437.2417,-589.5 \" stroke=\"#000000\"/>\n",
       "<text fill=\"#000000\" font-family=\"Times,serif\" font-size=\"14.00\" text-anchor=\"middle\" x=\"377.9175\" y=\"-574.3\">(None, 2000, 384)</text>\n",
       "</g>\n",
       "<!-- 47907774360&#45;&gt;47907774416 -->\n",
       "<g class=\"edge\" id=\"edge11\">\n",
       "<title>47907774360-&gt;47907774416</title>\n",
       "<path d=\"M229.5122,-648.3664C229.5122,-640.1516 229.5122,-630.6579 229.5122,-621.7252\" fill=\"none\" stroke=\"#000000\"/>\n",
       "<polygon fill=\"#000000\" points=\"233.0123,-621.6068 229.5122,-611.6068 226.0123,-621.6069 233.0123,-621.6068\" stroke=\"#000000\"/>\n",
       "</g>\n",
       "<!-- 47909298584 -->\n",
       "<g class=\"node\" id=\"node12\">\n",
       "<title>47909298584</title>\n",
       "<polygon fill=\"none\" points=\"36.5483,-486.5 36.5483,-530.5 422.4761,-530.5 422.4761,-486.5 36.5483,-486.5\" stroke=\"#000000\"/>\n",
       "<text fill=\"#000000\" font-family=\"Times,serif\" font-size=\"14.00\" text-anchor=\"middle\" x=\"142.3535\" y=\"-504.3\">max_pooling1d_3: MaxPooling1D</text>\n",
       "<polyline fill=\"none\" points=\"248.1587,-486.5 248.1587,-530.5 \" stroke=\"#000000\"/>\n",
       "<text fill=\"#000000\" font-family=\"Times,serif\" font-size=\"14.00\" text-anchor=\"middle\" x=\"275.9932\" y=\"-515.3\">input:</text>\n",
       "<polyline fill=\"none\" points=\"248.1587,-508.5 303.8276,-508.5 \" stroke=\"#000000\"/>\n",
       "<text fill=\"#000000\" font-family=\"Times,serif\" font-size=\"14.00\" text-anchor=\"middle\" x=\"275.9932\" y=\"-493.3\">output:</text>\n",
       "<polyline fill=\"none\" points=\"303.8276,-486.5 303.8276,-530.5 \" stroke=\"#000000\"/>\n",
       "<text fill=\"#000000\" font-family=\"Times,serif\" font-size=\"14.00\" text-anchor=\"middle\" x=\"363.1519\" y=\"-515.3\">(None, 2000, 384)</text>\n",
       "<polyline fill=\"none\" points=\"303.8276,-508.5 422.4761,-508.5 \" stroke=\"#000000\"/>\n",
       "<text fill=\"#000000\" font-family=\"Times,serif\" font-size=\"14.00\" text-anchor=\"middle\" x=\"363.1519\" y=\"-493.3\">(None, 1000, 384)</text>\n",
       "</g>\n",
       "<!-- 47907774416&#45;&gt;47909298584 -->\n",
       "<g class=\"edge\" id=\"edge12\">\n",
       "<title>47907774416-&gt;47909298584</title>\n",
       "<path d=\"M229.5122,-567.3664C229.5122,-559.1516 229.5122,-549.6579 229.5122,-540.7252\" fill=\"none\" stroke=\"#000000\"/>\n",
       "<polygon fill=\"#000000\" points=\"233.0123,-540.6068 229.5122,-530.6068 226.0123,-540.6069 233.0123,-540.6068\" stroke=\"#000000\"/>\n",
       "</g>\n",
       "<!-- 47909298752 -->\n",
       "<g class=\"node\" id=\"node13\">\n",
       "<title>47909298752</title>\n",
       "<polygon fill=\"none\" points=\"79.3276,-405.5 79.3276,-449.5 379.6968,-449.5 379.6968,-405.5 79.3276,-405.5\" stroke=\"#000000\"/>\n",
       "<text fill=\"#000000\" font-family=\"Times,serif\" font-size=\"14.00\" text-anchor=\"middle\" x=\"142.3535\" y=\"-423.3\">conv1d_4: Conv1D</text>\n",
       "<polyline fill=\"none\" points=\"205.3794,-405.5 205.3794,-449.5 \" stroke=\"#000000\"/>\n",
       "<text fill=\"#000000\" font-family=\"Times,serif\" font-size=\"14.00\" text-anchor=\"middle\" x=\"233.2139\" y=\"-434.3\">input:</text>\n",
       "<polyline fill=\"none\" points=\"205.3794,-427.5 261.0483,-427.5 \" stroke=\"#000000\"/>\n",
       "<text fill=\"#000000\" font-family=\"Times,serif\" font-size=\"14.00\" text-anchor=\"middle\" x=\"233.2139\" y=\"-412.3\">output:</text>\n",
       "<polyline fill=\"none\" points=\"261.0483,-405.5 261.0483,-449.5 \" stroke=\"#000000\"/>\n",
       "<text fill=\"#000000\" font-family=\"Times,serif\" font-size=\"14.00\" text-anchor=\"middle\" x=\"320.3726\" y=\"-434.3\">(None, 1000, 384)</text>\n",
       "<polyline fill=\"none\" points=\"261.0483,-427.5 379.6968,-427.5 \" stroke=\"#000000\"/>\n",
       "<text fill=\"#000000\" font-family=\"Times,serif\" font-size=\"14.00\" text-anchor=\"middle\" x=\"320.3726\" y=\"-412.3\">(None, 1000, 512)</text>\n",
       "</g>\n",
       "<!-- 47909298584&#45;&gt;47909298752 -->\n",
       "<g class=\"edge\" id=\"edge13\">\n",
       "<title>47909298584-&gt;47909298752</title>\n",
       "<path d=\"M229.5122,-486.3664C229.5122,-478.1516 229.5122,-468.6579 229.5122,-459.7252\" fill=\"none\" stroke=\"#000000\"/>\n",
       "<polygon fill=\"#000000\" points=\"233.0123,-459.6068 229.5122,-449.6068 226.0123,-459.6069 233.0123,-459.6068\" stroke=\"#000000\"/>\n",
       "</g>\n",
       "<!-- 47909299368 -->\n",
       "<g class=\"node\" id=\"node14\">\n",
       "<title>47909299368</title>\n",
       "<polygon fill=\"none\" points=\"9.3652,-324.5 9.3652,-368.5 449.6592,-368.5 449.6592,-324.5 9.3652,-324.5\" stroke=\"#000000\"/>\n",
       "<text fill=\"#000000\" font-family=\"Times,serif\" font-size=\"14.00\" text-anchor=\"middle\" x=\"142.3535\" y=\"-342.3\">batch_normalization_4: BatchNormalization</text>\n",
       "<polyline fill=\"none\" points=\"275.3418,-324.5 275.3418,-368.5 \" stroke=\"#000000\"/>\n",
       "<text fill=\"#000000\" font-family=\"Times,serif\" font-size=\"14.00\" text-anchor=\"middle\" x=\"303.1763\" y=\"-353.3\">input:</text>\n",
       "<polyline fill=\"none\" points=\"275.3418,-346.5 331.0107,-346.5 \" stroke=\"#000000\"/>\n",
       "<text fill=\"#000000\" font-family=\"Times,serif\" font-size=\"14.00\" text-anchor=\"middle\" x=\"303.1763\" y=\"-331.3\">output:</text>\n",
       "<polyline fill=\"none\" points=\"331.0107,-324.5 331.0107,-368.5 \" stroke=\"#000000\"/>\n",
       "<text fill=\"#000000\" font-family=\"Times,serif\" font-size=\"14.00\" text-anchor=\"middle\" x=\"390.335\" y=\"-353.3\">(None, 1000, 512)</text>\n",
       "<polyline fill=\"none\" points=\"331.0107,-346.5 449.6592,-346.5 \" stroke=\"#000000\"/>\n",
       "<text fill=\"#000000\" font-family=\"Times,serif\" font-size=\"14.00\" text-anchor=\"middle\" x=\"390.335\" y=\"-331.3\">(None, 1000, 512)</text>\n",
       "</g>\n",
       "<!-- 47909298752&#45;&gt;47909299368 -->\n",
       "<g class=\"edge\" id=\"edge14\">\n",
       "<title>47909298752-&gt;47909299368</title>\n",
       "<path d=\"M229.5122,-405.3664C229.5122,-397.1516 229.5122,-387.6579 229.5122,-378.7252\" fill=\"none\" stroke=\"#000000\"/>\n",
       "<polygon fill=\"#000000\" points=\"233.0123,-378.6068 229.5122,-368.6068 226.0123,-378.6069 233.0123,-378.6068\" stroke=\"#000000\"/>\n",
       "</g>\n",
       "<!-- 47909299704 -->\n",
       "<g class=\"node\" id=\"node15\">\n",
       "<title>47909299704</title>\n",
       "<polygon fill=\"none\" points=\"21.7827,-243.5 21.7827,-287.5 437.2417,-287.5 437.2417,-243.5 21.7827,-243.5\" stroke=\"#000000\"/>\n",
       "<text fill=\"#000000\" font-family=\"Times,serif\" font-size=\"14.00\" text-anchor=\"middle\" x=\"142.3535\" y=\"-261.3\">spatial_dropout1d_4: SpatialDropout1D</text>\n",
       "<polyline fill=\"none\" points=\"262.9243,-243.5 262.9243,-287.5 \" stroke=\"#000000\"/>\n",
       "<text fill=\"#000000\" font-family=\"Times,serif\" font-size=\"14.00\" text-anchor=\"middle\" x=\"290.7588\" y=\"-272.3\">input:</text>\n",
       "<polyline fill=\"none\" points=\"262.9243,-265.5 318.5933,-265.5 \" stroke=\"#000000\"/>\n",
       "<text fill=\"#000000\" font-family=\"Times,serif\" font-size=\"14.00\" text-anchor=\"middle\" x=\"290.7588\" y=\"-250.3\">output:</text>\n",
       "<polyline fill=\"none\" points=\"318.5933,-243.5 318.5933,-287.5 \" stroke=\"#000000\"/>\n",
       "<text fill=\"#000000\" font-family=\"Times,serif\" font-size=\"14.00\" text-anchor=\"middle\" x=\"377.9175\" y=\"-272.3\">(None, 1000, 512)</text>\n",
       "<polyline fill=\"none\" points=\"318.5933,-265.5 437.2417,-265.5 \" stroke=\"#000000\"/>\n",
       "<text fill=\"#000000\" font-family=\"Times,serif\" font-size=\"14.00\" text-anchor=\"middle\" x=\"377.9175\" y=\"-250.3\">(None, 1000, 512)</text>\n",
       "</g>\n",
       "<!-- 47909299368&#45;&gt;47909299704 -->\n",
       "<g class=\"edge\" id=\"edge15\">\n",
       "<title>47909299368-&gt;47909299704</title>\n",
       "<path d=\"M229.5122,-324.3664C229.5122,-316.1516 229.5122,-306.6579 229.5122,-297.7252\" fill=\"none\" stroke=\"#000000\"/>\n",
       "<polygon fill=\"#000000\" points=\"233.0123,-297.6068 229.5122,-287.6068 226.0123,-297.6069 233.0123,-297.6068\" stroke=\"#000000\"/>\n",
       "</g>\n",
       "<!-- 47909299816 -->\n",
       "<g class=\"node\" id=\"node16\">\n",
       "<title>47909299816</title>\n",
       "<polygon fill=\"none\" points=\"36.5483,-162.5 36.5483,-206.5 422.4761,-206.5 422.4761,-162.5 36.5483,-162.5\" stroke=\"#000000\"/>\n",
       "<text fill=\"#000000\" font-family=\"Times,serif\" font-size=\"14.00\" text-anchor=\"middle\" x=\"142.3535\" y=\"-180.3\">max_pooling1d_4: MaxPooling1D</text>\n",
       "<polyline fill=\"none\" points=\"248.1587,-162.5 248.1587,-206.5 \" stroke=\"#000000\"/>\n",
       "<text fill=\"#000000\" font-family=\"Times,serif\" font-size=\"14.00\" text-anchor=\"middle\" x=\"275.9932\" y=\"-191.3\">input:</text>\n",
       "<polyline fill=\"none\" points=\"248.1587,-184.5 303.8276,-184.5 \" stroke=\"#000000\"/>\n",
       "<text fill=\"#000000\" font-family=\"Times,serif\" font-size=\"14.00\" text-anchor=\"middle\" x=\"275.9932\" y=\"-169.3\">output:</text>\n",
       "<polyline fill=\"none\" points=\"303.8276,-162.5 303.8276,-206.5 \" stroke=\"#000000\"/>\n",
       "<text fill=\"#000000\" font-family=\"Times,serif\" font-size=\"14.00\" text-anchor=\"middle\" x=\"363.1519\" y=\"-191.3\">(None, 1000, 512)</text>\n",
       "<polyline fill=\"none\" points=\"303.8276,-184.5 422.4761,-184.5 \" stroke=\"#000000\"/>\n",
       "<text fill=\"#000000\" font-family=\"Times,serif\" font-size=\"14.00\" text-anchor=\"middle\" x=\"363.1519\" y=\"-169.3\">(None, 500, 512)</text>\n",
       "</g>\n",
       "<!-- 47909299704&#45;&gt;47909299816 -->\n",
       "<g class=\"edge\" id=\"edge16\">\n",
       "<title>47909299704-&gt;47909299816</title>\n",
       "<path d=\"M229.5122,-243.3664C229.5122,-235.1516 229.5122,-225.6579 229.5122,-216.7252\" fill=\"none\" stroke=\"#000000\"/>\n",
       "<polygon fill=\"#000000\" points=\"233.0123,-216.6068 229.5122,-206.6068 226.0123,-216.6069 233.0123,-216.6068\" stroke=\"#000000\"/>\n",
       "</g>\n",
       "<!-- 47909299984 -->\n",
       "<g class=\"node\" id=\"node17\">\n",
       "<title>47909299984</title>\n",
       "<polygon fill=\"none\" points=\"0,-81.5 0,-125.5 459.0244,-125.5 459.0244,-81.5 0,-81.5\" stroke=\"#000000\"/>\n",
       "<text fill=\"#000000\" font-family=\"Times,serif\" font-size=\"14.00\" text-anchor=\"middle\" x=\"145.8535\" y=\"-99.3\">global_max_pooling1d_1: GlobalMaxPooling1D</text>\n",
       "<polyline fill=\"none\" points=\"291.707,-81.5 291.707,-125.5 \" stroke=\"#000000\"/>\n",
       "<text fill=\"#000000\" font-family=\"Times,serif\" font-size=\"14.00\" text-anchor=\"middle\" x=\"319.5415\" y=\"-110.3\">input:</text>\n",
       "<polyline fill=\"none\" points=\"291.707,-103.5 347.376,-103.5 \" stroke=\"#000000\"/>\n",
       "<text fill=\"#000000\" font-family=\"Times,serif\" font-size=\"14.00\" text-anchor=\"middle\" x=\"319.5415\" y=\"-88.3\">output:</text>\n",
       "<polyline fill=\"none\" points=\"347.376,-81.5 347.376,-125.5 \" stroke=\"#000000\"/>\n",
       "<text fill=\"#000000\" font-family=\"Times,serif\" font-size=\"14.00\" text-anchor=\"middle\" x=\"403.2002\" y=\"-110.3\">(None, 500, 512)</text>\n",
       "<polyline fill=\"none\" points=\"347.376,-103.5 459.0244,-103.5 \" stroke=\"#000000\"/>\n",
       "<text fill=\"#000000\" font-family=\"Times,serif\" font-size=\"14.00\" text-anchor=\"middle\" x=\"403.2002\" y=\"-88.3\">(None, 512)</text>\n",
       "</g>\n",
       "<!-- 47909299816&#45;&gt;47909299984 -->\n",
       "<g class=\"edge\" id=\"edge17\">\n",
       "<title>47909299816-&gt;47909299984</title>\n",
       "<path d=\"M229.5122,-162.3664C229.5122,-154.1516 229.5122,-144.6579 229.5122,-135.7252\" fill=\"none\" stroke=\"#000000\"/>\n",
       "<polygon fill=\"#000000\" points=\"233.0123,-135.6068 229.5122,-125.6068 226.0123,-135.6069 233.0123,-135.6068\" stroke=\"#000000\"/>\n",
       "</g>\n",
       "<!-- 47909300096 -->\n",
       "<g class=\"node\" id=\"node18\">\n",
       "<title>47909300096</title>\n",
       "<polygon fill=\"none\" points=\"107.7275,-.5 107.7275,-44.5 351.2969,-44.5 351.2969,-.5 107.7275,-.5\" stroke=\"#000000\"/>\n",
       "<text fill=\"#000000\" font-family=\"Times,serif\" font-size=\"14.00\" text-anchor=\"middle\" x=\"159.8535\" y=\"-18.3\">dense_1: Dense</text>\n",
       "<polyline fill=\"none\" points=\"211.9795,-.5 211.9795,-44.5 \" stroke=\"#000000\"/>\n",
       "<text fill=\"#000000\" font-family=\"Times,serif\" font-size=\"14.00\" text-anchor=\"middle\" x=\"239.814\" y=\"-29.3\">input:</text>\n",
       "<polyline fill=\"none\" points=\"211.9795,-22.5 267.6484,-22.5 \" stroke=\"#000000\"/>\n",
       "<text fill=\"#000000\" font-family=\"Times,serif\" font-size=\"14.00\" text-anchor=\"middle\" x=\"239.814\" y=\"-7.3\">output:</text>\n",
       "<polyline fill=\"none\" points=\"267.6484,-.5 267.6484,-44.5 \" stroke=\"#000000\"/>\n",
       "<text fill=\"#000000\" font-family=\"Times,serif\" font-size=\"14.00\" text-anchor=\"middle\" x=\"309.4727\" y=\"-29.3\">(None, 512)</text>\n",
       "<polyline fill=\"none\" points=\"267.6484,-22.5 351.2969,-22.5 \" stroke=\"#000000\"/>\n",
       "<text fill=\"#000000\" font-family=\"Times,serif\" font-size=\"14.00\" text-anchor=\"middle\" x=\"309.4727\" y=\"-7.3\">(None, 64)</text>\n",
       "</g>\n",
       "<!-- 47909299984&#45;&gt;47909300096 -->\n",
       "<g class=\"edge\" id=\"edge18\">\n",
       "<title>47909299984-&gt;47909300096</title>\n",
       "<path d=\"M229.5122,-81.3664C229.5122,-73.1516 229.5122,-63.6579 229.5122,-54.7252\" fill=\"none\" stroke=\"#000000\"/>\n",
       "<polygon fill=\"#000000\" points=\"233.0123,-54.6068 229.5122,-44.6068 226.0123,-54.6069 233.0123,-54.6068\" stroke=\"#000000\"/>\n",
       "</g>\n",
       "<!-- 47909301440 -->\n",
       "<g class=\"node\" id=\"node19\">\n",
       "<title>47909301440</title>\n",
       "<polygon fill=\"none\" points=\"183.0122,-1458.5 183.0122,-1494.5 276.0122,-1494.5 276.0122,-1458.5 183.0122,-1458.5\" stroke=\"#000000\"/>\n",
       "<text fill=\"#000000\" font-family=\"Times,serif\" font-size=\"14.00\" text-anchor=\"middle\" x=\"229.5122\" y=\"-1472.3\">47909301440</text>\n",
       "</g>\n",
       "<!-- 47909301440&#45;&gt;47907771784 -->\n",
       "<g class=\"edge\" id=\"edge1\">\n",
       "<title>47909301440-&gt;47907771784</title>\n",
       "<path d=\"M229.5122,-1458.2521C229.5122,-1450.3888 229.5122,-1440.9498 229.5122,-1431.9612\" fill=\"none\" stroke=\"#000000\"/>\n",
       "<polygon fill=\"#000000\" points=\"233.0123,-1431.7376 229.5122,-1421.7377 226.0123,-1431.7377 233.0123,-1431.7376\" stroke=\"#000000\"/>\n",
       "</g>\n",
       "</g>\n",
       "</svg>"
      ],
      "text/plain": [
       "<IPython.core.display.SVG object>"
      ]
     },
     "execution_count": 5,
     "metadata": {},
     "output_type": "execute_result"
    }
   ],
   "source": [
    "SVG(model_to_dot(encoder, show_shapes=True).create(prog='dot', format='svg'))"
   ]
  },
  {
   "cell_type": "code",
   "execution_count": 16,
   "metadata": {},
   "outputs": [
    {
     "name": "stdout",
     "output_type": "stream",
     "text": [
      "Initialising LibriSpeechDataset with minimum length = 4s and subsets = ['train-clean-100']\n",
      "Finished indexing data. 28442 usable files found.\n",
      "Initialising LibriSpeechDataset with minimum length = 4s and subsets = ['dev-clean']\n",
      "Finished indexing data. 2703 usable files found.\n"
     ]
    }
   ],
   "source": [
    "## Training\n",
    "training_set = ['train-clean-100']\n",
    "train = LibriSpeechDataset(training_set, n_seconds, stochastic=True, pad=True)#, cache=False)\n",
    "## Validation\n",
    "validation_set = ['dev-clean']\n",
    "valid = LibriSpeechDataset(validation_set, n_seconds, stochastic=True, pad=True)#,cache=False)"
   ]
  },
  {
   "cell_type": "code",
   "execution_count": 17,
   "metadata": {},
   "outputs": [],
   "source": [
    "batch_preprocessor = BatchPreProcessor(\"classifier\", preprocess_instances(downsampling))\n",
    "preprocessor = batch_preprocessor"
   ]
  },
  {
   "cell_type": "code",
   "execution_count": 18,
   "metadata": {},
   "outputs": [
    {
     "name": "stdout",
     "output_type": "stream",
     "text": [
      "(28442,)\n"
     ]
    }
   ],
   "source": [
    "from sklearn.model_selection import train_test_split\n",
    "## Split the train filenames to train, val_speakers\n",
    "\n",
    "speaker_list=train.df[\"speaker_id\"]\n",
    "train_arr_filenames=train.df['filepath']\n",
    "print(train_arr_filenames.shape)\n",
    "\n",
    "indices = np.arange(len(train_arr_filenames))\n",
    "ind_train, ind_test = train_test_split(indices, test_size=0.33, random_state=42)\n",
    "\n",
    "X_train_files = train_arr_filenames[ind_train]\n",
    "X_test_files = train_arr_filenames[ind_test]\n",
    "y_train = speaker_list[ind_train]\n",
    "y_test = speaker_list[ind_test]"
   ]
  },
  {
   "cell_type": "markdown",
   "metadata": {},
   "source": [
    "# Classifier of Embeddings"
   ]
  },
  {
   "cell_type": "code",
   "execution_count": 19,
   "metadata": {},
   "outputs": [],
   "source": [
    "def read_data(input_data, train=train):\n",
    "    X_array =[]\n",
    "    #instance, sr = sf.read(input_data[i])\n",
    "    for i in input_data.index.values:\n",
    "        instance, sp = train[i]\n",
    "        X_array.append(instance)\n",
    "    X_array = np.array(X_array)\n",
    "    return X_array"
   ]
  },
  {
   "cell_type": "code",
   "execution_count": 20,
   "metadata": {},
   "outputs": [],
   "source": [
    "def extract_embedding(X_array, encoder):\n",
    "    query_instance_ = preprocessor.instance_preprocessor(X_array[:,:,np.newaxis])\n",
    "    print(len(query_instance_))\n",
    "    emb = encoder.predict(query_instance_)\n",
    "    #emb = encoder.predict_on_batch(query_instance_)\n",
    "    #emb = encoder(query_instance_)\n",
    "    return emb"
   ]
  },
  {
   "cell_type": "code",
   "execution_count": 21,
   "metadata": {},
   "outputs": [
    {
     "name": "stdout",
     "output_type": "stream",
     "text": [
      "Loaded audio file into DataFrame\n"
     ]
    }
   ],
   "source": [
    "train.read_audio_dataset()\n",
    "train.pre_read = True"
   ]
  },
  {
   "cell_type": "code",
   "execution_count": 22,
   "metadata": {},
   "outputs": [
    {
     "name": "stdout",
     "output_type": "stream",
     "text": [
      "(19056, 64000)\n",
      "(9386, 64000)\n"
     ]
    }
   ],
   "source": [
    "## Changed from train to valid\n",
    "X_read = read_data(X_train_files, train)\n",
    "print(X_read.shape)\n",
    "val_read = read_data(X_test_files,train)\n",
    "print(val_read.shape)"
   ]
  },
  {
   "cell_type": "code",
   "execution_count": 23,
   "metadata": {},
   "outputs": [
    {
     "name": "stdout",
     "output_type": "stream",
     "text": [
      "19056\n"
     ]
    }
   ],
   "source": [
    "emb = extract_embedding(X_read, encoder)"
   ]
  },
  {
   "cell_type": "code",
   "execution_count": null,
   "metadata": {},
   "outputs": [
    {
     "name": "stdout",
     "output_type": "stream",
     "text": [
      "9386\n"
     ]
    }
   ],
   "source": [
    "val_emb = extract_embedding(val_read, encoder)"
   ]
  },
  {
   "cell_type": "code",
   "execution_count": 18,
   "metadata": {},
   "outputs": [],
   "source": [
    "np.save('./saved_data/emb_4sec_sampling.npy',emb)\n",
    "np.save('./saved_data/val_emb_4sec_sampling.npy',val_emb)\n",
    "\n",
    "#emb=np.load('./saved_data/emb_3sec_r.npy')\n",
    "#val_emb = np.load('./saved_data/val_emb_3sec_r.npy')"
   ]
  },
  {
   "cell_type": "code",
   "execution_count": 15,
   "metadata": {},
   "outputs": [
    {
     "data": {
      "text/plain": [
       "SVC(C=1.0, cache_size=200, class_weight=None, coef0=0.0,\n",
       "  decision_function_shape='ovr', degree=3, gamma='scale', kernel='rbf',\n",
       "  max_iter=-1, probability=True, random_state=None, shrinking=True,\n",
       "  tol=0.001, verbose=False)"
      ]
     },
     "execution_count": 15,
     "metadata": {},
     "output_type": "execute_result"
    }
   ],
   "source": [
    "from sklearn import svm\n",
    "## Train Classifier\n",
    "X_tr = emb\n",
    "y_tr = y_train\n",
    "clf = svm.SVC(gamma = 'scale', probability=True)\n",
    "clf.fit(X_tr, y_tr) "
   ]
  },
  {
   "cell_type": "code",
   "execution_count": 16,
   "metadata": {},
   "outputs": [
    {
     "name": "stdout",
     "output_type": "stream",
     "text": [
      "0.663754528020456\n"
     ]
    }
   ],
   "source": [
    "y_pred = clf.predict(val_emb)\n",
    "#probs = clf.predict_proba(val_emb)\n",
    "y_val = y_test\n",
    "from sklearn.metrics import accuracy_score\n",
    "print(accuracy_score(y_val, y_pred))"
   ]
  },
  {
   "cell_type": "code",
   "execution_count": 15,
   "metadata": {
    "scrolled": true
   },
   "outputs": [
    {
     "name": "stdout",
     "output_type": "stream",
     "text": [
      "loaded\n",
      "0.7642233113147241\n"
     ]
    }
   ],
   "source": [
    "# import pickle\n",
    "# with open('clf_5_r.pkl', 'rb') as f:\n",
    "#     clf = pickle.load(f)\n",
    "# val_emb = np.load('saved_data/val_emb_5sec_r.npy')\n",
    "# print(\"loaded\")\n",
    "y_pred = clf.predict(val_emb)\n",
    "probs = clf.predict_proba(val_emb)\n",
    "y_val = y_test\n",
    "from sklearn.metrics import accuracy_score\n",
    "print(accuracy_score(y_val, y_pred))"
   ]
  },
  {
   "cell_type": "code",
   "execution_count": 17,
   "metadata": {},
   "outputs": [],
   "source": [
    "## Saving classifier\n",
    "import pickle\n",
    "with open('clf_4_sampling.pkl', 'wb') as f:\n",
    "    pickle.dump(clf, f)\n",
    "## Loading pre-saved classifier \n",
    "# import pickle\n",
    "# with open('clf_2.pkl', 'rb') as f:\n",
    "#     clf = pickle.load(f)"
   ]
  },
  {
   "cell_type": "code",
   "execution_count": 23,
   "metadata": {},
   "outputs": [],
   "source": [
    "import soundfile as sf\n",
    "def evaluate(input_data, encoder=encoder, classifier=clf, train=train, X_train_files=X_train_files):\n",
    "    if isinstance(input_data,pd.core.series.Series):\n",
    "        X_read = read_data(input_data, train)\n",
    "    elif isinstance(input_data,str):\n",
    "        if input_data in train.df['filepath'].values:\n",
    "            X_read, _ = train[train.df[train.df['filepath'].values==input_data].index.values[0]]\n",
    "            X_read = X_read.reshape(1,-1)\n",
    "    #print(X_read.shape)\n",
    "    X_emb = extract_embedding(X_read, encoder)\n",
    "    y_pred = clf.predict(X_emb)\n",
    "    probs = clf.predict_proba(X_emb)\n",
    "    return y_pred, probs"
   ]
  },
  {
   "cell_type": "markdown",
   "metadata": {},
   "source": [
    "### Overlapped conversation"
   ]
  },
  {
   "cell_type": "code",
   "execution_count": 210,
   "metadata": {},
   "outputs": [],
   "source": [
    "overlap_files = ['/Users/sanmathikamath/projects/datasets/overlap-male27-male26.flac',\n",
    "                 '/Users/sanmathikamath/projects/datasets/overlap-male27-female103.flac',\n",
    "                '/Users/sanmathikamath/projects/datasets/overlap-male7264-female103.flac', \n",
    "                 '/Users/sanmathikamath/projects/datasets/overlap-female7302-female103.flac']\n",
    "\n",
    "# read_data(overlap_files[0])\n",
    "# train_arr_filenames[0:1].index, overlap_files.index, \n",
    "# train.df['filepath'].isin([overlap_files[0]]).any()\n",
    "# instance, sr = sf.read(overlap_files[0])\n",
    "# instance.shape"
   ]
  },
  {
   "cell_type": "code",
   "execution_count": 212,
   "metadata": {},
   "outputs": [
    {
     "ename": "NameError",
     "evalue": "name 'threshold' is not defined",
     "output_type": "error",
     "traceback": [
      "\u001b[0;31m---------------------------------------------------------------------------\u001b[0m",
      "\u001b[0;31mNameError\u001b[0m                                 Traceback (most recent call last)",
      "\u001b[0;32m<ipython-input-212-33b5863e09b2>\u001b[0m in \u001b[0;36m<module>\u001b[0;34m()\u001b[0m\n\u001b[1;32m     15\u001b[0m \u001b[0mprob_overlap\u001b[0m \u001b[0;34m=\u001b[0m \u001b[0mclf\u001b[0m\u001b[0;34m.\u001b[0m\u001b[0mpredict_proba\u001b[0m\u001b[0;34m(\u001b[0m\u001b[0memb_overlap\u001b[0m\u001b[0;34m)\u001b[0m\u001b[0;34m\u001b[0m\u001b[0m\n\u001b[1;32m     16\u001b[0m \u001b[0mpreds\u001b[0m \u001b[0;34m=\u001b[0m \u001b[0mclf\u001b[0m\u001b[0;34m.\u001b[0m\u001b[0mpredict\u001b[0m\u001b[0;34m(\u001b[0m\u001b[0memb_overlap\u001b[0m\u001b[0;34m)\u001b[0m\u001b[0;34m\u001b[0m\u001b[0m\n\u001b[0;32m---> 17\u001b[0;31m \u001b[0mprint\u001b[0m\u001b[0;34m(\u001b[0m\u001b[0mpreds\u001b[0m\u001b[0;34m,\u001b[0m \u001b[0mthreshold\u001b[0m\u001b[0;34m)\u001b[0m\u001b[0;34m\u001b[0m\u001b[0m\n\u001b[0m\u001b[1;32m     18\u001b[0m \u001b[0mpreds\u001b[0m\u001b[0;34m[\u001b[0m\u001b[0mnp\u001b[0m\u001b[0;34m.\u001b[0m\u001b[0mmax\u001b[0m\u001b[0;34m(\u001b[0m\u001b[0mprob_overlap\u001b[0m\u001b[0;34m,\u001b[0m \u001b[0maxis\u001b[0m \u001b[0;34m=\u001b[0m\u001b[0;36m1\u001b[0m\u001b[0;34m)\u001b[0m\u001b[0;34m<\u001b[0m\u001b[0mthreshold\u001b[0m\u001b[0;34m]\u001b[0m \u001b[0;34m=\u001b[0m \u001b[0;36m0\u001b[0m\u001b[0;34m\u001b[0m\u001b[0m\n\u001b[1;32m     19\u001b[0m \u001b[0mpreds\u001b[0m\u001b[0;34m\u001b[0m\u001b[0m\n",
      "\u001b[0;31mNameError\u001b[0m: name 'threshold' is not defined"
     ]
    }
   ],
   "source": [
    "import soundfile as sf\n",
    "\n",
    "sr =16000\n",
    "block_size = sr*n_seconds\n",
    "# blocks_ = np.zeros(block_size)\n",
    "instances = []\n",
    "for f in [overlap_files[0]]:\n",
    "    blocks = sf.blocks(f, blocksize=block_size, overlap = block_size - sr)\n",
    "    for j in blocks :\n",
    "        instances.append(j)\n",
    "    instances = instances[:-1]\n",
    "\n",
    "instances=np.array(instances)\n",
    "emb_overlap = extract_embedding(np.array(instances), encoder)\n",
    "prob_overlap = clf.predict_proba(emb_overlap)\n",
    "preds = clf.predict(emb_overlap)\n",
    "print(preds, threshold)\n",
    "preds[np.max(prob_overlap, axis =1)<threshold] = 0\n",
    "preds"
   ]
  },
  {
   "cell_type": "code",
   "execution_count": 320,
   "metadata": {},
   "outputs": [
    {
     "name": "stdout",
     "output_type": "stream",
     "text": [
      "Predicted class [84]\n",
      "Actual classes [212] [10]\n"
     ]
    },
    {
     "data": {
      "image/png": "[encoded data removed]",
      "text/plain": [
       "<Figure size 432x288 with 1 Axes>"
      ]
     },
     "metadata": {},
     "output_type": "display_data"
    }
   ],
   "source": [
    "import matplotlib.pyplot as plt\n",
    "i= 1\n",
    "fig, ax = plt.subplots(1,1)\n",
    "ax.plot(prob_overlap[i],'b')\n",
    "ax.set_ylabel('Probability')\n",
    "ax.set_xlabel('Speaker class')\n",
    "ax.set_title(np.where(np.unique(y_tr) == preds[i])[0])\n",
    "\n",
    "print('Predicted class', np.where(np.unique(y_tr) == preds[i])[0])\n",
    "print('Actual classes', np.where(np.unique(y_tr) == 7302)[0], np.where(np.unique(y_tr) == 103)[0])"
   ]
  },
  {
   "cell_type": "markdown",
   "metadata": {},
   "source": [
    "## Plotting prob distribution"
   ]
  },
  {
   "cell_type": "code",
   "execution_count": 132,
   "metadata": {},
   "outputs": [
    {
     "data": {
      "image/png": "[encoded data removed]",
      "text/plain": [
       "<Figure size 432x288 with 4 Axes>"
      ]
     },
     "metadata": {},
     "output_type": "display_data"
    }
   ],
   "source": [
    "## Plotting prob distribution\n",
    "\n",
    "correct_probs = probs[np.unique(y_val)[np.argmax(probs, axis=1)] == y_val]\n",
    "incorrect_probs = probs[np.unique(y_val)[np.argmax(probs, axis=1)] != y_val]\n",
    "\n",
    "##Unknown\n",
    "unknown, sr = valid[100]\n",
    "query_instance_ = preprocessor.instance_preprocessor(unknown.reshape(1,-1,1))\n",
    "emb_unknown = encoder.predict(query_instance_)\n",
    "probs_unknown = clf.predict_proba(emb_unknown)\n",
    "\n",
    "import matplotlib.pyplot as plt\n",
    "fig, ax = plt.subplots(2,2)\n",
    "ax[0,0].plot(correct_probs[0],'g')\n",
    "ax[0,0].set_ylabel('Probability')\n",
    "ax[0,0].set_xlabel('Speaker class')\n",
    "ax[0,0].set_title('Correct Classification')\n",
    "\n",
    "ax[0,1].plot(incorrect_probs[0], 'r')\n",
    "ax[0,1].set_ylabel('Probability')\n",
    "ax[0,1].set_xlabel('Speaker class')\n",
    "ax[0,1].set_title('Misclassification')\n",
    "\n",
    "ax[1,0].plot(probs_unknown[0],'b')\n",
    "ax[1,0].set_ylabel('Probability')\n",
    "ax[1,0].set_xlabel('Speaker class')\n",
    "ax[1,0].set_title('Unknown speaker')\n",
    "\n",
    "ax[1,1].plot(correct_probs[0],'g')\n",
    "ax[1,1].plot(incorrect_probs[100], 'r')\n",
    "ax[1,1].plot(probs_unknown[0],'b')\n",
    "ax[1,1].set_ylabel('Probability')\n",
    "ax[1,1].set_xlabel('Speaker class')\n",
    "ax[1,1].legend(['Correct', 'Misclassify', 'Unknown'],fontsize =4, loc=1)\n",
    "ax[1,1].set_title('Combined')\n",
    "plt.tight_layout()\n",
    "plt.show()\n",
    "#fig.savefig('plots_3sec.png', dpi=250)"
   ]
  },
  {
   "cell_type": "code",
   "execution_count": 26,
   "metadata": {},
   "outputs": [
    {
     "name": "stdout",
     "output_type": "stream",
     "text": [
      "Kurtosis for correct predictions: Mean: 203.82340640261293 Std: 49.87805813441787 \n",
      "Kurtosis for incorrect predictions: Mean: 123.20446374862435 Std: 53.5608958446859 \n",
      "Kurtosis of one Unknown file: [162.16805625]\n"
     ]
    }
   ],
   "source": [
    "#Compute kurosis\n",
    "from scipy.stats import kurtosis\n",
    "kurtosis(probs_unknown, axis=1)\n",
    "kurtosis(probs, axis = 1)\n",
    "correct_probs = probs[np.unique(y_val)[np.argmax(probs, axis=1)] == y_val]\n",
    "incorrect_probs = probs[np.unique(y_val)[np.argmax(probs, axis=1)] != y_val]\n",
    "print(\"Kurtosis for correct predictions: Mean:\", np.mean(kurtosis(correct_probs, axis=1)), \n",
    "      \"Std:\", np.std(kurtosis(correct_probs, axis=1)),\n",
    "      \"\\nKurtosis for incorrect predictions: Mean:\",\n",
    "      np.mean(kurtosis(incorrect_probs, axis =1)), \"Std:\",\n",
    "      np.std(kurtosis(incorrect_probs, axis=1)),\n",
    "      \"\\nKurtosis of one Unknown file:\",\n",
    "      kurtosis(probs_unknown, axis=1))\n",
    "#probs_unknown\n"
   ]
  },
  {
   "cell_type": "markdown",
   "metadata": {},
   "source": [
    "## Calculate threshold for unknown speakers"
   ]
  },
  {
   "cell_type": "code",
   "execution_count": 213,
   "metadata": {},
   "outputs": [
    {
     "name": "stdout",
     "output_type": "stream",
     "text": [
      "0.47172047944294215 0.1655851819945734\n",
      "0.307858311227539 0.1206186303158979\n"
     ]
    }
   ],
   "source": [
    "# Mean probability to calculate threshold\n",
    "#probability distribution of training set\n",
    "probs_tr = clf.predict_proba(emb)\n",
    "\n",
    "correct_probs = probs_tr[np.unique(y_tr)[np.argmax(probs_tr, axis=1)] == y_tr]\n",
    "incorrect_probs = probs_tr[np.unique(y_tr)[np.argmax(probs_tr, axis=1)] != y_tr]\n",
    "\n",
    "print(np.mean(np.max(correct_probs, axis=1)), np.std(np.max(correct_probs, axis=1)))\n",
    "print(np.mean(np.max(incorrect_probs, axis=1)), np.std(np.max(incorrect_probs, axis=1)))\n",
    "\n",
    "# np.mean(np.max(probs_unknown, axis=1))"
   ]
  },
  {
   "cell_type": "code",
   "execution_count": 277,
   "metadata": {},
   "outputs": [
    {
     "data": {
      "text/plain": [
       "0.3421510335220802"
      ]
     },
     "execution_count": 277,
     "metadata": {},
     "output_type": "execute_result"
    }
   ],
   "source": [
    "# threshold = (np.mean(np.max(correct_probs, axis=1) + np.mean(np.max(incorrect_probs, axis=1))/2\n",
    "# Average between the mean max probability in correct predictions and mean max probability in incorrect predictions \n",
    "# in train section\n",
    "\n",
    "# Considering approx \n",
    "threshold = np.mean(np.max(probs_tr, axis =1)) - np.std(np.max(probs_tr, axis =1))\n",
    "threshold"
   ]
  },
  {
   "cell_type": "code",
   "execution_count": 278,
   "metadata": {},
   "outputs": [
    {
     "name": "stdout",
     "output_type": "stream",
     "text": [
      "0.7234178563818453\n"
     ]
    }
   ],
   "source": [
    "y_val = y_test\n",
    "y_pred = clf.predict(val_emb)\n",
    "probs = clf.predict_proba(val_emb)\n",
    "y_pred[np.max(probs, axis =1)< threshold] = 0\n",
    "print(accuracy_score(y_val, y_pred))"
   ]
  },
  {
   "cell_type": "code",
   "execution_count": 199,
   "metadata": {},
   "outputs": [
    {
     "data": {
      "text/plain": [
       "array([0.27359939, 0.29990715, 0.269823  , ..., 0.14265214, 0.28822283,\n",
       "       0.26155386])"
      ]
     },
     "execution_count": 199,
     "metadata": {},
     "output_type": "execute_result"
    }
   ],
   "source": [
    "len(np.where(y_pred == 0)[0]), len(y_pred)\n",
    "np.max(probs, axis =1)[np.where(y_pred == 0)[0]]"
   ]
  },
  {
   "cell_type": "markdown",
   "metadata": {},
   "source": [
    "## Data distribution"
   ]
  },
  {
   "cell_type": "code",
   "execution_count": 119,
   "metadata": {},
   "outputs": [
    {
     "data": {
      "text/plain": [
       "(array([  19,   26,   27,   32,   39,   40,   78,   83,   87,   89,  103,\n",
       "         118,  125,  150,  163,  196,  198,  200,  201,  211,  226,  229,\n",
       "         233,  248,  250,  254,  289,  298,  302,  307,  311,  322,  328,\n",
       "         332,  374,  403,  405,  412,  426,  441,  445,  446,  458,  460,\n",
       "         481,  587,  625,  669,  696,  730,  831,  839,  887,  909,  911,\n",
       "        1034, 1040, 1069, 1081, 1088, 1098, 1116, 1183, 1235, 1246, 1263,\n",
       "        1334, 1355, 1363, 1447, 1455, 1502, 1553, 1578, 1594, 1624, 1723,\n",
       "        1737, 1743, 1841, 1867, 1898, 1926, 1963, 1970, 1992, 2002, 2007,\n",
       "        2092, 2136, 2159, 2182, 2196, 2289, 2384, 2391, 2416, 2436, 2514,\n",
       "        2518, 2691, 2764, 2817, 2836, 2843, 2893, 2910, 2911, 2952, 2989,\n",
       "        3112, 3168, 3214, 3235, 3240, 3242, 3259, 3374, 3436, 3440, 3486,\n",
       "        3526, 3607, 3664, 3699, 3723, 3807, 3830, 3857, 3879, 3947, 3982,\n",
       "        3983, 4014, 4018, 4051, 4088, 4137, 4160, 4195, 4214, 4267, 4297,\n",
       "        4340, 4362, 4397, 4406, 4441, 4481, 4640, 4680, 4788, 4813, 4830,\n",
       "        4853, 4859, 4898, 5022, 5049, 5104, 5163, 5192, 5322, 5339, 5390,\n",
       "        5393, 5456, 5463, 5514, 5561, 5652, 5678, 5688, 5703, 5750, 5778,\n",
       "        5789, 5808, 5867, 6000, 6019, 6064, 6078, 6081, 6147, 6181, 6209,\n",
       "        6272, 6367, 6385, 6415, 6437, 6454, 6476, 6529, 6531, 6563, 6818,\n",
       "        6836, 6848, 6880, 6925, 7059, 7067, 7078, 7113, 7148, 7178, 7190,\n",
       "        7226, 7264, 7278, 7302, 7312, 7367, 7402, 7447, 7505, 7511, 7517,\n",
       "        7635, 7780, 7794, 7800, 7859, 8014, 8051, 8063, 8088, 8095, 8098,\n",
       "        8108, 8123, 8226, 8238, 8312, 8324, 8419, 8425, 8465, 8468, 8580,\n",
       "        8609, 8629, 8630, 8747, 8770, 8797, 8838, 8975]),\n",
       " array([35, 34, 50, 47, 34, 39, 36, 33, 32, 39, 35, 52, 43, 35, 37, 33, 32,\n",
       "        32, 52, 51, 40, 30, 40, 37, 43, 38, 25, 44, 39, 50, 39, 41, 32, 33,\n",
       "        37, 35, 39, 31, 43, 32, 17, 32, 27, 37, 44, 38, 32, 35, 40, 53, 38,\n",
       "        26, 34, 35, 42, 28, 34, 43, 49, 36, 37, 29, 21, 30, 36, 32, 42, 30,\n",
       "        39, 44, 44, 51, 40, 44, 49, 26, 35, 42, 42, 32, 47, 38, 47, 43, 41,\n",
       "        17, 32, 45, 35, 45, 39, 37, 40, 38, 29, 47, 38, 36, 35, 37, 38, 42,\n",
       "        35, 39, 43, 31, 36, 41, 43, 58, 39, 41, 41, 34, 45, 36, 30, 38, 39,\n",
       "        41, 36, 36, 28, 33, 36, 41, 38, 34, 40, 47, 41, 42, 31, 49, 42, 41,\n",
       "        34, 41, 33, 45, 32, 32, 31, 28, 38, 32, 54, 38, 30, 44, 34, 35, 35,\n",
       "        32, 37, 33, 36, 42, 44, 34, 35, 39, 34, 45, 37, 41, 35, 33, 29, 47,\n",
       "        47, 31, 46, 35, 40, 31, 40, 35, 39, 26, 34, 44, 36, 44, 46, 44, 42,\n",
       "        44, 45, 42, 39, 34, 37, 57, 42, 39, 33, 36, 38, 32, 36, 26, 40, 36,\n",
       "        42, 42, 37, 27, 39, 33, 44, 42, 44,  7, 41, 39, 42, 38, 35, 33, 38,\n",
       "        36, 31, 35, 37, 25, 29, 52, 35, 32, 45, 32, 46, 32, 48, 36, 28, 31,\n",
       "        32, 34, 39, 31, 34, 43, 33, 38, 36, 35, 29, 39]))"
      ]
     },
     "execution_count": 119,
     "metadata": {},
     "output_type": "execute_result"
    }
   ],
   "source": [
    "y_unique, y_counts = np.unique(y_train, return_counts = True)\n",
    "a, b = np.unique(y_test, return_counts = True)\n"
   ]
  },
  {
   "cell_type": "code",
   "execution_count": 192,
   "metadata": {
    "scrolled": true
   },
   "outputs": [
    {
     "ename": "NameError",
     "evalue": "name 'kurtosis' is not defined",
     "output_type": "error",
     "traceback": [
      "\u001b[0;31m---------------------------------------------------------------------------\u001b[0m",
      "\u001b[0;31mNameError\u001b[0m                                 Traceback (most recent call last)",
      "\u001b[0;32m<ipython-input-192-74eff407bcb0>\u001b[0m in \u001b[0;36m<module>\u001b[0;34m()\u001b[0m\n\u001b[1;32m      1\u001b[0m \u001b[0;31m## Plot kutisis\u001b[0m\u001b[0;34m\u001b[0m\u001b[0;34m\u001b[0m\u001b[0m\n\u001b[0;32m----> 2\u001b[0;31m \u001b[0mplt\u001b[0m\u001b[0;34m.\u001b[0m\u001b[0mplot\u001b[0m\u001b[0;34m(\u001b[0m\u001b[0mkurtosis\u001b[0m\u001b[0;34m(\u001b[0m\u001b[0mcorrect_probs\u001b[0m\u001b[0;34m,\u001b[0m \u001b[0maxis\u001b[0m \u001b[0;34m=\u001b[0m\u001b[0;36m1\u001b[0m\u001b[0;34m)\u001b[0m\u001b[0;34m,\u001b[0m \u001b[0;34m'g'\u001b[0m\u001b[0;34m)\u001b[0m\u001b[0;34m\u001b[0m\u001b[0m\n\u001b[0m\u001b[1;32m      3\u001b[0m \u001b[0mplt\u001b[0m\u001b[0;34m.\u001b[0m\u001b[0mplot\u001b[0m\u001b[0;34m(\u001b[0m\u001b[0mkurtosis\u001b[0m\u001b[0;34m(\u001b[0m\u001b[0mincorrect_probs\u001b[0m\u001b[0;34m,\u001b[0m \u001b[0maxis\u001b[0m\u001b[0;34m=\u001b[0m\u001b[0;36m1\u001b[0m\u001b[0;34m)\u001b[0m\u001b[0;34m,\u001b[0m \u001b[0;34m'r'\u001b[0m\u001b[0;34m)\u001b[0m\u001b[0;34m\u001b[0m\u001b[0m\n\u001b[1;32m      4\u001b[0m \u001b[0mplt\u001b[0m\u001b[0;34m.\u001b[0m\u001b[0mplot\u001b[0m\u001b[0;34m(\u001b[0m\u001b[0mkurtosis\u001b[0m\u001b[0;34m(\u001b[0m\u001b[0mprobs_unknown\u001b[0m\u001b[0;34m,\u001b[0m \u001b[0maxis\u001b[0m\u001b[0;34m=\u001b[0m\u001b[0;36m1\u001b[0m\u001b[0;34m)\u001b[0m\u001b[0;34m,\u001b[0m\u001b[0;34m'b'\u001b[0m\u001b[0;34m)\u001b[0m\u001b[0;34m\u001b[0m\u001b[0m\n",
      "\u001b[0;31mNameError\u001b[0m: name 'kurtosis' is not defined"
     ]
    }
   ],
   "source": [
    "## Plot kutisis\n",
    "plt.plot(kurtosis(correct_probs, axis =1), 'g')\n",
    "plt.plot(kurtosis(incorrect_probs, axis=1), 'r')\n",
    "plt.plot(kurtosis(probs_unknown, axis=1),'b')"
   ]
  },
  {
   "cell_type": "markdown",
   "metadata": {},
   "source": [
    "def plot_confusion_matrix(cm,classes,\n",
    "                          title=None,\n",
    "                          cmap=plt.cm.Blues):\n",
    "    fig, ax = plt.subplots(figsize=(250,250))\n",
    "    im = ax.imshow(cm, interpolation='nearest', cmap=cmap)\n",
    "    ax.figure.colorbar(im, ax=ax)\n",
    "    # We want to show all ticks...\n",
    "    ax.set(xticks=np.arange(cm.shape[1]),\n",
    "           yticks=np.arange(cm.shape[0]),\n",
    "           # ... and label them with the respective list entries\n",
    "           xticklabels=classes, yticklabels=classes,\n",
    "           title=title,\n",
    "           ylabel='True label',\n",
    "           xlabel='Predicted label')\n",
    "\n",
    "    # Rotate the tick labels and set their alignment.\n",
    "    plt.setp(ax.get_xticklabels(), rotation=45, ha=\"right\",\n",
    "             rotation_mode=\"anchor\")\n",
    "\n",
    "    # Loop over data dimensions and create text annotations.\n",
    "    fmt = 'd'\n",
    "    thresh = cm.max() / 2.\n",
    "    for i in range(cm.shape[0]):\n",
    "        for j in range(cm.shape[1]):\n",
    "            ax.text(j, i, format(cm[i, j], fmt),\n",
    "                    ha=\"center\", va=\"center\",\n",
    "                    color=\"white\" if cm[i, j] > thresh else \"black\")\n",
    "    fig.tight_layout()\n",
    "    return ax"
   ]
  },
  {
   "cell_type": "markdown",
   "metadata": {
    "collapsed": true
   },
   "source": [
    "from sklearn.metrics import confusion_matrix\n",
    "cm = confusion_matrix(y_val, y_pred)\n",
    "classes = np.arange(250)\n",
    "plot_confusion_matrix(cm,classes,title='Confusion matrix')\n",
    "#plt.show()"
   ]
  },
  {
   "cell_type": "code",
   "execution_count": null,
   "metadata": {},
   "outputs": [],
   "source": [
    "#models_e50_cluster, Models_e50_full, #Models_new, n=1seconds, n=2seconds,\n",
    "0.031216, 0.005327, 0.867, 0.25708, 0.1867"
   ]
  },
  {
   "cell_type": "markdown",
   "metadata": {},
   "source": [
    "### Experiment with varying num-speakers"
   ]
  },
  {
   "cell_type": "code",
   "execution_count": 14,
   "metadata": {},
   "outputs": [],
   "source": [
    "def num_speakers_train(X_train_files, y_train, two_spkr, emb=None):\n",
    "    X_two_train =[]\n",
    "    y_two_train =[]\n",
    "    if emb is None:\n",
    "        spkr1=X_train_files[y_train == two_spkr[0]]\n",
    "        spkr1_emb = extract_embedding(spkr1, train)\n",
    "    else:\n",
    "        spkr1_emb = emb[y_train == two_spkr[0]]\n",
    "    X_two_train = spkr1_emb\n",
    "    y_spkr1 = np.stack([two_spkr[0]]*len(spkr1_emb))\n",
    "    y_two_train = y_spkr1\n",
    "    \n",
    "    for i in range(1, len(two_spkr)):\n",
    "        if emb is None:\n",
    "            spkr1=X_train_files[y_train == two_spkr[i]]\n",
    "            spkr1_emb = extract_embedding(spkr1, train)\n",
    "        else:\n",
    "            spkr1_emb = emb[y_train == two_spkr[i]]\n",
    "        y_spkr1 = np.stack([two_spkr[i]]*len(spkr1_emb))\n",
    "        X_two_train = np.vstack((X_two_train,spkr1_emb))\n",
    "        y_two_train = np.hstack((y_two_train,y_spkr1))\n",
    "    \n",
    "    return (X_two_train, y_two_train)"
   ]
  },
  {
   "cell_type": "code",
   "execution_count": 15,
   "metadata": {},
   "outputs": [],
   "source": [
    "def num_speakers_val(X_test_files, y_test, two_spkr, val_emb = None):\n",
    "    X_two_val =[]\n",
    "    y_two_val =[]\n",
    "    if val_emb is None:\n",
    "        spkr1=X_test_files[y_test == two_spkr[0]]\n",
    "        spkr1_emb = extract_embedding(spkr1, train)\n",
    "    else:\n",
    "        spkr1_emb = val_emb[y_test == two_spkr[0]]\n",
    "    X_two_val = spkr1_emb\n",
    "    y_spkr1 = np.stack([two_spkr[0]]*len(spkr1_emb))\n",
    "    y_two_val = y_spkr1\n",
    "\n",
    "    for i in range(1, len(two_spkr)):\n",
    "        if val_emb is None:\n",
    "            spkr1=X_test_files[y_test == two_spkr[i]]\n",
    "            spkr1_emb = extract_embedding(spkr1, train)\n",
    "        else:\n",
    "            spkr1_emb = val_emb[y_test == two_spkr[i]]\n",
    "        y_spkr1 = np.stack([two_spkr[i]]*len(spkr1_emb))\n",
    "        X_two_val = np.vstack((X_two_val,spkr1_emb))\n",
    "        y_two_val = np.hstack((y_two_val,y_spkr1))\n",
    "    \n",
    "    return (X_two_val, y_two_val)"
   ]
  },
  {
   "cell_type": "code",
   "execution_count": 16,
   "metadata": {},
   "outputs": [
    {
     "name": "stdout",
     "output_type": "stream",
     "text": [
      "Num Speakers: 2 Accuracy: mean 1.0 std: 0.0\n",
      "Num Speakers: 5 Accuracy: mean 0.989897298461903 std: 0.019397200239654966\n",
      "Num Speakers: 10 Accuracy: mean 0.9746918594247185 std: 0.02079454836270818\n",
      "Num Speakers: 50 Accuracy: mean 0.8937067395906232 std: 0.016541131860554028\n"
     ]
    },
    {
     "ename": "KeyboardInterrupt",
     "evalue": "",
     "output_type": "error",
     "traceback": [
      "\u001b[0;31m---------------------------------------------------------------------------\u001b[0m",
      "\u001b[0;31mKeyboardInterrupt\u001b[0m                         Traceback (most recent call last)",
      "\u001b[0;32m<ipython-input-16-4a7104cb4802>\u001b[0m in \u001b[0;36m<module>\u001b[0;34m()\u001b[0m\n\u001b[1;32m     16\u001b[0m \u001b[0;34m\u001b[0m\u001b[0m\n\u001b[1;32m     17\u001b[0m         \u001b[0mX_two_val\u001b[0m\u001b[0;34m,\u001b[0m \u001b[0my_two_val\u001b[0m \u001b[0;34m=\u001b[0m \u001b[0mnum_speakers_val\u001b[0m\u001b[0;34m(\u001b[0m\u001b[0mX_test_files\u001b[0m\u001b[0;34m,\u001b[0m \u001b[0my_test\u001b[0m\u001b[0;34m,\u001b[0m \u001b[0mtwo_spkr\u001b[0m\u001b[0;34m,\u001b[0m \u001b[0mval_emb\u001b[0m\u001b[0;34m)\u001b[0m\u001b[0;34m\u001b[0m\u001b[0m\n\u001b[0;32m---> 18\u001b[0;31m         \u001b[0my_pred\u001b[0m \u001b[0;34m=\u001b[0m \u001b[0mclf2\u001b[0m\u001b[0;34m.\u001b[0m\u001b[0mpredict\u001b[0m\u001b[0;34m(\u001b[0m\u001b[0mX_two_val\u001b[0m\u001b[0;34m)\u001b[0m\u001b[0;34m\u001b[0m\u001b[0m\n\u001b[0m\u001b[1;32m     19\u001b[0m         \u001b[0my_val\u001b[0m \u001b[0;34m=\u001b[0m \u001b[0my_two_val\u001b[0m\u001b[0;34m\u001b[0m\u001b[0m\n\u001b[1;32m     20\u001b[0m         \u001b[0macc\u001b[0m\u001b[0;34m.\u001b[0m\u001b[0mappend\u001b[0m\u001b[0;34m(\u001b[0m\u001b[0maccuracy_score\u001b[0m\u001b[0;34m(\u001b[0m\u001b[0my_val\u001b[0m\u001b[0;34m,\u001b[0m \u001b[0my_pred\u001b[0m\u001b[0;34m)\u001b[0m\u001b[0;34m)\u001b[0m\u001b[0;34m\u001b[0m\u001b[0m\n",
      "\u001b[0;32m~/anaconda3/lib/python3.6/site-packages/sklearn/svm/base.py\u001b[0m in \u001b[0;36mpredict\u001b[0;34m(self, X)\u001b[0m\n\u001b[1;32m    574\u001b[0m             \u001b[0mClass\u001b[0m \u001b[0mlabels\u001b[0m \u001b[0;32mfor\u001b[0m \u001b[0msamples\u001b[0m \u001b[0;32min\u001b[0m \u001b[0mX\u001b[0m\u001b[0;34m.\u001b[0m\u001b[0;34m\u001b[0m\u001b[0m\n\u001b[1;32m    575\u001b[0m         \"\"\"\n\u001b[0;32m--> 576\u001b[0;31m         \u001b[0my\u001b[0m \u001b[0;34m=\u001b[0m \u001b[0msuper\u001b[0m\u001b[0;34m(\u001b[0m\u001b[0mBaseSVC\u001b[0m\u001b[0;34m,\u001b[0m \u001b[0mself\u001b[0m\u001b[0;34m)\u001b[0m\u001b[0;34m.\u001b[0m\u001b[0mpredict\u001b[0m\u001b[0;34m(\u001b[0m\u001b[0mX\u001b[0m\u001b[0;34m)\u001b[0m\u001b[0;34m\u001b[0m\u001b[0m\n\u001b[0m\u001b[1;32m    577\u001b[0m         \u001b[0;32mreturn\u001b[0m \u001b[0mself\u001b[0m\u001b[0;34m.\u001b[0m\u001b[0mclasses_\u001b[0m\u001b[0;34m.\u001b[0m\u001b[0mtake\u001b[0m\u001b[0;34m(\u001b[0m\u001b[0mnp\u001b[0m\u001b[0;34m.\u001b[0m\u001b[0masarray\u001b[0m\u001b[0;34m(\u001b[0m\u001b[0my\u001b[0m\u001b[0;34m,\u001b[0m \u001b[0mdtype\u001b[0m\u001b[0;34m=\u001b[0m\u001b[0mnp\u001b[0m\u001b[0;34m.\u001b[0m\u001b[0mintp\u001b[0m\u001b[0;34m)\u001b[0m\u001b[0;34m)\u001b[0m\u001b[0;34m\u001b[0m\u001b[0m\n\u001b[1;32m    578\u001b[0m \u001b[0;34m\u001b[0m\u001b[0m\n",
      "\u001b[0;32m~/anaconda3/lib/python3.6/site-packages/sklearn/svm/base.py\u001b[0m in \u001b[0;36mpredict\u001b[0;34m(self, X)\u001b[0m\n\u001b[1;32m    325\u001b[0m         \u001b[0mX\u001b[0m \u001b[0;34m=\u001b[0m \u001b[0mself\u001b[0m\u001b[0;34m.\u001b[0m\u001b[0m_validate_for_predict\u001b[0m\u001b[0;34m(\u001b[0m\u001b[0mX\u001b[0m\u001b[0;34m)\u001b[0m\u001b[0;34m\u001b[0m\u001b[0m\n\u001b[1;32m    326\u001b[0m         \u001b[0mpredict\u001b[0m \u001b[0;34m=\u001b[0m \u001b[0mself\u001b[0m\u001b[0;34m.\u001b[0m\u001b[0m_sparse_predict\u001b[0m \u001b[0;32mif\u001b[0m \u001b[0mself\u001b[0m\u001b[0;34m.\u001b[0m\u001b[0m_sparse\u001b[0m \u001b[0;32melse\u001b[0m \u001b[0mself\u001b[0m\u001b[0;34m.\u001b[0m\u001b[0m_dense_predict\u001b[0m\u001b[0;34m\u001b[0m\u001b[0m\n\u001b[0;32m--> 327\u001b[0;31m         \u001b[0;32mreturn\u001b[0m \u001b[0mpredict\u001b[0m\u001b[0;34m(\u001b[0m\u001b[0mX\u001b[0m\u001b[0;34m)\u001b[0m\u001b[0;34m\u001b[0m\u001b[0m\n\u001b[0m\u001b[1;32m    328\u001b[0m \u001b[0;34m\u001b[0m\u001b[0m\n\u001b[1;32m    329\u001b[0m     \u001b[0;32mdef\u001b[0m \u001b[0m_dense_predict\u001b[0m\u001b[0;34m(\u001b[0m\u001b[0mself\u001b[0m\u001b[0;34m,\u001b[0m \u001b[0mX\u001b[0m\u001b[0;34m)\u001b[0m\u001b[0;34m:\u001b[0m\u001b[0;34m\u001b[0m\u001b[0m\n",
      "\u001b[0;32m~/anaconda3/lib/python3.6/site-packages/sklearn/svm/base.py\u001b[0m in \u001b[0;36m_dense_predict\u001b[0;34m(self, X)\u001b[0m\n\u001b[1;32m    348\u001b[0m             \u001b[0mself\u001b[0m\u001b[0;34m.\u001b[0m\u001b[0mprobA_\u001b[0m\u001b[0;34m,\u001b[0m \u001b[0mself\u001b[0m\u001b[0;34m.\u001b[0m\u001b[0mprobB_\u001b[0m\u001b[0;34m,\u001b[0m \u001b[0msvm_type\u001b[0m\u001b[0;34m=\u001b[0m\u001b[0msvm_type\u001b[0m\u001b[0;34m,\u001b[0m \u001b[0mkernel\u001b[0m\u001b[0;34m=\u001b[0m\u001b[0mkernel\u001b[0m\u001b[0;34m,\u001b[0m\u001b[0;34m\u001b[0m\u001b[0m\n\u001b[1;32m    349\u001b[0m             \u001b[0mdegree\u001b[0m\u001b[0;34m=\u001b[0m\u001b[0mself\u001b[0m\u001b[0;34m.\u001b[0m\u001b[0mdegree\u001b[0m\u001b[0;34m,\u001b[0m \u001b[0mcoef0\u001b[0m\u001b[0;34m=\u001b[0m\u001b[0mself\u001b[0m\u001b[0;34m.\u001b[0m\u001b[0mcoef0\u001b[0m\u001b[0;34m,\u001b[0m \u001b[0mgamma\u001b[0m\u001b[0;34m=\u001b[0m\u001b[0mself\u001b[0m\u001b[0;34m.\u001b[0m\u001b[0m_gamma\u001b[0m\u001b[0;34m,\u001b[0m\u001b[0;34m\u001b[0m\u001b[0m\n\u001b[0;32m--> 350\u001b[0;31m             cache_size=self.cache_size)\n\u001b[0m\u001b[1;32m    351\u001b[0m \u001b[0;34m\u001b[0m\u001b[0m\n\u001b[1;32m    352\u001b[0m     \u001b[0;32mdef\u001b[0m \u001b[0m_sparse_predict\u001b[0m\u001b[0;34m(\u001b[0m\u001b[0mself\u001b[0m\u001b[0;34m,\u001b[0m \u001b[0mX\u001b[0m\u001b[0;34m)\u001b[0m\u001b[0;34m:\u001b[0m\u001b[0;34m\u001b[0m\u001b[0m\n",
      "\u001b[0;31mKeyboardInterrupt\u001b[0m: "
     ]
    }
   ],
   "source": [
    "from sklearn.metrics import accuracy_score\n",
    "speaker_range = [2, 5, 10, 50, 100]\n",
    "##Try multiple times and average out\n",
    "num_reps = 100\n",
    "\n",
    "total_acc_list =[]\n",
    "for num_speakers in speaker_range:\n",
    "    acc=[]\n",
    "    for i in range(num_reps):\n",
    "        two_spkr = np.random.choice(np.unique(y_train),num_speakers, replace = False)\n",
    "        #print(\"Trial:\", i)\n",
    "        #, \"Speakers:\", two_spkr)\n",
    "        X_two_train, y_two_train = num_speakers_train(X_train_files, y_train, two_spkr, emb)\n",
    "        clf2 = svm.SVC(gamma = 'scale', probability=True)\n",
    "        clf2.fit(X_two_train, y_two_train) \n",
    "\n",
    "        X_two_val, y_two_val = num_speakers_val(X_test_files, y_test, two_spkr, val_emb)\n",
    "        y_pred = clf2.predict(X_two_val)\n",
    "        y_val = y_two_val\n",
    "        acc.append(accuracy_score(y_val, y_pred))\n",
    "        #print(\"Accuracy:\",acc[i])\n",
    "    print(\"Num Speakers:\", num_speakers, \"Accuracy: mean\", np.mean(np.array(acc)),\"std:\", np.std(np.array(acc)))\n",
    "    total_acc_list.append(acc)\n"
   ]
  },
  {
   "cell_type": "code",
   "execution_count": 66,
   "metadata": {},
   "outputs": [
    {
     "data": {
      "image/png": "[encoded data removed]",
      "text/plain": [
       "<Figure size 432x288 with 1 Axes>"
      ]
     },
     "metadata": {},
     "output_type": "display_data"
    }
   ],
   "source": [
    "import matplotlib.pyplot as plt\n",
    "total_acc_list = np.array(total_acc_list)\n",
    "np.save('./saved_data/acc_4sec_360.npy',total_acc_list)\n",
    "plt.boxplot(np.transpose(total_acc_list), labels= speaker_range)\n",
    "# plt.ylim((0,1))\n",
    "plt.xlabel('Number of speakers')\n",
    "plt.ylabel('Accuracy')\n",
    "plt.show()"
   ]
  },
  {
   "cell_type": "code",
   "execution_count": 90,
   "metadata": {},
   "outputs": [
    {
     "name": "stdout",
     "output_type": "stream",
     "text": [
      "Num Speakers: 2\n",
      "Threshold: 0.9850471686355589\n",
      "Overall accuracy: 0.8790598286548759 0.10396550560011565\n",
      "Accuracy of known speakers 0.8583919286542939 0.05680956799208291\n",
      "Accuracy of unknown speakers 0.896399393140595 0.21783837223227986\n",
      "Num Speakers: 5\n",
      "Threshold: 0.9456214102171024\n",
      "Overall accuracy: 0.9035397727124037 0.048907490068907405\n",
      "Accuracy of known speakers 0.8952278094073509 0.03703595765348663\n",
      "Accuracy of unknown speakers 0.9118205542862478 0.09410109031214402\n",
      "Num Speakers: 10\n",
      "Threshold: 0.8711437366385216\n",
      "Overall accuracy: 0.8889303100296158 0.03617434641830528\n",
      "Accuracy of known speakers 0.8820524795434741 0.01874204857750694\n",
      "Accuracy of unknown speakers 0.8958148035932193 0.07228311353289474\n",
      "Num Speakers: 50\n",
      "Threshold: 0.6214881950817963\n",
      "Overall accuracy: 0.8281844187569457 0.019782275689248365\n",
      "Accuracy of known speakers 0.8115388520945391 0.011273236385725948\n",
      "Accuracy of unknown speakers 0.8449154836839341 0.03594331740048651\n",
      "Num Speakers: 100\n",
      "Threshold: 0.5378855047944735\n",
      "Overall accuracy: 0.7924973043607814 0.012935188120050012\n",
      "Accuracy of known speakers 0.7743057137445579 0.008222516254838866\n",
      "Accuracy of unknown speakers 0.8107026457834264 0.024138873829334804\n"
     ]
    }
   ],
   "source": [
    "## for unknown speakers\n",
    "from sklearn.metrics import accuracy_score\n",
    "speaker_range = [2, 5, 10, 50, 100]\n",
    "##Try multiple times and average out\n",
    "num_reps = 100\n",
    "\n",
    "total_acc_list = []\n",
    "two_acc_list = []\n",
    "other_acc_list = []\n",
    "for num_speakers in speaker_range:\n",
    "    acc=[]\n",
    "    acc_two =[]\n",
    "    acc_other = []\n",
    "    print(\"Num Speakers:\", num_speakers)\n",
    "    for i in range(num_reps):\n",
    "        two_spkr = np.random.choice(np.unique(y_train),num_speakers, replace = False)\n",
    "\n",
    "        other_spkr_set = np.delete(np.unique(y_train),np.where(np.in1d(np.unique(y_train), two_spkr))[0])\n",
    "        two_other_spkr = np.random.choice(other_spkr_set,num_speakers, replace = False)\n",
    "\n",
    "        ##Training\n",
    "        X_two_train, y_two_train = num_speakers_train(X_train_files, y_train, two_spkr, emb)\n",
    "        clf2 = svm.SVC(gamma = 'scale', probability=True)\n",
    "        clf2.fit(X_two_train, y_two_train) \n",
    "        probs_train = clf2.predict_proba(X_two_train)\n",
    "        thr = np.mean(np.max(probs_train, axis =1)) - np.std(np.max(probs_train, axis =1))\n",
    "\n",
    "        ## Validation\n",
    "        #Other spkrs [num-spkrs]\n",
    "        X_two_other, y_two_other = num_speakers_val(X_test_files, y_test, two_other_spkr, val_emb)\n",
    "        y_pred_other = clf2.predict(X_two_other)\n",
    "        probs_other = clf2.predict_proba(X_two_other)\n",
    "        y_pred_other[np.max(probs_other, axis =1)< thr] = 0\n",
    "        y_val_other = np.zeros(len(y_two_other)) #Set unknown to zero\n",
    "\n",
    "        #Selected spkrs [num-spkrs]\n",
    "        X_two_val, y_two_val = num_speakers_val(X_test_files, y_test, two_spkr, val_emb)\n",
    "        y_pred_two = clf2.predict(X_two_val)\n",
    "        probs_two = clf2.predict_proba(X_two_val)\n",
    "        y_pred_two[np.max(probs_two, axis =1)< thr] = 0\n",
    "        y_val_two = y_two_val \n",
    "\n",
    "        #Total 2*[num-spkrs]\n",
    "        y_val = np.hstack((y_val_two, y_val_other))\n",
    "        y_pred = np.hstack((y_pred_two, y_pred_other))\n",
    "\n",
    "\n",
    "        acc_two.append(accuracy_score(y_val_two, y_pred_two))\n",
    "        acc_other.append(accuracy_score(y_val_other, y_pred_other))\n",
    "        acc.append(accuracy_score(y_val, y_pred))\n",
    "\n",
    "    print(\"Threshold:\", thr)\n",
    "    print(\"Overall accuracy:\", np.mean(np.array(acc)), np.std(np.array(acc)))\n",
    "    print(\"Accuracy of known speakers\", np.mean(np.array(acc_two)), np.std(np.array(acc_two)))\n",
    "    print(\"Accuracy of unknown speakers\", np.mean(np.array(acc_other)), np.std(np.array(acc_other)))\n",
    "    \n",
    "    total_acc_list.append(acc)\n",
    "    two_acc_list.append(acc_two)\n",
    "    other_acc_list.append(acc_other)\n",
    "    "
   ]
  },
  {
   "cell_type": "code",
   "execution_count": 91,
   "metadata": {},
   "outputs": [],
   "source": [
    "total_acc_list = np.array(total_acc_list)\n",
    "two_acc_list = np.array(two_acc_list)\n",
    "other_acc_list = np.array(other_acc_list)\n",
    "\n",
    "np.save('./saved_data/acc_3sec_thr1_both.npz',total_acc_list)\n",
    "np.save('./saved_data/acc_3sec_thr1_two.npz',two_acc_list)\n",
    "np.save('./saved_data/acc_3sec_thr1_other.npz',other_acc_list)\n"
   ]
  },
  {
   "cell_type": "code",
   "execution_count": 71,
   "metadata": {},
   "outputs": [
    {
     "data": {
      "text/plain": [
       "(5, 5)"
      ]
     },
     "execution_count": 71,
     "metadata": {},
     "output_type": "execute_result"
    }
   ],
   "source": [
    "len(total_acc_list), len(two_acc_list)"
   ]
  },
  {
   "cell_type": "code",
   "execution_count": 93,
   "metadata": {},
   "outputs": [
    {
     "name": "stdout",
     "output_type": "stream",
     "text": [
      "0.0\n"
     ]
    }
   ],
   "source": []
  },
  {
   "cell_type": "code",
   "execution_count": 88,
   "metadata": {},
   "outputs": [
    {
     "name": "stderr",
     "output_type": "stream",
     "text": [
      "/Users/sanmathikamath/anaconda3/lib/python3.6/site-packages/matplotlib/cbook/deprecation.py:107: MatplotlibDeprecationWarning: Adding an axes using the same arguments as a previous axes currently reuses the earlier instance.  In a future version, a new instance will always be created and returned.  Meanwhile, this warning can be suppressed, and the future behavior ensured, by passing a unique label to each axes instance.\n",
      "  warnings.warn(message, mplDeprecation, stacklevel=1)\n"
     ]
    },
    {
     "data": {
      "image/png": "[encoded data removed]",
      "text/plain": [
       "<Figure size 432x288 with 1 Axes>"
      ]
     },
     "metadata": {},
     "output_type": "display_data"
    }
   ],
   "source": [
    "box = plt.boxplot(np.transpose(total_acc_list), \\\n",
    "                  positions = (1,5,9,13, 17), \\\n",
    "                  widths =0.6,\n",
    "                  #labels= speaker_range, \n",
    "                  showfliers=False)\n",
    "for element in ['boxes', 'whiskers', 'fliers', 'means', 'medians', 'caps']:\n",
    "        plt.setp(box[element], color='blue')\n",
    "\n",
    "box2 = plt.boxplot(np.transpose(two_acc_list), \\\n",
    "                   positions =(2, 6,10,14, 18),\\\n",
    "                   #labels= speaker_range, \n",
    "                   showfliers=False)\n",
    "for element in ['boxes', 'whiskers', 'fliers', 'means', 'medians', 'caps']:\n",
    "        plt.setp(box2[element], color='green')\n",
    "        \n",
    "box2 = plt.boxplot(np.transpose(other_acc_list), \\\n",
    "                   positions =(3,7,11,15, 19),\\\n",
    "                   widths = 0.6,\n",
    "                   #labels= speaker_range, \n",
    "                   showfliers=False)\n",
    "for element in ['boxes', 'whiskers', 'fliers', 'means', 'medians', 'caps']:\n",
    "        plt.setp(box2[element], color='red')\n",
    "ax = plt.axes()\n",
    "ax.set_xticklabels([0,2,5,10,50,100])\n",
    "ax.set_xticks([0,2, 6,10,14, 18])\n",
    "# plt.ylim((0,1))\n",
    "\n",
    "plt.xlabel('Number of speakers')\n",
    "plt.ylabel('Accuracy')\n",
    "plt.show()"
   ]
  },
  {
   "cell_type": "code",
   "execution_count": 239,
   "metadata": {},
   "outputs": [
    {
     "data": {
      "text/plain": [
       "(87, 250, 87)"
      ]
     },
     "execution_count": 239,
     "metadata": {},
     "output_type": "execute_result"
    }
   ],
   "source": [
    "# mask = np.ones(np.shape(np.unique(y_train)), bool)\n",
    "# mask[two_spkr] = False\n",
    "# np.delete(np.unique(y_train), )\n",
    "# excluded = list(set(y_train) - set(two_spkr))\n",
    "other_spkr = np.delete(np.unique(y_train),np.where(np.in1d(np.unique(y_train), two_spkr))[0])\n",
    "len(np.where(np.in1d(np.unique(y_train), two_spkr))[0]), len(np.unique(y_train)), len(np.unique(two_spkr))"
   ]
  },
  {
   "cell_type": "markdown",
   "metadata": {},
   "source": [
    "## Plot and gif"
   ]
  },
  {
   "cell_type": "code",
   "execution_count": 57,
   "metadata": {},
   "outputs": [],
   "source": [
    "import soundfile as sf"
   ]
  },
  {
   "cell_type": "code",
   "execution_count": 25,
   "metadata": {},
   "outputs": [],
   "source": [
    "#Create a combines audio file of randomly selected files\n",
    "f1 = X_test_files[X_test_files[y_test == np.unique(y_two_val)[0]].index.values[0]]\n",
    "f2 = X_test_files[X_test_files[y_test == np.unique(y_two_val)[1]].index.values[0]]\n",
    "f3 = X_test_files[X_test_files[y_test == np.unique(y_two_val)[2]].index.values[0]]\n",
    "files = [f1, f2, f3]\n",
    "data = [0]\n",
    "for f in files:\n",
    "    inst, sr = sf.read(f)\n",
    "    data = np.concatenate((data,inst))\n",
    "data.shape\n",
    "sf.write('new_combined_file.flac', data, sr)"
   ]
  },
  {
   "cell_type": "code",
   "execution_count": 26,
   "metadata": {},
   "outputs": [],
   "source": [
    "import pandas as pd\n",
    "import matplotlib.pyplot as plt\n",
    "import matplotlib.ticker as ticker\n",
    "import matplotlib.animation as animation\n",
    "from IPython.display import HTML"
   ]
  },
  {
   "cell_type": "code",
   "execution_count": 56,
   "metadata": {},
   "outputs": [
    {
     "data": {
      "text/plain": [
       "[<matplotlib.lines.Line2D at 0x1a6318d6d8>]"
      ]
     },
     "execution_count": 56,
     "metadata": {},
     "output_type": "execute_result"
    },
    {
     "data": {
      "image/png": "[encoded data removed]",
      "text/plain": [
       "<Figure size 432x288 with 1 Axes>"
      ]
     },
     "metadata": {},
     "output_type": "display_data"
    }
   ],
   "source": [
    "## Plot of a sound file\n",
    "plt.plot(sf.read(f1)[0])"
   ]
  },
  {
   "cell_type": "code",
   "execution_count": 28,
   "metadata": {},
   "outputs": [
    {
     "data": {
      "text/plain": [
       "(28, 3)"
      ]
     },
     "execution_count": 28,
     "metadata": {},
     "output_type": "execute_result"
    }
   ],
   "source": [
    "import soundfile as sf\n",
    "filepath = '/Users/sanmathikamath/projects/datasets/arctic/combined_Librispeech_full_89_4014_8770.flac'\n",
    "files = ['new_combined_file.flac']\n",
    "inst, sr = sf.read(filepath)\n",
    "block_size = sr*3\n",
    "# blocks_ = np.zeros(block_size)\n",
    "instances = []\n",
    "for f in files:\n",
    "    blocks = sf.blocks(f, blocksize=block_size, overlap = block_size - sr)\n",
    "    for j in blocks :\n",
    "        instances.append(j)\n",
    "    instances = instances[:-1]\n",
    "\n",
    "instances=np.array(instances)\n",
    "prob_two = clf2.predict_proba(extract_embedding(np.array(instances), encoder))\n",
    "prob_two.shape"
   ]
  },
  {
   "cell_type": "code",
   "execution_count": 29,
   "metadata": {},
   "outputs": [],
   "source": [
    "y_two = np.argmax(prob_two, axis=1)"
   ]
  },
  {
   "cell_type": "code",
   "execution_count": 124,
   "metadata": {},
   "outputs": [
    {
     "data": {
      "text/plain": [
       "(array([[0.28823934, 0.59010184, 0.12165883],\n",
       "        [0.29529533, 0.58188043, 0.12282424],\n",
       "        [0.30160162, 0.57841541, 0.11998296],\n",
       "        [0.30938837, 0.5746082 , 0.11600344],\n",
       "        [0.31251849, 0.57677597, 0.11070553]]),\n",
       " array([[0.28823934, 0.59010184, 0.12165883],\n",
       "        [0.29176733, 0.58599113, 0.12224153],\n",
       "        [0.29668448, 0.58220327, 0.12111225],\n",
       "        [0.30303642, 0.57840573, 0.11855784],\n",
       "        [0.30777746, 0.57759085, 0.11463169]]))"
      ]
     },
     "execution_count": 124,
     "metadata": {},
     "output_type": "execute_result"
    }
   ],
   "source": [
    "cumulative_prob_two = np.zeros(prob_two.shape)\n",
    "cumulative_prob_two[0]= prob_two[0]\n",
    "for i in range(1,len(prob_two)):\n",
    "    cumulative_prob_two[i] = (prob_two[i]+cumulative_prob_two[i-1])/np.sum(prob_two[i]+cumulative_prob_two[i-1])\n",
    "    #print(cumulative_prob_two[i])\n",
    "#prob_two[:5], cumulative_prob_two[:5]\n",
    "#(prob_two[1]+prob_two[0])/np.sum(prob_two[1]+prob_two[0])"
   ]
  },
  {
   "cell_type": "code",
   "execution_count": 30,
   "metadata": {},
   "outputs": [],
   "source": [
    "prob_two = clf2.predict_proba(X_two_val)"
   ]
  },
  {
   "cell_type": "code",
   "execution_count": 38,
   "metadata": {},
   "outputs": [],
   "source": [
    "import matplotlib.cbook as cbook\n",
    "img_file_path ='/Users/sanmathikamath/projects/Speaker_Recognition/voicemap-master/notebooks/neutral_C.png'\n",
    "with cbook.get_sample_data(img_file_path) as image_file:\n",
    "    imageC = plt.imread(image_file)\n"
   ]
  },
  {
   "cell_type": "code",
   "execution_count": 39,
   "metadata": {},
   "outputs": [],
   "source": [
    "images=[imageA,imageB,imageC]"
   ]
  },
  {
   "cell_type": "code",
   "execution_count": 53,
   "metadata": {},
   "outputs": [
    {
     "data": {
      "image/png": "[encoded data removed]",
      "text/plain": [
       "<Figure size 1600x1280 with 2 Axes>"
      ]
     },
     "metadata": {},
     "output_type": "display_data"
    }
   ],
   "source": [
    "fig, ax = plt.subplots(nrows=2,figsize=(5,4), dpi = 320)\n",
    "def draw_barchart(sp_i, fig=fig, ax=ax):\n",
    "    ax[0].imshow(images[y_two[sp_i]])\n",
    "    ax[0].set_axis_off()\n",
    "    \n",
    "    ax = ax[1]\n",
    "    ax.clear()\n",
    "    spkr_names_three = ['spkr A', 'spkr B', 'spkr C']\n",
    "    #spkr_names_three = [str(x) for x in np.unique(y_two_val)]\n",
    "    colors = dict(zip(\n",
    "        spkr_names_three,\n",
    "        ['#adb0ff', '#aafbff', '#90d595']\n",
    "    ))\n",
    "    \n",
    "    ax.barh(spkr_names_three, prob_two[sp_i], color=[colors[x] for x in spkr_names_three])\n",
    "    ax.set_xlim(0,1)\n",
    "    # iterate over the values to plot labels and values (Tokyo, Asia, 38194.2)\n",
    "    for i, (value, name) in enumerate(zip(prob_two[sp_i], spkr_names_three)):\n",
    "        #ax.text(value, i,     name, size=14, weight=600, ha='right', va='bottom')  # Tokyo: name\n",
    "        if value < 0.5:\n",
    "            ax.text(value, i,     str(round(value*100,1))+'%',size=10, ha='left',  va='center')   # 38194.2: value\n",
    "        else:\n",
    "            ax.text(value, i,     str(round(value*100,1))+'%',size=10, ha='right',  va='center')   # 38194.2: value\n",
    "    ax.text(0, 1.05, 'Speaker Identification Prediction',\n",
    "                transform=ax.transAxes, size=10, weight=100, ha='left',  color='#777777')\n",
    "    \n",
    "    ax.grid(which='major', axis='x', linestyle='-')\n",
    "    ax.set_axisbelow(True)\n",
    "    #ax.xaxis.set_major_formatter(ticker.StrMethodFormatter('{x:,.0f}'))\n",
    "    ax.xaxis.set_ticks_position('bottom')\n",
    "    ax.set_xlabel('Confidence',color='#777777', size=8)\n",
    "    #ax.set_ylabel('Speaker')\n",
    "    ax.tick_params(axis='x', colors='#777777', labelsize=8)\n",
    "    #ax.text(1, -0.15, 'by @sanmathikamath', transform=ax.transAxes, ha='right', size =6,\n",
    "    #        color='#777777', bbox=dict(facecolor='white', alpha=0.2, edgecolor='white'))\n",
    "    \n",
    "    #ax.set_yticks([])\n",
    "    #ax.margins(0, 0.01)\n",
    "    \n",
    "    #plt.subplots_adjust(left = 0.2, right=0.70,  top=1.1, bottom=0.1 )\n",
    "    \n",
    "    plt.box(True)\n",
    "    plt.tight_layout()\n",
    "draw_barchart(0, fig, ax)\n",
    "plt.savefig('overview.png', dpi=250)"
   ]
  },
  {
   "cell_type": "code",
   "execution_count": 52,
   "metadata": {
    "collapsed": true
   },
   "outputs": [
    {
     "ename": "IndexError",
     "evalue": "index 28 is out of bounds for axis 0 with size 28",
     "output_type": "error",
     "traceback": [
      "\u001b[0;31m---------------------------------------------------------------------------\u001b[0m",
      "\u001b[0;31mIndexError\u001b[0m                                Traceback (most recent call last)",
      "\u001b[0;32m<ipython-input-52-3615e60131c4>\u001b[0m in \u001b[0;36m<module>\u001b[0;34m()\u001b[0m\n\u001b[1;32m      3\u001b[0m \u001b[0;31m#fig, ax = plt.subplots(figsize=(15, 8))\u001b[0m\u001b[0;34m\u001b[0m\u001b[0;34m\u001b[0m\u001b[0m\n\u001b[1;32m      4\u001b[0m \u001b[0manimator\u001b[0m \u001b[0;34m=\u001b[0m \u001b[0manimation\u001b[0m\u001b[0;34m.\u001b[0m\u001b[0mFuncAnimation\u001b[0m\u001b[0;34m(\u001b[0m\u001b[0mfig\u001b[0m\u001b[0;34m,\u001b[0m \u001b[0mdraw_barchart\u001b[0m\u001b[0;34m,\u001b[0m \u001b[0mframes\u001b[0m\u001b[0;34m=\u001b[0m\u001b[0mrange\u001b[0m\u001b[0;34m(\u001b[0m\u001b[0;36m0\u001b[0m\u001b[0;34m,\u001b[0m\u001b[0mlen\u001b[0m\u001b[0;34m(\u001b[0m\u001b[0mprob_two\u001b[0m\u001b[0;34m)\u001b[0m\u001b[0;34m)\u001b[0m\u001b[0;34m)\u001b[0m\u001b[0;34m\u001b[0m\u001b[0m\n\u001b[0;32m----> 5\u001b[0;31m \u001b[0mHTML\u001b[0m\u001b[0;34m(\u001b[0m\u001b[0manimator\u001b[0m\u001b[0;34m.\u001b[0m\u001b[0mto_jshtml\u001b[0m\u001b[0;34m(\u001b[0m\u001b[0;34m)\u001b[0m\u001b[0;34m)\u001b[0m\u001b[0;34m\u001b[0m\u001b[0m\n\u001b[0m\u001b[1;32m      6\u001b[0m \u001b[0;31m#HTML(animator.save('gif1.mp4'))\u001b[0m\u001b[0;34m\u001b[0m\u001b[0;34m\u001b[0m\u001b[0m\n",
      "\u001b[0;32m~/anaconda3/lib/python3.6/site-packages/matplotlib/animation.py\u001b[0m in \u001b[0;36mto_jshtml\u001b[0;34m(self, fps, embed_frames, default_mode)\u001b[0m\n\u001b[1;32m   1406\u001b[0m                 self.save(f.name, writer=HTMLWriter(fps=fps,\n\u001b[1;32m   1407\u001b[0m                                                     \u001b[0membed_frames\u001b[0m\u001b[0;34m=\u001b[0m\u001b[0membed_frames\u001b[0m\u001b[0;34m,\u001b[0m\u001b[0;34m\u001b[0m\u001b[0m\n\u001b[0;32m-> 1408\u001b[0;31m                                                     default_mode=default_mode))\n\u001b[0m\u001b[1;32m   1409\u001b[0m             \u001b[0;31m# Re-open and get content\u001b[0m\u001b[0;34m\u001b[0m\u001b[0;34m\u001b[0m\u001b[0m\n\u001b[1;32m   1410\u001b[0m             \u001b[0;32mwith\u001b[0m \u001b[0mopen\u001b[0m\u001b[0;34m(\u001b[0m\u001b[0mf\u001b[0m\u001b[0;34m.\u001b[0m\u001b[0mname\u001b[0m\u001b[0;34m)\u001b[0m \u001b[0;32mas\u001b[0m \u001b[0mfobj\u001b[0m\u001b[0;34m:\u001b[0m\u001b[0;34m\u001b[0m\u001b[0m\n",
      "\u001b[0;32m~/anaconda3/lib/python3.6/site-packages/matplotlib/animation.py\u001b[0m in \u001b[0;36msave\u001b[0;34m(self, filename, writer, fps, dpi, codec, bitrate, extra_args, metadata, extra_anim, savefig_kwargs)\u001b[0m\n\u001b[1;32m   1197\u001b[0m                     \u001b[0;32mfor\u001b[0m \u001b[0manim\u001b[0m\u001b[0;34m,\u001b[0m \u001b[0md\u001b[0m \u001b[0;32min\u001b[0m \u001b[0mzip\u001b[0m\u001b[0;34m(\u001b[0m\u001b[0mall_anim\u001b[0m\u001b[0;34m,\u001b[0m \u001b[0mdata\u001b[0m\u001b[0;34m)\u001b[0m\u001b[0;34m:\u001b[0m\u001b[0;34m\u001b[0m\u001b[0m\n\u001b[1;32m   1198\u001b[0m                         \u001b[0;31m# TODO: See if turning off blit is really necessary\u001b[0m\u001b[0;34m\u001b[0m\u001b[0;34m\u001b[0m\u001b[0m\n\u001b[0;32m-> 1199\u001b[0;31m                         \u001b[0manim\u001b[0m\u001b[0;34m.\u001b[0m\u001b[0m_draw_next_frame\u001b[0m\u001b[0;34m(\u001b[0m\u001b[0md\u001b[0m\u001b[0;34m,\u001b[0m \u001b[0mblit\u001b[0m\u001b[0;34m=\u001b[0m\u001b[0;32mFalse\u001b[0m\u001b[0;34m)\u001b[0m\u001b[0;34m\u001b[0m\u001b[0m\n\u001b[0m\u001b[1;32m   1200\u001b[0m                     \u001b[0mwriter\u001b[0m\u001b[0;34m.\u001b[0m\u001b[0mgrab_frame\u001b[0m\u001b[0;34m(\u001b[0m\u001b[0;34m**\u001b[0m\u001b[0msavefig_kwargs\u001b[0m\u001b[0;34m)\u001b[0m\u001b[0;34m\u001b[0m\u001b[0m\n\u001b[1;32m   1201\u001b[0m \u001b[0;34m\u001b[0m\u001b[0m\n",
      "\u001b[0;32m~/anaconda3/lib/python3.6/site-packages/matplotlib/animation.py\u001b[0m in \u001b[0;36m_draw_next_frame\u001b[0;34m(self, framedata, blit)\u001b[0m\n\u001b[1;32m   1234\u001b[0m         \u001b[0;31m# post- draw, as well as the drawing of the frame itself.\u001b[0m\u001b[0;34m\u001b[0m\u001b[0;34m\u001b[0m\u001b[0m\n\u001b[1;32m   1235\u001b[0m         \u001b[0mself\u001b[0m\u001b[0;34m.\u001b[0m\u001b[0m_pre_draw\u001b[0m\u001b[0;34m(\u001b[0m\u001b[0mframedata\u001b[0m\u001b[0;34m,\u001b[0m \u001b[0mblit\u001b[0m\u001b[0;34m)\u001b[0m\u001b[0;34m\u001b[0m\u001b[0m\n\u001b[0;32m-> 1236\u001b[0;31m         \u001b[0mself\u001b[0m\u001b[0;34m.\u001b[0m\u001b[0m_draw_frame\u001b[0m\u001b[0;34m(\u001b[0m\u001b[0mframedata\u001b[0m\u001b[0;34m)\u001b[0m\u001b[0;34m\u001b[0m\u001b[0m\n\u001b[0m\u001b[1;32m   1237\u001b[0m         \u001b[0mself\u001b[0m\u001b[0;34m.\u001b[0m\u001b[0m_post_draw\u001b[0m\u001b[0;34m(\u001b[0m\u001b[0mframedata\u001b[0m\u001b[0;34m,\u001b[0m \u001b[0mblit\u001b[0m\u001b[0;34m)\u001b[0m\u001b[0;34m\u001b[0m\u001b[0m\n\u001b[1;32m   1238\u001b[0m \u001b[0;34m\u001b[0m\u001b[0m\n",
      "\u001b[0;32m~/anaconda3/lib/python3.6/site-packages/matplotlib/animation.py\u001b[0m in \u001b[0;36m_draw_frame\u001b[0;34m(self, framedata)\u001b[0m\n\u001b[1;32m   1770\u001b[0m         \u001b[0;31m# Call the func with framedata and args. If blitting is desired,\u001b[0m\u001b[0;34m\u001b[0m\u001b[0;34m\u001b[0m\u001b[0m\n\u001b[1;32m   1771\u001b[0m         \u001b[0;31m# func needs to return a sequence of any artists that were modified.\u001b[0m\u001b[0;34m\u001b[0m\u001b[0;34m\u001b[0m\u001b[0m\n\u001b[0;32m-> 1772\u001b[0;31m         \u001b[0mself\u001b[0m\u001b[0;34m.\u001b[0m\u001b[0m_drawn_artists\u001b[0m \u001b[0;34m=\u001b[0m \u001b[0mself\u001b[0m\u001b[0;34m.\u001b[0m\u001b[0m_func\u001b[0m\u001b[0;34m(\u001b[0m\u001b[0mframedata\u001b[0m\u001b[0;34m,\u001b[0m \u001b[0;34m*\u001b[0m\u001b[0mself\u001b[0m\u001b[0;34m.\u001b[0m\u001b[0m_args\u001b[0m\u001b[0;34m)\u001b[0m\u001b[0;34m\u001b[0m\u001b[0m\n\u001b[0m\u001b[1;32m   1773\u001b[0m         \u001b[0;32mif\u001b[0m \u001b[0mself\u001b[0m\u001b[0;34m.\u001b[0m\u001b[0m_blit\u001b[0m\u001b[0;34m:\u001b[0m\u001b[0;34m\u001b[0m\u001b[0m\n\u001b[1;32m   1774\u001b[0m             \u001b[0;32mif\u001b[0m \u001b[0mself\u001b[0m\u001b[0;34m.\u001b[0m\u001b[0m_drawn_artists\u001b[0m \u001b[0;32mis\u001b[0m \u001b[0;32mNone\u001b[0m\u001b[0;34m:\u001b[0m\u001b[0;34m\u001b[0m\u001b[0m\n",
      "\u001b[0;32m<ipython-input-50-f100a295921f>\u001b[0m in \u001b[0;36mdraw_barchart\u001b[0;34m(sp_i, fig, ax)\u001b[0m\n\u001b[1;32m      1\u001b[0m \u001b[0mfig\u001b[0m\u001b[0;34m,\u001b[0m \u001b[0max\u001b[0m \u001b[0;34m=\u001b[0m \u001b[0mplt\u001b[0m\u001b[0;34m.\u001b[0m\u001b[0msubplots\u001b[0m\u001b[0;34m(\u001b[0m\u001b[0mnrows\u001b[0m\u001b[0;34m=\u001b[0m\u001b[0;36m2\u001b[0m\u001b[0;34m,\u001b[0m\u001b[0mfigsize\u001b[0m\u001b[0;34m=\u001b[0m\u001b[0;34m(\u001b[0m\u001b[0;36m5\u001b[0m\u001b[0;34m,\u001b[0m\u001b[0;36m4\u001b[0m\u001b[0;34m)\u001b[0m\u001b[0;34m,\u001b[0m \u001b[0mdpi\u001b[0m \u001b[0;34m=\u001b[0m \u001b[0;36m320\u001b[0m\u001b[0;34m)\u001b[0m\u001b[0;34m\u001b[0m\u001b[0m\n\u001b[1;32m      2\u001b[0m \u001b[0;32mdef\u001b[0m \u001b[0mdraw_barchart\u001b[0m\u001b[0;34m(\u001b[0m\u001b[0msp_i\u001b[0m\u001b[0;34m,\u001b[0m \u001b[0mfig\u001b[0m\u001b[0;34m=\u001b[0m\u001b[0mfig\u001b[0m\u001b[0;34m,\u001b[0m \u001b[0max\u001b[0m\u001b[0;34m=\u001b[0m\u001b[0max\u001b[0m\u001b[0;34m)\u001b[0m\u001b[0;34m:\u001b[0m\u001b[0;34m\u001b[0m\u001b[0m\n\u001b[0;32m----> 3\u001b[0;31m     \u001b[0max\u001b[0m\u001b[0;34m[\u001b[0m\u001b[0;36m0\u001b[0m\u001b[0;34m]\u001b[0m\u001b[0;34m.\u001b[0m\u001b[0mimshow\u001b[0m\u001b[0;34m(\u001b[0m\u001b[0mimages\u001b[0m\u001b[0;34m[\u001b[0m\u001b[0my_two\u001b[0m\u001b[0;34m[\u001b[0m\u001b[0msp_i\u001b[0m\u001b[0;34m]\u001b[0m\u001b[0;34m]\u001b[0m\u001b[0;34m)\u001b[0m\u001b[0;34m\u001b[0m\u001b[0m\n\u001b[0m\u001b[1;32m      4\u001b[0m     \u001b[0max\u001b[0m\u001b[0;34m[\u001b[0m\u001b[0;36m0\u001b[0m\u001b[0;34m]\u001b[0m\u001b[0;34m.\u001b[0m\u001b[0mset_axis_off\u001b[0m\u001b[0;34m(\u001b[0m\u001b[0;34m)\u001b[0m\u001b[0;34m\u001b[0m\u001b[0m\n\u001b[1;32m      5\u001b[0m \u001b[0;34m\u001b[0m\u001b[0m\n",
      "\u001b[0;31mIndexError\u001b[0m: index 28 is out of bounds for axis 0 with size 28"
     ]
    },
    {
     "data": {
      "image/png": "[encoded data removed]",
      "text/plain": [
       "<Figure size 432x288 with 1 Axes>"
      ]
     },
     "metadata": {},
     "output_type": "display_data"
    }
   ],
   "source": [
    "import matplotlib.animation as animation\n",
    "from IPython.display import HTML\n",
    "#fig, ax = plt.subplots(figsize=(15, 8))\n",
    "animator = animation.FuncAnimation(fig, draw_barchart, frames=range(0,len(prob_two)))\n",
    "HTML(animator.to_jshtml())\n",
    "#HTML(animator.save('gif1.mp4'))"
   ]
  },
  {
   "cell_type": "code",
   "execution_count": 16,
   "metadata": {},
   "outputs": [
    {
     "data": {
      "text/plain": [
       "Text(0,0.5,'Classification Accuracy')"
      ]
     },
     "execution_count": 16,
     "metadata": {},
     "output_type": "execute_result"
    }
   ],
   "source": [
    "## Acc plots over num_speakers\n",
    "import matplotlib.pyplot as plt\n",
    "n = [2,4,6,10,20]\n",
    "acc= [99.07 ,98.56, 87.65, 79.601, 65.539]\n",
    "plt.bar(n, acc)\n",
    "plt.xlabel('Number of speakers')\n",
    "plt.ylabel('Classification Accuracy')\n",
    "plt.show()"
   ]
  },
  {
   "cell_type": "markdown",
   "metadata": {},
   "source": [
    "### Plot of prediction using sliding window \n",
    "Splitting one file into its various windows"
   ]
  },
  {
   "cell_type": "code",
   "execution_count": 109,
   "metadata": {},
   "outputs": [
    {
     "data": {
      "text/plain": [
       "11255    /Users/sanmathikamath/projects/voicemap-master...\n",
       "27001    /Users/sanmathikamath/projects/voicemap-master...\n",
       "26674    /Users/sanmathikamath/projects/voicemap-master...\n",
       "Name: filepath, dtype: object"
      ]
     },
     "execution_count": 109,
     "metadata": {},
     "output_type": "execute_result"
    }
   ],
   "source": [
    "testing_files_ind = np.random.choice(X_test_files.index.values, 3)\n",
    "testing_files = X_test_files[testing_files_ind]\n",
    "testing_files\n",
    "output_test = y_test[testing_files_ind]\n",
    "testing_files"
   ]
  },
  {
   "cell_type": "code",
   "execution_count": 110,
   "metadata": {},
   "outputs": [
    {
     "name": "stdout",
     "output_type": "stream",
     "text": [
      "/Users/sanmathikamath/projects/voicemap-master/data/LibriSpeech/train-clean-100/2514/149482/2514-149482-0021.flac\n",
      "/Users/sanmathikamath/projects/voicemap-master/data/LibriSpeech/train-clean-100/8324/286682/8324-286682-0032.flac\n",
      "/Users/sanmathikamath/projects/voicemap-master/data/LibriSpeech/train-clean-100/8238/283452/8238-283452-0037.flac\n"
     ]
    }
   ],
   "source": [
    "import soundfile as sf\n",
    "sr = 16000\n",
    "block_size = n_seconds*sr\n",
    "output_labels_pred =[]\n",
    "for file in testing_files:\n",
    "    print(file)\n",
    "    blocks = sf.blocks(file, blocksize=block_size, overlap = block_size//2)\n",
    "    instances=[]\n",
    "    for j in blocks :\n",
    "        instances.append(j)\n",
    "    instances = np.array(instances[:-1])\n",
    "    query_instance_ = preprocessor.instance_preprocessor(instances[:,:,np.newaxis])\n",
    "    emb_testing = encoder.predict(query_instance_)\n",
    "    output_labels_pred.append(clf.predict(emb_testing))"
   ]
  },
  {
   "cell_type": "code",
   "execution_count": 111,
   "metadata": {},
   "outputs": [
    {
     "data": {
      "text/plain": [
       "([array([3240, 2136, 7264, 7264, 2911, 6181, 2514, 2911, 2911]),\n",
       "  array([5339,  831, 7226, 6454, 8095, 8095, 6454, 4267,  831]),\n",
       "  array([ 211,  103,  125, 1116, 1235,  460, 1867, 1116, 8419])],\n",
       " 11255    2514\n",
       " 27001    8324\n",
       " 26674    8238\n",
       " Name: speaker_id, dtype: int64)"
      ]
     },
     "execution_count": 111,
     "metadata": {},
     "output_type": "execute_result"
    }
   ],
   "source": [
    "output_labels_pred, output_test"
   ]
  },
  {
   "cell_type": "markdown",
   "metadata": {},
   "source": [
    "### Plot of prediction using sliding window over multiple files\n",
    "Splitting one file into its various windows and combining multiple files of same speaker"
   ]
  },
  {
   "cell_type": "code",
   "execution_count": 113,
   "metadata": {},
   "outputs": [],
   "source": [
    "test_speakers = np.random.choice(np.unique(y_test), 3)"
   ]
  },
  {
   "cell_type": "code",
   "execution_count": 114,
   "metadata": {},
   "outputs": [
    {
     "name": "stdout",
     "output_type": "stream",
     "text": [
      "6454\n",
      "8324\n",
      "1970\n"
     ]
    }
   ],
   "source": [
    "output_labels_pred =[]\n",
    "for spkr_j in test_speakers:\n",
    "    print(spkr_j)\n",
    "    spkr_j_ind = y_test[y_test == spkr_j].index.values\n",
    "    spkr_files = X_test_files[spkr_j_ind]\n",
    "    instances=[]\n",
    "    for file in spkr_files:\n",
    "        blocks = sf.blocks(file, blocksize=block_size, overlap = block_size//2)\n",
    "        for j in blocks :\n",
    "            instances.append(j)\n",
    "        instances = instances[:-1]\n",
    "    instances = np.array(instances[:-1])\n",
    "    query_instance_ = preprocessor.instance_preprocessor(instances[:,:,np.newaxis])\n",
    "    emb_testing = encoder.predict(query_instance_)\n",
    "    output_labels_pred.append(clf.predict(emb_testing))"
   ]
  },
  {
   "cell_type": "code",
   "execution_count": 110,
   "metadata": {
    "collapsed": true
   },
   "outputs": [
    {
     "data": {
      "text/plain": [
       "([array([ 289, 1867, 1867, 1867, 1867, 1867, 7635, 7635, 1867, 7635, 1867,\n",
       "         1867, 1867, 1867, 7635, 7635, 1867, 1867, 1867, 1867, 1867,  289,\n",
       "          289,  289,  289, 1867, 7059, 7059, 7059,   39, 4406, 4406, 4406,\n",
       "         7635, 7635, 7635, 4406, 1867, 1867, 1867, 1867, 1867, 1867, 1867,\n",
       "         1867, 1867, 1867, 1867, 1867, 1867, 1867, 1867, 1867, 1867, 7059,\n",
       "          289, 1867, 1867, 4406, 4406, 4406, 3982, 7635, 3982, 3982, 1867,\n",
       "         7635, 7635, 1867, 4406, 4406, 1867, 1867, 1867, 1867, 3982, 1867,\n",
       "         7635, 4406, 1867, 1867, 4406, 4406, 4406, 1867, 1867, 4406, 4406,\n",
       "         1867,  289, 1867, 1867, 7635, 7635, 3982, 3982, 7635, 7635, 1867,\n",
       "         1867, 7635,  289, 1867, 1867, 4406, 4406, 4406, 1867, 1867, 7635,\n",
       "         4406, 1867, 1867, 4406, 4406, 1867, 4406, 4406, 3982, 1867, 1867,\n",
       "         1867, 7635, 1867, 1867,  289, 1867, 1867, 7635, 3112, 2989, 1867,\n",
       "         7635,   39, 1867, 1867, 1867,   39, 1867, 1867, 1867, 7635, 1867,\n",
       "         1867, 3982, 1867, 2989, 1867, 4406, 1867, 1867, 1867, 1867, 1867,\n",
       "         1898, 3982, 3982, 1867, 7635, 3982, 7635, 7635, 3982, 3982, 4406,\n",
       "         1867, 1867, 1867, 4406, 1867,   39, 2989, 3982,  198, 1867, 1867,\n",
       "         3982, 3982, 1867, 1867, 7635, 1867, 1867]),\n",
       "  array([4195, 6078, 6078, 7511, 4195, 1088, 4640, 2817, 3526,   19,  103,\n",
       "         8609,  103,  103,  887, 6147,  103, 1116, 4297,  887,   19, 2196,\n",
       "         4160, 4160,  887,  887,  887, 2196,   83,  887,  887,   19,   19,\n",
       "          887,  125, 2416,   19,   19,   19,  887, 7178, 4680, 4680, 7178,\n",
       "         1841, 4640, 4640, 6531,   19,   19,   19,  103,   19,   19,   19,\n",
       "           19, 4195, 6078, 5393, 1263, 2416, 3526,  103,  887, 2196,   83,\n",
       "          103,  103, 4051,  125, 3486,  887,  887,  887,  125,  125, 2764,\n",
       "         1116,  103,  103,   83,  887,  250, 4680, 4680, 4680, 4680, 6272,\n",
       "         2416, 4160, 7178, 1088,  887,  887,  103,  103,   19,  103,  887,\n",
       "          887,  125, 3526,  103,   83,  887, 1841,  887,   19,   19,   83,\n",
       "           19,   19,   83,  103,  887,   83,   83, 8051, 2196, 1246,  887,\n",
       "          887,  887,  887,  887,  887,  103, 4195, 6531, 1088, 1088, 6078,\n",
       "         7511, 4195, 6078, 5393, 4680, 6531, 4195, 4195, 4640, 7800,  887,\n",
       "          887,  887,  887,  887,  887,  125,   19, 6147, 6147,  887,   19,\n",
       "          887, 8238, 8238, 4640, 4640, 6078, 6078, 5393, 7511, 7511, 4195,\n",
       "          103, 8051,  103,   19,   19,   19,   83, 1841, 1841,  887, 4680,\n",
       "          125, 4640, 4640, 4640, 1088, 7800, 2817, 4640, 4640, 5393, 7511,\n",
       "         2817, 2817, 5393, 4680, 7511, 4640, 4640, 4680, 4680, 4680, 5688,\n",
       "         4680,   19,  226,  125,  125,  125,  250,   83, 4160,   19,  887,\n",
       "           19,   19,   19,  887,   19,  887,  103,  125,  887,  887, 2196,\n",
       "         2196,  887, 3526, 4195, 4195, 1088, 1088, 4195, 1088, 1088, 6078,\n",
       "         1088,  887,  887, 2196,  887,  887,  887,  887,  887,  887,  103,\n",
       "          103,  103, 6147, 6147,  887,  887,  887,  887, 1116,  250,  887,\n",
       "          887,   19, 2196,  887,  887, 8051,   19,  887,  125,   19,  887,\n",
       "          103,  887,  887,  887,   19,   19, 2416, 8238,  887,   19,  887,\n",
       "           19,   19,  887,  887,   19,   19,  887,  887,  103,   19,   19,\n",
       "          103,  887,   19,   19]),\n",
       "  array([3607, 3607, 3607, 3607, 3607, 5322, 3607, 3607, 3607, 3607, 5322,\n",
       "         1723, 3607, 3607, 3607, 4014, 3607, 3607, 3607, 3607,  201, 5322,\n",
       "         1723, 5322, 5322, 3168, 1594, 3168, 3168, 8419, 8419, 8419, 1594,\n",
       "         1594, 5322, 3607, 3607, 3607, 3607, 3607, 5463, 5463, 7367, 4014,\n",
       "         4014, 3607, 3607, 5322, 3607, 3607, 7367, 5322,  201, 3607, 3607,\n",
       "         3607, 5322, 5322, 3607, 3607, 3607, 2952, 1594, 1594, 8419, 8419,\n",
       "         8609, 8419, 1594, 2952, 3607, 3607, 3607, 3607, 3607, 3607, 3607,\n",
       "         3607, 1594, 2952, 3830, 3830,   27, 2952, 5322, 3607, 5322,  481,\n",
       "          201, 3607, 3607, 3607, 8609, 8609, 8609, 8609, 8419, 8419, 1594,\n",
       "         1594, 8419, 3830, 3168,  587, 1594, 1594, 1594, 2952, 1594, 7367,\n",
       "         5322, 3607, 5463, 5463, 5322, 5322, 4014, 3607, 3607, 5322, 3607,\n",
       "         3607, 3607, 3607, 5322, 3607, 3607, 3607,  839, 3607, 3607, 8419,\n",
       "         8419, 2952, 1594, 1116, 3168, 3168, 8609, 1594,  201, 5322, 5322,\n",
       "         8419, 8419, 8419, 1594, 1594, 8609, 8419, 1594, 3168, 3830, 2952,\n",
       "         1594, 8609, 8609, 8609, 8609, 3607,  839, 3607, 1594,  587, 8419,\n",
       "         8609, 2952, 2952, 1594, 1594, 4014, 5322, 5322,  481, 4014, 5322,\n",
       "         3607, 5322, 3168, 8419, 1594, 2952, 2952, 2952, 2952, 1594, 2952,\n",
       "         8609, 2952, 8419, 8419, 8419, 8419, 8419, 8609, 4014, 4014, 3607,\n",
       "         3607, 3607, 3607])],\n",
       " array([ 289, 2196, 3607]))"
      ]
     },
     "execution_count": 110,
     "metadata": {},
     "output_type": "execute_result"
    }
   ],
   "source": [
    "output_labels_pred, test_speakers"
   ]
  },
  {
   "cell_type": "code",
   "execution_count": 118,
   "metadata": {},
   "outputs": [
    {
     "name": "stdout",
     "output_type": "stream",
     "text": [
      "Predicted_label: 6454 \n",
      "Actual label: 6454\n"
     ]
    }
   ],
   "source": [
    "from collections import Counter\n",
    "print(\"Predicted_label:\", Counter(output_labels_pred[0]).most_common(1)[0][0], \"\\nActual label:\",test_speakers[0])"
   ]
  },
  {
   "cell_type": "code",
   "execution_count": 149,
   "metadata": {},
   "outputs": [
    {
     "name": "stdout",
     "output_type": "stream",
     "text": [
      "/Users/sanmathikamath/projects/voicemap-master/data/LibriSpeech/dev-clean/84/121123/84-121123-0026.flac\n"
     ]
    }
   ],
   "source": [
    "##Unknown speaker predictions for sliding window\n",
    "unknown = valid.df['filepath'][0]\n",
    "import soundfile as sf\n",
    "sr = 16000\n",
    "n_seconds=3\n",
    "block_size = n_seconds*sr\n",
    "output_labels_pred =[]\n",
    "for file in [unknown]:\n",
    "    print(file)\n",
    "    blocks = sf.blocks(file, blocksize=block_size, overlap = block_size//2)\n",
    "    instances=[]\n",
    "    for j in blocks :\n",
    "        instances.append(j)\n",
    "    instances = np.array(instances[:-1])\n",
    "    query_instance_ = preprocessor.instance_preprocessor(instances[:,:,np.newaxis])\n",
    "    emb_testing = encoder.predict(query_instance_)\n",
    "    output_labels_pred.append(clf.predict(emb_testing))"
   ]
  },
  {
   "cell_type": "code",
   "execution_count": 146,
   "metadata": {},
   "outputs": [
    {
     "data": {
      "text/plain": [
       "[array([5778, 1502, 8123, 5778, 1502, 1502, 1502, 5778])]"
      ]
     },
     "execution_count": 146,
     "metadata": {},
     "output_type": "execute_result"
    }
   ],
   "source": [
    "output_labels_pred"
   ]
  },
  {
   "cell_type": "code",
   "execution_count": 150,
   "metadata": {},
   "outputs": [
    {
     "data": {
      "text/plain": [
       "0.8666098444491797"
      ]
     },
     "execution_count": 150,
     "metadata": {},
     "output_type": "execute_result"
    }
   ],
   "source": [
    "accuracy_score(y_val, y_pred)"
   ]
  },
  {
   "cell_type": "markdown",
   "metadata": {},
   "source": [
    "### EER"
   ]
  },
  {
   "cell_type": "code",
   "execution_count": 24,
   "metadata": {},
   "outputs": [
    {
     "name": "stdout",
     "output_type": "stream",
     "text": [
      "(19056, 250)\n"
     ]
    }
   ],
   "source": [
    "# y_pred = clf.predict(val_emb)\n",
    "# y_val = y_test\n",
    "from sklearn.multiclass import OneVsRestClassifier\n",
    "from sklearn.preprocessing import label_binarize\n",
    "#y_pred == y_val\n",
    "#y_val, y_pred\n",
    "y_b = label_binarize(y_tr, classes=np.unique(y_tr))\n",
    "print(y_b.shape)"
   ]
  },
  {
   "cell_type": "code",
   "execution_count": 25,
   "metadata": {
    "scrolled": true
   },
   "outputs": [
    {
     "name": "stdout",
     "output_type": "stream",
     "text": [
      "OneVsRestClassifier(estimator=SVC(C=1.0, cache_size=200, class_weight=None, coef0=0.0,\n",
      "  decision_function_shape='ovr', degree=3, gamma='scale', kernel='rbf',\n",
      "  max_iter=-1, probability=True, random_state=None, shrinking=True,\n",
      "  tol=0.001, verbose=False),\n",
      "          n_jobs=None)\n"
     ]
    },
    {
     "ename": "KeyboardInterrupt",
     "evalue": "",
     "output_type": "error",
     "traceback": [
      "\u001b[0;31m---------------------------------------------------------------------------\u001b[0m",
      "\u001b[0;31mKeyboardInterrupt\u001b[0m                         Traceback (most recent call last)",
      "\u001b[0;32m<ipython-input-25-81ca3f19bf11>\u001b[0m in \u001b[0;36m<module>\u001b[0;34m()\u001b[0m\n\u001b[1;32m      1\u001b[0m \u001b[0mclf3\u001b[0m \u001b[0;34m=\u001b[0m \u001b[0mOneVsRestClassifier\u001b[0m\u001b[0;34m(\u001b[0m\u001b[0msvm\u001b[0m\u001b[0;34m.\u001b[0m\u001b[0mSVC\u001b[0m\u001b[0;34m(\u001b[0m\u001b[0mgamma\u001b[0m \u001b[0;34m=\u001b[0m \u001b[0;34m'scale'\u001b[0m\u001b[0;34m,\u001b[0m \u001b[0mprobability\u001b[0m\u001b[0;34m=\u001b[0m\u001b[0;32mTrue\u001b[0m\u001b[0;34m)\u001b[0m\u001b[0;34m)\u001b[0m\u001b[0;34m\u001b[0m\u001b[0m\n\u001b[1;32m      2\u001b[0m \u001b[0mprint\u001b[0m\u001b[0;34m(\u001b[0m\u001b[0mclf3\u001b[0m\u001b[0;34m)\u001b[0m\u001b[0;34m\u001b[0m\u001b[0m\n\u001b[0;32m----> 3\u001b[0;31m \u001b[0mclf3\u001b[0m\u001b[0;34m.\u001b[0m\u001b[0mfit\u001b[0m\u001b[0;34m(\u001b[0m\u001b[0mX_tr\u001b[0m\u001b[0;34m,\u001b[0m \u001b[0my_b\u001b[0m\u001b[0;34m)\u001b[0m\u001b[0;34m\u001b[0m\u001b[0m\n\u001b[0m",
      "\u001b[0;32m~/anaconda3/lib/python3.6/site-packages/sklearn/multiclass.py\u001b[0m in \u001b[0;36mfit\u001b[0;34m(self, X, y)\u001b[0m\n\u001b[1;32m    213\u001b[0m                 \u001b[0;34m\"not %s\"\u001b[0m \u001b[0;34m%\u001b[0m \u001b[0mself\u001b[0m\u001b[0;34m.\u001b[0m\u001b[0mlabel_binarizer_\u001b[0m\u001b[0;34m.\u001b[0m\u001b[0mclasses_\u001b[0m\u001b[0;34m[\u001b[0m\u001b[0mi\u001b[0m\u001b[0;34m]\u001b[0m\u001b[0;34m,\u001b[0m\u001b[0;34m\u001b[0m\u001b[0m\n\u001b[1;32m    214\u001b[0m                 self.label_binarizer_.classes_[i]])\n\u001b[0;32m--> 215\u001b[0;31m             for i, column in enumerate(columns))\n\u001b[0m\u001b[1;32m    216\u001b[0m \u001b[0;34m\u001b[0m\u001b[0m\n\u001b[1;32m    217\u001b[0m         \u001b[0;32mreturn\u001b[0m \u001b[0mself\u001b[0m\u001b[0;34m\u001b[0m\u001b[0m\n",
      "\u001b[0;32m~/anaconda3/lib/python3.6/site-packages/sklearn/externals/joblib/parallel.py\u001b[0m in \u001b[0;36m__call__\u001b[0;34m(self, iterable)\u001b[0m\n\u001b[1;32m    918\u001b[0m                 \u001b[0mself\u001b[0m\u001b[0;34m.\u001b[0m\u001b[0m_iterating\u001b[0m \u001b[0;34m=\u001b[0m \u001b[0mself\u001b[0m\u001b[0;34m.\u001b[0m\u001b[0m_original_iterator\u001b[0m \u001b[0;32mis\u001b[0m \u001b[0;32mnot\u001b[0m \u001b[0;32mNone\u001b[0m\u001b[0;34m\u001b[0m\u001b[0m\n\u001b[1;32m    919\u001b[0m \u001b[0;34m\u001b[0m\u001b[0m\n\u001b[0;32m--> 920\u001b[0;31m             \u001b[0;32mwhile\u001b[0m \u001b[0mself\u001b[0m\u001b[0;34m.\u001b[0m\u001b[0mdispatch_one_batch\u001b[0m\u001b[0;34m(\u001b[0m\u001b[0miterator\u001b[0m\u001b[0;34m)\u001b[0m\u001b[0;34m:\u001b[0m\u001b[0;34m\u001b[0m\u001b[0m\n\u001b[0m\u001b[1;32m    921\u001b[0m                 \u001b[0;32mpass\u001b[0m\u001b[0;34m\u001b[0m\u001b[0m\n\u001b[1;32m    922\u001b[0m \u001b[0;34m\u001b[0m\u001b[0m\n",
      "\u001b[0;32m~/anaconda3/lib/python3.6/site-packages/sklearn/externals/joblib/parallel.py\u001b[0m in \u001b[0;36mdispatch_one_batch\u001b[0;34m(self, iterator)\u001b[0m\n\u001b[1;32m    757\u001b[0m                 \u001b[0;32mreturn\u001b[0m \u001b[0;32mFalse\u001b[0m\u001b[0;34m\u001b[0m\u001b[0m\n\u001b[1;32m    758\u001b[0m             \u001b[0;32melse\u001b[0m\u001b[0;34m:\u001b[0m\u001b[0;34m\u001b[0m\u001b[0m\n\u001b[0;32m--> 759\u001b[0;31m                 \u001b[0mself\u001b[0m\u001b[0;34m.\u001b[0m\u001b[0m_dispatch\u001b[0m\u001b[0;34m(\u001b[0m\u001b[0mtasks\u001b[0m\u001b[0;34m)\u001b[0m\u001b[0;34m\u001b[0m\u001b[0m\n\u001b[0m\u001b[1;32m    760\u001b[0m                 \u001b[0;32mreturn\u001b[0m \u001b[0;32mTrue\u001b[0m\u001b[0;34m\u001b[0m\u001b[0m\n\u001b[1;32m    761\u001b[0m \u001b[0;34m\u001b[0m\u001b[0m\n",
      "\u001b[0;32m~/anaconda3/lib/python3.6/site-packages/sklearn/externals/joblib/parallel.py\u001b[0m in \u001b[0;36m_dispatch\u001b[0;34m(self, batch)\u001b[0m\n\u001b[1;32m    714\u001b[0m         \u001b[0;32mwith\u001b[0m \u001b[0mself\u001b[0m\u001b[0;34m.\u001b[0m\u001b[0m_lock\u001b[0m\u001b[0;34m:\u001b[0m\u001b[0;34m\u001b[0m\u001b[0m\n\u001b[1;32m    715\u001b[0m             \u001b[0mjob_idx\u001b[0m \u001b[0;34m=\u001b[0m \u001b[0mlen\u001b[0m\u001b[0;34m(\u001b[0m\u001b[0mself\u001b[0m\u001b[0;34m.\u001b[0m\u001b[0m_jobs\u001b[0m\u001b[0;34m)\u001b[0m\u001b[0;34m\u001b[0m\u001b[0m\n\u001b[0;32m--> 716\u001b[0;31m             \u001b[0mjob\u001b[0m \u001b[0;34m=\u001b[0m \u001b[0mself\u001b[0m\u001b[0;34m.\u001b[0m\u001b[0m_backend\u001b[0m\u001b[0;34m.\u001b[0m\u001b[0mapply_async\u001b[0m\u001b[0;34m(\u001b[0m\u001b[0mbatch\u001b[0m\u001b[0;34m,\u001b[0m \u001b[0mcallback\u001b[0m\u001b[0;34m=\u001b[0m\u001b[0mcb\u001b[0m\u001b[0;34m)\u001b[0m\u001b[0;34m\u001b[0m\u001b[0m\n\u001b[0m\u001b[1;32m    717\u001b[0m             \u001b[0;31m# A job can complete so quickly than its callback is\u001b[0m\u001b[0;34m\u001b[0m\u001b[0;34m\u001b[0m\u001b[0m\n\u001b[1;32m    718\u001b[0m             \u001b[0;31m# called before we get here, causing self._jobs to\u001b[0m\u001b[0;34m\u001b[0m\u001b[0;34m\u001b[0m\u001b[0m\n",
      "\u001b[0;32m~/anaconda3/lib/python3.6/site-packages/sklearn/externals/joblib/_parallel_backends.py\u001b[0m in \u001b[0;36mapply_async\u001b[0;34m(self, func, callback)\u001b[0m\n\u001b[1;32m    180\u001b[0m     \u001b[0;32mdef\u001b[0m \u001b[0mapply_async\u001b[0m\u001b[0;34m(\u001b[0m\u001b[0mself\u001b[0m\u001b[0;34m,\u001b[0m \u001b[0mfunc\u001b[0m\u001b[0;34m,\u001b[0m \u001b[0mcallback\u001b[0m\u001b[0;34m=\u001b[0m\u001b[0;32mNone\u001b[0m\u001b[0;34m)\u001b[0m\u001b[0;34m:\u001b[0m\u001b[0;34m\u001b[0m\u001b[0m\n\u001b[1;32m    181\u001b[0m         \u001b[0;34m\"\"\"Schedule a func to be run\"\"\"\u001b[0m\u001b[0;34m\u001b[0m\u001b[0m\n\u001b[0;32m--> 182\u001b[0;31m         \u001b[0mresult\u001b[0m \u001b[0;34m=\u001b[0m \u001b[0mImmediateResult\u001b[0m\u001b[0;34m(\u001b[0m\u001b[0mfunc\u001b[0m\u001b[0;34m)\u001b[0m\u001b[0;34m\u001b[0m\u001b[0m\n\u001b[0m\u001b[1;32m    183\u001b[0m         \u001b[0;32mif\u001b[0m \u001b[0mcallback\u001b[0m\u001b[0;34m:\u001b[0m\u001b[0;34m\u001b[0m\u001b[0m\n\u001b[1;32m    184\u001b[0m             \u001b[0mcallback\u001b[0m\u001b[0;34m(\u001b[0m\u001b[0mresult\u001b[0m\u001b[0;34m)\u001b[0m\u001b[0;34m\u001b[0m\u001b[0m\n",
      "\u001b[0;32m~/anaconda3/lib/python3.6/site-packages/sklearn/externals/joblib/_parallel_backends.py\u001b[0m in \u001b[0;36m__init__\u001b[0;34m(self, batch)\u001b[0m\n\u001b[1;32m    547\u001b[0m         \u001b[0;31m# Don't delay the application, to avoid keeping the input\u001b[0m\u001b[0;34m\u001b[0m\u001b[0;34m\u001b[0m\u001b[0m\n\u001b[1;32m    548\u001b[0m         \u001b[0;31m# arguments in memory\u001b[0m\u001b[0;34m\u001b[0m\u001b[0;34m\u001b[0m\u001b[0m\n\u001b[0;32m--> 549\u001b[0;31m         \u001b[0mself\u001b[0m\u001b[0;34m.\u001b[0m\u001b[0mresults\u001b[0m \u001b[0;34m=\u001b[0m \u001b[0mbatch\u001b[0m\u001b[0;34m(\u001b[0m\u001b[0;34m)\u001b[0m\u001b[0;34m\u001b[0m\u001b[0m\n\u001b[0m\u001b[1;32m    550\u001b[0m \u001b[0;34m\u001b[0m\u001b[0m\n\u001b[1;32m    551\u001b[0m     \u001b[0;32mdef\u001b[0m \u001b[0mget\u001b[0m\u001b[0;34m(\u001b[0m\u001b[0mself\u001b[0m\u001b[0;34m)\u001b[0m\u001b[0;34m:\u001b[0m\u001b[0;34m\u001b[0m\u001b[0m\n",
      "\u001b[0;32m~/anaconda3/lib/python3.6/site-packages/sklearn/externals/joblib/parallel.py\u001b[0m in \u001b[0;36m__call__\u001b[0;34m(self)\u001b[0m\n\u001b[1;32m    223\u001b[0m         \u001b[0;32mwith\u001b[0m \u001b[0mparallel_backend\u001b[0m\u001b[0;34m(\u001b[0m\u001b[0mself\u001b[0m\u001b[0;34m.\u001b[0m\u001b[0m_backend\u001b[0m\u001b[0;34m,\u001b[0m \u001b[0mn_jobs\u001b[0m\u001b[0;34m=\u001b[0m\u001b[0mself\u001b[0m\u001b[0;34m.\u001b[0m\u001b[0m_n_jobs\u001b[0m\u001b[0;34m)\u001b[0m\u001b[0;34m:\u001b[0m\u001b[0;34m\u001b[0m\u001b[0m\n\u001b[1;32m    224\u001b[0m             return [func(*args, **kwargs)\n\u001b[0;32m--> 225\u001b[0;31m                     for func, args, kwargs in self.items]\n\u001b[0m\u001b[1;32m    226\u001b[0m \u001b[0;34m\u001b[0m\u001b[0m\n\u001b[1;32m    227\u001b[0m     \u001b[0;32mdef\u001b[0m \u001b[0m__len__\u001b[0m\u001b[0;34m(\u001b[0m\u001b[0mself\u001b[0m\u001b[0;34m)\u001b[0m\u001b[0;34m:\u001b[0m\u001b[0;34m\u001b[0m\u001b[0m\n",
      "\u001b[0;32m~/anaconda3/lib/python3.6/site-packages/sklearn/externals/joblib/parallel.py\u001b[0m in \u001b[0;36m<listcomp>\u001b[0;34m(.0)\u001b[0m\n\u001b[1;32m    223\u001b[0m         \u001b[0;32mwith\u001b[0m \u001b[0mparallel_backend\u001b[0m\u001b[0;34m(\u001b[0m\u001b[0mself\u001b[0m\u001b[0;34m.\u001b[0m\u001b[0m_backend\u001b[0m\u001b[0;34m,\u001b[0m \u001b[0mn_jobs\u001b[0m\u001b[0;34m=\u001b[0m\u001b[0mself\u001b[0m\u001b[0;34m.\u001b[0m\u001b[0m_n_jobs\u001b[0m\u001b[0;34m)\u001b[0m\u001b[0;34m:\u001b[0m\u001b[0;34m\u001b[0m\u001b[0m\n\u001b[1;32m    224\u001b[0m             return [func(*args, **kwargs)\n\u001b[0;32m--> 225\u001b[0;31m                     for func, args, kwargs in self.items]\n\u001b[0m\u001b[1;32m    226\u001b[0m \u001b[0;34m\u001b[0m\u001b[0m\n\u001b[1;32m    227\u001b[0m     \u001b[0;32mdef\u001b[0m \u001b[0m__len__\u001b[0m\u001b[0;34m(\u001b[0m\u001b[0mself\u001b[0m\u001b[0;34m)\u001b[0m\u001b[0;34m:\u001b[0m\u001b[0;34m\u001b[0m\u001b[0m\n",
      "\u001b[0;32m~/anaconda3/lib/python3.6/site-packages/sklearn/multiclass.py\u001b[0m in \u001b[0;36m_fit_binary\u001b[0;34m(estimator, X, y, classes)\u001b[0m\n\u001b[1;32m     78\u001b[0m     \u001b[0;32melse\u001b[0m\u001b[0;34m:\u001b[0m\u001b[0;34m\u001b[0m\u001b[0m\n\u001b[1;32m     79\u001b[0m         \u001b[0mestimator\u001b[0m \u001b[0;34m=\u001b[0m \u001b[0mclone\u001b[0m\u001b[0;34m(\u001b[0m\u001b[0mestimator\u001b[0m\u001b[0;34m)\u001b[0m\u001b[0;34m\u001b[0m\u001b[0m\n\u001b[0;32m---> 80\u001b[0;31m         \u001b[0mestimator\u001b[0m\u001b[0;34m.\u001b[0m\u001b[0mfit\u001b[0m\u001b[0;34m(\u001b[0m\u001b[0mX\u001b[0m\u001b[0;34m,\u001b[0m \u001b[0my\u001b[0m\u001b[0;34m)\u001b[0m\u001b[0;34m\u001b[0m\u001b[0m\n\u001b[0m\u001b[1;32m     81\u001b[0m     \u001b[0;32mreturn\u001b[0m \u001b[0mestimator\u001b[0m\u001b[0;34m\u001b[0m\u001b[0m\n\u001b[1;32m     82\u001b[0m \u001b[0;34m\u001b[0m\u001b[0m\n",
      "\u001b[0;32m~/anaconda3/lib/python3.6/site-packages/sklearn/svm/base.py\u001b[0m in \u001b[0;36mfit\u001b[0;34m(self, X, y, sample_weight)\u001b[0m\n\u001b[1;32m    210\u001b[0m \u001b[0;34m\u001b[0m\u001b[0m\n\u001b[1;32m    211\u001b[0m         \u001b[0mseed\u001b[0m \u001b[0;34m=\u001b[0m \u001b[0mrnd\u001b[0m\u001b[0;34m.\u001b[0m\u001b[0mrandint\u001b[0m\u001b[0;34m(\u001b[0m\u001b[0mnp\u001b[0m\u001b[0;34m.\u001b[0m\u001b[0miinfo\u001b[0m\u001b[0;34m(\u001b[0m\u001b[0;34m'i'\u001b[0m\u001b[0;34m)\u001b[0m\u001b[0;34m.\u001b[0m\u001b[0mmax\u001b[0m\u001b[0;34m)\u001b[0m\u001b[0;34m\u001b[0m\u001b[0m\n\u001b[0;32m--> 212\u001b[0;31m         \u001b[0mfit\u001b[0m\u001b[0;34m(\u001b[0m\u001b[0mX\u001b[0m\u001b[0;34m,\u001b[0m \u001b[0my\u001b[0m\u001b[0;34m,\u001b[0m \u001b[0msample_weight\u001b[0m\u001b[0;34m,\u001b[0m \u001b[0msolver_type\u001b[0m\u001b[0;34m,\u001b[0m \u001b[0mkernel\u001b[0m\u001b[0;34m,\u001b[0m \u001b[0mrandom_seed\u001b[0m\u001b[0;34m=\u001b[0m\u001b[0mseed\u001b[0m\u001b[0;34m)\u001b[0m\u001b[0;34m\u001b[0m\u001b[0m\n\u001b[0m\u001b[1;32m    213\u001b[0m         \u001b[0;31m# see comment on the other call to np.iinfo in this file\u001b[0m\u001b[0;34m\u001b[0m\u001b[0;34m\u001b[0m\u001b[0m\n\u001b[1;32m    214\u001b[0m \u001b[0;34m\u001b[0m\u001b[0m\n",
      "\u001b[0;32m~/anaconda3/lib/python3.6/site-packages/sklearn/svm/base.py\u001b[0m in \u001b[0;36m_dense_fit\u001b[0;34m(self, X, y, sample_weight, solver_type, kernel, random_seed)\u001b[0m\n\u001b[1;32m    269\u001b[0m                 \u001b[0mcache_size\u001b[0m\u001b[0;34m=\u001b[0m\u001b[0mself\u001b[0m\u001b[0;34m.\u001b[0m\u001b[0mcache_size\u001b[0m\u001b[0;34m,\u001b[0m \u001b[0mcoef0\u001b[0m\u001b[0;34m=\u001b[0m\u001b[0mself\u001b[0m\u001b[0;34m.\u001b[0m\u001b[0mcoef0\u001b[0m\u001b[0;34m,\u001b[0m\u001b[0;34m\u001b[0m\u001b[0m\n\u001b[1;32m    270\u001b[0m                 \u001b[0mgamma\u001b[0m\u001b[0;34m=\u001b[0m\u001b[0mself\u001b[0m\u001b[0;34m.\u001b[0m\u001b[0m_gamma\u001b[0m\u001b[0;34m,\u001b[0m \u001b[0mepsilon\u001b[0m\u001b[0;34m=\u001b[0m\u001b[0mself\u001b[0m\u001b[0;34m.\u001b[0m\u001b[0mepsilon\u001b[0m\u001b[0;34m,\u001b[0m\u001b[0;34m\u001b[0m\u001b[0m\n\u001b[0;32m--> 271\u001b[0;31m                 max_iter=self.max_iter, random_seed=random_seed)\n\u001b[0m\u001b[1;32m    272\u001b[0m \u001b[0;34m\u001b[0m\u001b[0m\n\u001b[1;32m    273\u001b[0m         \u001b[0mself\u001b[0m\u001b[0;34m.\u001b[0m\u001b[0m_warn_from_fit_status\u001b[0m\u001b[0;34m(\u001b[0m\u001b[0;34m)\u001b[0m\u001b[0;34m\u001b[0m\u001b[0m\n",
      "\u001b[0;31mKeyboardInterrupt\u001b[0m: "
     ]
    }
   ],
   "source": [
    "clf3 = OneVsRestClassifier(svm.SVC(gamma = 'scale', probability=True))\n",
    "print(clf3)\n",
    "clf3.fit(X_tr, y_b) "
   ]
  },
  {
   "cell_type": "code",
   "execution_count": null,
   "metadata": {},
   "outputs": [],
   "source": [
    "y_pred  = clf3.predict(val_emb)"
   ]
  },
  {
   "cell_type": "code",
   "execution_count": null,
   "metadata": {},
   "outputs": [],
   "source": [
    "probs3 = clf3.predict_proba(val_emb) "
   ]
  },
  {
   "cell_type": "code",
   "execution_count": null,
   "metadata": {},
   "outputs": [],
   "source": [
    "#np.sum(probs3, axis = 0).shape\n",
    "#clf3.multilabel_\n",
    "y_vb = label_binarize(y_val, classes=np.unique(y_tr))\n",
    "print(y_vb.shape, y_b.shape)"
   ]
  },
  {
   "cell_type": "code",
   "execution_count": null,
   "metadata": {},
   "outputs": [],
   "source": [
    "#EER\n",
    "from sklearn.metrics import roc_curve\n",
    "# Compute ROC curve \n",
    "n_classes = 250\n",
    "EER = dict()\n",
    "#roc_auc = dict()\n",
    "sum_eer = 0\n",
    "for i in range(n_classes):\n",
    "    fpr, tpr, threshold = roc_curve(y_vb[:, i], y_pred[:, i])\n",
    "    #roc_auc[i] = auc(fpr, tpr)\n",
    "    fnr = 1 - tpr\n",
    "    eer_threshold = threshold[np.nanargmin(np.absolute((fnr - fpr)))]\n",
    "    EER[i] = fpr[np.nanargmin(np.absolute((fnr - fpr)))]\n",
    "    sum_eer+=EER[i]\n",
    "print(\"mean EER(%):\", sum_eer/250*100)"
   ]
  },
  {
   "cell_type": "code",
   "execution_count": 101,
   "metadata": {},
   "outputs": [
    {
     "name": "stdout",
     "output_type": "stream",
     "text": [
      "Mean EER over all classes 5.17795154332852e-05\n"
     ]
    }
   ],
   "source": [
    "print(\"Mean EER over all classes\", sum(EER.values())/250)"
   ]
  },
  {
   "cell_type": "code",
   "execution_count": 100,
   "metadata": {},
   "outputs": [
    {
     "data": {
      "text/plain": [
       "0.870658427445131"
      ]
     },
     "execution_count": 100,
     "metadata": {},
     "output_type": "execute_result"
    }
   ],
   "source": [
    "y_pred_class = np.unique(y_val)[np.argmax(probs3, axis =1)]\n",
    "accuracy_score(y_val, y_pred_class)"
   ]
  },
  {
   "cell_type": "code",
   "execution_count": 163,
   "metadata": {},
   "outputs": [
    {
     "ename": "AttributeError",
     "evalue": "predict_proba is not available when  probability=False",
     "output_type": "error",
     "traceback": [
      "\u001b[0;31m---------------------------------------------------------------------------\u001b[0m",
      "\u001b[0;31mAttributeError\u001b[0m                            Traceback (most recent call last)",
      "\u001b[0;32m<ipython-input-163-1b1a0d0cfca4>\u001b[0m in \u001b[0;36m<module>\u001b[0;34m()\u001b[0m\n\u001b[0;32m----> 1\u001b[0;31m \u001b[0mprobs\u001b[0m \u001b[0;34m=\u001b[0m \u001b[0mclf\u001b[0m\u001b[0;34m.\u001b[0m\u001b[0mpredict_proba\u001b[0m\u001b[0;34m(\u001b[0m\u001b[0mval_emb\u001b[0m\u001b[0;34m)\u001b[0m\u001b[0;34m\u001b[0m\u001b[0m\n\u001b[0m\u001b[1;32m      2\u001b[0m \u001b[0mprobs\u001b[0m\u001b[0;34m\u001b[0m\u001b[0m\n",
      "\u001b[0;32m~/anaconda3/lib/python3.6/site-packages/sklearn/svm/base.py\u001b[0m in \u001b[0;36mpredict_proba\u001b[0;34m(self)\u001b[0m\n\u001b[1;32m    616\u001b[0m         \u001b[0mdatasets\u001b[0m\u001b[0;34m.\u001b[0m\u001b[0;34m\u001b[0m\u001b[0m\n\u001b[1;32m    617\u001b[0m         \"\"\"\n\u001b[0;32m--> 618\u001b[0;31m         \u001b[0mself\u001b[0m\u001b[0;34m.\u001b[0m\u001b[0m_check_proba\u001b[0m\u001b[0;34m(\u001b[0m\u001b[0;34m)\u001b[0m\u001b[0;34m\u001b[0m\u001b[0m\n\u001b[0m\u001b[1;32m    619\u001b[0m         \u001b[0;32mreturn\u001b[0m \u001b[0mself\u001b[0m\u001b[0;34m.\u001b[0m\u001b[0m_predict_proba\u001b[0m\u001b[0;34m\u001b[0m\u001b[0m\n\u001b[1;32m    620\u001b[0m \u001b[0;34m\u001b[0m\u001b[0m\n",
      "\u001b[0;32m~/anaconda3/lib/python3.6/site-packages/sklearn/svm/base.py\u001b[0m in \u001b[0;36m_check_proba\u001b[0;34m(self)\u001b[0m\n\u001b[1;32m    583\u001b[0m     \u001b[0;32mdef\u001b[0m \u001b[0m_check_proba\u001b[0m\u001b[0;34m(\u001b[0m\u001b[0mself\u001b[0m\u001b[0;34m)\u001b[0m\u001b[0;34m:\u001b[0m\u001b[0;34m\u001b[0m\u001b[0m\n\u001b[1;32m    584\u001b[0m         \u001b[0;32mif\u001b[0m \u001b[0;32mnot\u001b[0m \u001b[0mself\u001b[0m\u001b[0;34m.\u001b[0m\u001b[0mprobability\u001b[0m\u001b[0;34m:\u001b[0m\u001b[0;34m\u001b[0m\u001b[0m\n\u001b[0;32m--> 585\u001b[0;31m             raise AttributeError(\"predict_proba is not available when \"\n\u001b[0m\u001b[1;32m    586\u001b[0m                                  \" probability=False\")\n\u001b[1;32m    587\u001b[0m         \u001b[0;32mif\u001b[0m \u001b[0mself\u001b[0m\u001b[0;34m.\u001b[0m\u001b[0m_impl\u001b[0m \u001b[0;32mnot\u001b[0m \u001b[0;32min\u001b[0m \u001b[0;34m(\u001b[0m\u001b[0;34m'c_svc'\u001b[0m\u001b[0;34m,\u001b[0m \u001b[0;34m'nu_svc'\u001b[0m\u001b[0;34m)\u001b[0m\u001b[0;34m:\u001b[0m\u001b[0;34m\u001b[0m\u001b[0m\n",
      "\u001b[0;31mAttributeError\u001b[0m: predict_proba is not available when  probability=False"
     ]
    }
   ],
   "source": [
    "probs = clf.predict_proba(val_emb)\n",
    "probs\n"
   ]
  },
  {
   "cell_type": "markdown",
   "metadata": {},
   "source": [
    "### KMeans Clustering"
   ]
  },
  {
   "cell_type": "code",
   "execution_count": 41,
   "metadata": {},
   "outputs": [],
   "source": [
    "from sklearn.cluster import KMeans\n",
    "from sklearn import metrics\n",
    "from time import time\n",
    "X_train = emb\n",
    "from sklearn.decomposition import PCA\n",
    "#https://scikit-learn.org/stable/auto_examples/cluster/plot_kmeans_digits.html#sphx-glr-auto-examples-cluster-plot-kmeans-digits-py\n",
    "def bench_k_means(estimator, name, data, labels):\n",
    "    t0 = time()\n",
    "    estimator.fit(data)\n",
    "    print('%-9s\\t%.2fs\\t%i\\t%.3f\\t%.3f\\t%.3f\\t%.3f\\t%.3f\\t%.3f'\n",
    "          % (name, (time() - t0), estimator.inertia_,\n",
    "             metrics.homogeneity_score(labels, estimator.labels_),\n",
    "             metrics.completeness_score(labels, estimator.labels_),\n",
    "             metrics.v_measure_score(labels, estimator.labels_),\n",
    "             metrics.adjusted_rand_score(labels, estimator.labels_),\n",
    "             metrics.adjusted_mutual_info_score(labels,  estimator.labels_,\n",
    "                                                average_method='arithmetic'),\n",
    "             metrics.silhouette_score(data, estimator.labels_,\n",
    "                                      metric='euclidean',\n",
    "                                      sample_size=len(data))))\n",
    "\n",
    "    return estimator"
   ]
  },
  {
   "cell_type": "code",
   "execution_count": 42,
   "metadata": {},
   "outputs": [
    {
     "name": "stdout",
     "output_type": "stream",
     "text": [
      "init\t\ttime\tinertia\thomo\tcompl\tv-meas\tARI\tAMI\tsilhouette\n",
      "random initialization\t15.81s\t400260\t0.815\t0.822\t0.818\t0.512\t0.760\t0.213\n"
     ]
    }
   ],
   "source": [
    "print('init\\t\\ttime\\tinertia\\thomo\\tcompl\\tv-meas\\tARI\\tAMI\\tsilhouette')\n",
    "km = bench_k_means(KMeans(init='random', n_clusters=250, n_init=10),\n",
    "              name=\"random initialization\", data=X_train, labels = y_train)\n"
   ]
  },
  {
   "cell_type": "code",
   "execution_count": 154,
   "metadata": {},
   "outputs": [
    {
     "data": {
      "text/plain": [
       "0.00020990764063811922"
      ]
     },
     "execution_count": 154,
     "metadata": {},
     "output_type": "execute_result"
    }
   ],
   "source": [
    "y_clus = km.predict(X_train)\n",
    "np.unique(y_clus)"
   ]
  },
  {
   "cell_type": "markdown",
   "metadata": {},
   "source": [
    "## Code Profiling"
   ]
  },
  {
   "cell_type": "code",
   "execution_count": null,
   "metadata": {},
   "outputs": [],
   "source": []
  }
 ],
 "metadata": {
  "kernelspec": {
   "display_name": "Python 3",
   "language": "python",
   "name": "python3"
  },
  "language_info": {
   "codemirror_mode": {
    "name": "ipython",
    "version": 3
   },
   "file_extension": ".py",
   "mimetype": "text/x-python",
   "name": "python",
   "nbconvert_exporter": "python",
   "pygments_lexer": "ipython3",
   "version": "3.6.10"
  }
 },
 "nbformat": 4,
 "nbformat_minor": 2
}
